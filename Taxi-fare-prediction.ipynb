{
  "nbformat": 4,
  "nbformat_minor": 0,
  "metadata": {
    "colab": {
      "provenance": [],
      "collapsed_sections": [
        "wYBtsWuvZwG2",
        "HGaGfKCL1EYQ"
      ],
      "toc_visible": true
    },
    "kernelspec": {
      "name": "python3",
      "display_name": "Python 3"
    },
    "language_info": {
      "name": "python"
    }
  },
  "cells": [
    {
      "cell_type": "markdown",
      "source": [
        "* Kota Ajay Kumar\n",
        "* 12040780\n",
        "* References used for assignment\n",
        "  * https://keras.io/api/layers/activations/ - for activation functions\n",
        "  * https://www.analyticsvidhya.com/blog/2018/04/fundamentals-deep-learning-regularization-techniques/ - for regularization\n",
        "  * https://machinelearningmastery.com/how-to-stop-training-deep-neural-networks-at-the-right-time-using-early-stopping/ - for Early stopping\n",
        "  * https://keras.io/api/optimizers/ - optimizers"
      ],
      "metadata": {
        "id": "KCdUlw6MbBHa"
      }
    },
    {
      "cell_type": "markdown",
      "source": [
        "#PART 1"
      ],
      "metadata": {
        "id": "pWZGs6L5Nopa"
      }
    },
    {
      "cell_type": "markdown",
      "source": [
        "## Get Data and Cleaning"
      ],
      "metadata": {
        "id": "wYBtsWuvZwG2"
      }
    },
    {
      "cell_type": "code",
      "source": [
        "import pandas as pd\n",
        "import numpy as np\n",
        "import seaborn as sns\n",
        "import matplotlib.pyplot as plt"
      ],
      "metadata": {
        "id": "5xFvu8sYZ5KA"
      },
      "execution_count": 1,
      "outputs": []
    },
    {
      "cell_type": "code",
      "source": [
        "# Load the Drive helper and mount\n",
        "from google.colab import drive\n",
        "\n",
        "# This will prompt for authorization.\n",
        "drive.mount('/content/drive')"
      ],
      "metadata": {
        "id": "esc1ngJSaBzb",
        "colab": {
          "base_uri": "https://localhost:8080/"
        },
        "outputId": "489dc653-c8f1-44ca-f1ba-0a95dcb8e7c7"
      },
      "execution_count": 2,
      "outputs": [
        {
          "output_type": "stream",
          "name": "stdout",
          "text": [
            "Drive already mounted at /content/drive; to attempt to forcibly remount, call drive.mount(\"/content/drive\", force_remount=True).\n"
          ]
        }
      ]
    },
    {
      "cell_type": "code",
      "source": [
        "#train data (which is too big so we take first 200000 rows from it)\n",
        "train = pd.read_csv(\"/content/drive/MyDrive/colab files/ml-assignment1/part1/train.csv\",nrows=200000)\n",
        "#test data\n",
        "test = pd.read_csv(\"/content/drive/MyDrive/colab files/ml-assignment1/part1/test.csv\")"
      ],
      "metadata": {
        "id": "BjubIvyGaE5X"
      },
      "execution_count": 3,
      "outputs": []
    },
    {
      "cell_type": "code",
      "source": [
        "train.head()"
      ],
      "metadata": {
        "colab": {
          "base_uri": "https://localhost:8080/",
          "height": 244
        },
        "id": "ecxwjcpybVJj",
        "outputId": "41be346a-57a0-4502-dd46-bd38a784eb33"
      },
      "execution_count": 4,
      "outputs": [
        {
          "output_type": "execute_result",
          "data": {
            "text/plain": [
              "                             key  fare_amount          pickup_datetime  \\\n",
              "0    2009-06-15 17:26:21.0000001          4.5  2009-06-15 17:26:21 UTC   \n",
              "1    2010-01-05 16:52:16.0000002         16.9  2010-01-05 16:52:16 UTC   \n",
              "2   2011-08-18 00:35:00.00000049          5.7  2011-08-18 00:35:00 UTC   \n",
              "3    2012-04-21 04:30:42.0000001          7.7  2012-04-21 04:30:42 UTC   \n",
              "4  2010-03-09 07:51:00.000000135          5.3  2010-03-09 07:51:00 UTC   \n",
              "\n",
              "   pickup_longitude  pickup_latitude  dropoff_longitude  dropoff_latitude  \\\n",
              "0        -73.844311        40.721319         -73.841610         40.712278   \n",
              "1        -74.016048        40.711303         -73.979268         40.782004   \n",
              "2        -73.982738        40.761270         -73.991242         40.750562   \n",
              "3        -73.987130        40.733143         -73.991567         40.758092   \n",
              "4        -73.968095        40.768008         -73.956655         40.783762   \n",
              "\n",
              "   passenger_count  \n",
              "0                1  \n",
              "1                1  \n",
              "2                2  \n",
              "3                1  \n",
              "4                1  "
            ],
            "text/html": [
              "\n",
              "  <div id=\"df-01030a05-0538-41b0-a741-c9ba3534ebb8\">\n",
              "    <div class=\"colab-df-container\">\n",
              "      <div>\n",
              "<style scoped>\n",
              "    .dataframe tbody tr th:only-of-type {\n",
              "        vertical-align: middle;\n",
              "    }\n",
              "\n",
              "    .dataframe tbody tr th {\n",
              "        vertical-align: top;\n",
              "    }\n",
              "\n",
              "    .dataframe thead th {\n",
              "        text-align: right;\n",
              "    }\n",
              "</style>\n",
              "<table border=\"1\" class=\"dataframe\">\n",
              "  <thead>\n",
              "    <tr style=\"text-align: right;\">\n",
              "      <th></th>\n",
              "      <th>key</th>\n",
              "      <th>fare_amount</th>\n",
              "      <th>pickup_datetime</th>\n",
              "      <th>pickup_longitude</th>\n",
              "      <th>pickup_latitude</th>\n",
              "      <th>dropoff_longitude</th>\n",
              "      <th>dropoff_latitude</th>\n",
              "      <th>passenger_count</th>\n",
              "    </tr>\n",
              "  </thead>\n",
              "  <tbody>\n",
              "    <tr>\n",
              "      <th>0</th>\n",
              "      <td>2009-06-15 17:26:21.0000001</td>\n",
              "      <td>4.5</td>\n",
              "      <td>2009-06-15 17:26:21 UTC</td>\n",
              "      <td>-73.844311</td>\n",
              "      <td>40.721319</td>\n",
              "      <td>-73.841610</td>\n",
              "      <td>40.712278</td>\n",
              "      <td>1</td>\n",
              "    </tr>\n",
              "    <tr>\n",
              "      <th>1</th>\n",
              "      <td>2010-01-05 16:52:16.0000002</td>\n",
              "      <td>16.9</td>\n",
              "      <td>2010-01-05 16:52:16 UTC</td>\n",
              "      <td>-74.016048</td>\n",
              "      <td>40.711303</td>\n",
              "      <td>-73.979268</td>\n",
              "      <td>40.782004</td>\n",
              "      <td>1</td>\n",
              "    </tr>\n",
              "    <tr>\n",
              "      <th>2</th>\n",
              "      <td>2011-08-18 00:35:00.00000049</td>\n",
              "      <td>5.7</td>\n",
              "      <td>2011-08-18 00:35:00 UTC</td>\n",
              "      <td>-73.982738</td>\n",
              "      <td>40.761270</td>\n",
              "      <td>-73.991242</td>\n",
              "      <td>40.750562</td>\n",
              "      <td>2</td>\n",
              "    </tr>\n",
              "    <tr>\n",
              "      <th>3</th>\n",
              "      <td>2012-04-21 04:30:42.0000001</td>\n",
              "      <td>7.7</td>\n",
              "      <td>2012-04-21 04:30:42 UTC</td>\n",
              "      <td>-73.987130</td>\n",
              "      <td>40.733143</td>\n",
              "      <td>-73.991567</td>\n",
              "      <td>40.758092</td>\n",
              "      <td>1</td>\n",
              "    </tr>\n",
              "    <tr>\n",
              "      <th>4</th>\n",
              "      <td>2010-03-09 07:51:00.000000135</td>\n",
              "      <td>5.3</td>\n",
              "      <td>2010-03-09 07:51:00 UTC</td>\n",
              "      <td>-73.968095</td>\n",
              "      <td>40.768008</td>\n",
              "      <td>-73.956655</td>\n",
              "      <td>40.783762</td>\n",
              "      <td>1</td>\n",
              "    </tr>\n",
              "  </tbody>\n",
              "</table>\n",
              "</div>\n",
              "      <button class=\"colab-df-convert\" onclick=\"convertToInteractive('df-01030a05-0538-41b0-a741-c9ba3534ebb8')\"\n",
              "              title=\"Convert this dataframe to an interactive table.\"\n",
              "              style=\"display:none;\">\n",
              "        \n",
              "  <svg xmlns=\"http://www.w3.org/2000/svg\" height=\"24px\"viewBox=\"0 0 24 24\"\n",
              "       width=\"24px\">\n",
              "    <path d=\"M0 0h24v24H0V0z\" fill=\"none\"/>\n",
              "    <path d=\"M18.56 5.44l.94 2.06.94-2.06 2.06-.94-2.06-.94-.94-2.06-.94 2.06-2.06.94zm-11 1L8.5 8.5l.94-2.06 2.06-.94-2.06-.94L8.5 2.5l-.94 2.06-2.06.94zm10 10l.94 2.06.94-2.06 2.06-.94-2.06-.94-.94-2.06-.94 2.06-2.06.94z\"/><path d=\"M17.41 7.96l-1.37-1.37c-.4-.4-.92-.59-1.43-.59-.52 0-1.04.2-1.43.59L10.3 9.45l-7.72 7.72c-.78.78-.78 2.05 0 2.83L4 21.41c.39.39.9.59 1.41.59.51 0 1.02-.2 1.41-.59l7.78-7.78 2.81-2.81c.8-.78.8-2.07 0-2.86zM5.41 20L4 18.59l7.72-7.72 1.47 1.35L5.41 20z\"/>\n",
              "  </svg>\n",
              "      </button>\n",
              "      \n",
              "  <style>\n",
              "    .colab-df-container {\n",
              "      display:flex;\n",
              "      flex-wrap:wrap;\n",
              "      gap: 12px;\n",
              "    }\n",
              "\n",
              "    .colab-df-convert {\n",
              "      background-color: #E8F0FE;\n",
              "      border: none;\n",
              "      border-radius: 50%;\n",
              "      cursor: pointer;\n",
              "      display: none;\n",
              "      fill: #1967D2;\n",
              "      height: 32px;\n",
              "      padding: 0 0 0 0;\n",
              "      width: 32px;\n",
              "    }\n",
              "\n",
              "    .colab-df-convert:hover {\n",
              "      background-color: #E2EBFA;\n",
              "      box-shadow: 0px 1px 2px rgba(60, 64, 67, 0.3), 0px 1px 3px 1px rgba(60, 64, 67, 0.15);\n",
              "      fill: #174EA6;\n",
              "    }\n",
              "\n",
              "    [theme=dark] .colab-df-convert {\n",
              "      background-color: #3B4455;\n",
              "      fill: #D2E3FC;\n",
              "    }\n",
              "\n",
              "    [theme=dark] .colab-df-convert:hover {\n",
              "      background-color: #434B5C;\n",
              "      box-shadow: 0px 1px 3px 1px rgba(0, 0, 0, 0.15);\n",
              "      filter: drop-shadow(0px 1px 2px rgba(0, 0, 0, 0.3));\n",
              "      fill: #FFFFFF;\n",
              "    }\n",
              "  </style>\n",
              "\n",
              "      <script>\n",
              "        const buttonEl =\n",
              "          document.querySelector('#df-01030a05-0538-41b0-a741-c9ba3534ebb8 button.colab-df-convert');\n",
              "        buttonEl.style.display =\n",
              "          google.colab.kernel.accessAllowed ? 'block' : 'none';\n",
              "\n",
              "        async function convertToInteractive(key) {\n",
              "          const element = document.querySelector('#df-01030a05-0538-41b0-a741-c9ba3534ebb8');\n",
              "          const dataTable =\n",
              "            await google.colab.kernel.invokeFunction('convertToInteractive',\n",
              "                                                     [key], {});\n",
              "          if (!dataTable) return;\n",
              "\n",
              "          const docLinkHtml = 'Like what you see? Visit the ' +\n",
              "            '<a target=\"_blank\" href=https://colab.research.google.com/notebooks/data_table.ipynb>data table notebook</a>'\n",
              "            + ' to learn more about interactive tables.';\n",
              "          element.innerHTML = '';\n",
              "          dataTable['output_type'] = 'display_data';\n",
              "          await google.colab.output.renderOutput(dataTable, element);\n",
              "          const docLink = document.createElement('div');\n",
              "          docLink.innerHTML = docLinkHtml;\n",
              "          element.appendChild(docLink);\n",
              "        }\n",
              "      </script>\n",
              "    </div>\n",
              "  </div>\n",
              "  "
            ]
          },
          "metadata": {},
          "execution_count": 4
        }
      ]
    },
    {
      "cell_type": "code",
      "source": [
        "test.head()"
      ],
      "metadata": {
        "colab": {
          "base_uri": "https://localhost:8080/",
          "height": 201
        },
        "id": "vMMHLaqSbX0U",
        "outputId": "b62abe4e-ca8d-4705-9634-2c36d00b3556"
      },
      "execution_count": 5,
      "outputs": [
        {
          "output_type": "execute_result",
          "data": {
            "text/plain": [
              "                           key          pickup_datetime  pickup_longitude  \\\n",
              "0  2015-01-27 13:08:24.0000002  2015-01-27 13:08:24 UTC        -73.973320   \n",
              "1  2015-01-27 13:08:24.0000003  2015-01-27 13:08:24 UTC        -73.986862   \n",
              "2  2011-10-08 11:53:44.0000002  2011-10-08 11:53:44 UTC        -73.982524   \n",
              "3  2012-12-01 21:12:12.0000002  2012-12-01 21:12:12 UTC        -73.981160   \n",
              "4  2012-12-01 21:12:12.0000003  2012-12-01 21:12:12 UTC        -73.966046   \n",
              "\n",
              "   pickup_latitude  dropoff_longitude  dropoff_latitude  passenger_count  \n",
              "0        40.763805         -73.981430         40.743835                1  \n",
              "1        40.719383         -73.998886         40.739201                1  \n",
              "2        40.751260         -73.979654         40.746139                1  \n",
              "3        40.767807         -73.990448         40.751635                1  \n",
              "4        40.789775         -73.988565         40.744427                1  "
            ],
            "text/html": [
              "\n",
              "  <div id=\"df-82f73597-b73a-441c-a485-ab933d4db5e0\">\n",
              "    <div class=\"colab-df-container\">\n",
              "      <div>\n",
              "<style scoped>\n",
              "    .dataframe tbody tr th:only-of-type {\n",
              "        vertical-align: middle;\n",
              "    }\n",
              "\n",
              "    .dataframe tbody tr th {\n",
              "        vertical-align: top;\n",
              "    }\n",
              "\n",
              "    .dataframe thead th {\n",
              "        text-align: right;\n",
              "    }\n",
              "</style>\n",
              "<table border=\"1\" class=\"dataframe\">\n",
              "  <thead>\n",
              "    <tr style=\"text-align: right;\">\n",
              "      <th></th>\n",
              "      <th>key</th>\n",
              "      <th>pickup_datetime</th>\n",
              "      <th>pickup_longitude</th>\n",
              "      <th>pickup_latitude</th>\n",
              "      <th>dropoff_longitude</th>\n",
              "      <th>dropoff_latitude</th>\n",
              "      <th>passenger_count</th>\n",
              "    </tr>\n",
              "  </thead>\n",
              "  <tbody>\n",
              "    <tr>\n",
              "      <th>0</th>\n",
              "      <td>2015-01-27 13:08:24.0000002</td>\n",
              "      <td>2015-01-27 13:08:24 UTC</td>\n",
              "      <td>-73.973320</td>\n",
              "      <td>40.763805</td>\n",
              "      <td>-73.981430</td>\n",
              "      <td>40.743835</td>\n",
              "      <td>1</td>\n",
              "    </tr>\n",
              "    <tr>\n",
              "      <th>1</th>\n",
              "      <td>2015-01-27 13:08:24.0000003</td>\n",
              "      <td>2015-01-27 13:08:24 UTC</td>\n",
              "      <td>-73.986862</td>\n",
              "      <td>40.719383</td>\n",
              "      <td>-73.998886</td>\n",
              "      <td>40.739201</td>\n",
              "      <td>1</td>\n",
              "    </tr>\n",
              "    <tr>\n",
              "      <th>2</th>\n",
              "      <td>2011-10-08 11:53:44.0000002</td>\n",
              "      <td>2011-10-08 11:53:44 UTC</td>\n",
              "      <td>-73.982524</td>\n",
              "      <td>40.751260</td>\n",
              "      <td>-73.979654</td>\n",
              "      <td>40.746139</td>\n",
              "      <td>1</td>\n",
              "    </tr>\n",
              "    <tr>\n",
              "      <th>3</th>\n",
              "      <td>2012-12-01 21:12:12.0000002</td>\n",
              "      <td>2012-12-01 21:12:12 UTC</td>\n",
              "      <td>-73.981160</td>\n",
              "      <td>40.767807</td>\n",
              "      <td>-73.990448</td>\n",
              "      <td>40.751635</td>\n",
              "      <td>1</td>\n",
              "    </tr>\n",
              "    <tr>\n",
              "      <th>4</th>\n",
              "      <td>2012-12-01 21:12:12.0000003</td>\n",
              "      <td>2012-12-01 21:12:12 UTC</td>\n",
              "      <td>-73.966046</td>\n",
              "      <td>40.789775</td>\n",
              "      <td>-73.988565</td>\n",
              "      <td>40.744427</td>\n",
              "      <td>1</td>\n",
              "    </tr>\n",
              "  </tbody>\n",
              "</table>\n",
              "</div>\n",
              "      <button class=\"colab-df-convert\" onclick=\"convertToInteractive('df-82f73597-b73a-441c-a485-ab933d4db5e0')\"\n",
              "              title=\"Convert this dataframe to an interactive table.\"\n",
              "              style=\"display:none;\">\n",
              "        \n",
              "  <svg xmlns=\"http://www.w3.org/2000/svg\" height=\"24px\"viewBox=\"0 0 24 24\"\n",
              "       width=\"24px\">\n",
              "    <path d=\"M0 0h24v24H0V0z\" fill=\"none\"/>\n",
              "    <path d=\"M18.56 5.44l.94 2.06.94-2.06 2.06-.94-2.06-.94-.94-2.06-.94 2.06-2.06.94zm-11 1L8.5 8.5l.94-2.06 2.06-.94-2.06-.94L8.5 2.5l-.94 2.06-2.06.94zm10 10l.94 2.06.94-2.06 2.06-.94-2.06-.94-.94-2.06-.94 2.06-2.06.94z\"/><path d=\"M17.41 7.96l-1.37-1.37c-.4-.4-.92-.59-1.43-.59-.52 0-1.04.2-1.43.59L10.3 9.45l-7.72 7.72c-.78.78-.78 2.05 0 2.83L4 21.41c.39.39.9.59 1.41.59.51 0 1.02-.2 1.41-.59l7.78-7.78 2.81-2.81c.8-.78.8-2.07 0-2.86zM5.41 20L4 18.59l7.72-7.72 1.47 1.35L5.41 20z\"/>\n",
              "  </svg>\n",
              "      </button>\n",
              "      \n",
              "  <style>\n",
              "    .colab-df-container {\n",
              "      display:flex;\n",
              "      flex-wrap:wrap;\n",
              "      gap: 12px;\n",
              "    }\n",
              "\n",
              "    .colab-df-convert {\n",
              "      background-color: #E8F0FE;\n",
              "      border: none;\n",
              "      border-radius: 50%;\n",
              "      cursor: pointer;\n",
              "      display: none;\n",
              "      fill: #1967D2;\n",
              "      height: 32px;\n",
              "      padding: 0 0 0 0;\n",
              "      width: 32px;\n",
              "    }\n",
              "\n",
              "    .colab-df-convert:hover {\n",
              "      background-color: #E2EBFA;\n",
              "      box-shadow: 0px 1px 2px rgba(60, 64, 67, 0.3), 0px 1px 3px 1px rgba(60, 64, 67, 0.15);\n",
              "      fill: #174EA6;\n",
              "    }\n",
              "\n",
              "    [theme=dark] .colab-df-convert {\n",
              "      background-color: #3B4455;\n",
              "      fill: #D2E3FC;\n",
              "    }\n",
              "\n",
              "    [theme=dark] .colab-df-convert:hover {\n",
              "      background-color: #434B5C;\n",
              "      box-shadow: 0px 1px 3px 1px rgba(0, 0, 0, 0.15);\n",
              "      filter: drop-shadow(0px 1px 2px rgba(0, 0, 0, 0.3));\n",
              "      fill: #FFFFFF;\n",
              "    }\n",
              "  </style>\n",
              "\n",
              "      <script>\n",
              "        const buttonEl =\n",
              "          document.querySelector('#df-82f73597-b73a-441c-a485-ab933d4db5e0 button.colab-df-convert');\n",
              "        buttonEl.style.display =\n",
              "          google.colab.kernel.accessAllowed ? 'block' : 'none';\n",
              "\n",
              "        async function convertToInteractive(key) {\n",
              "          const element = document.querySelector('#df-82f73597-b73a-441c-a485-ab933d4db5e0');\n",
              "          const dataTable =\n",
              "            await google.colab.kernel.invokeFunction('convertToInteractive',\n",
              "                                                     [key], {});\n",
              "          if (!dataTable) return;\n",
              "\n",
              "          const docLinkHtml = 'Like what you see? Visit the ' +\n",
              "            '<a target=\"_blank\" href=https://colab.research.google.com/notebooks/data_table.ipynb>data table notebook</a>'\n",
              "            + ' to learn more about interactive tables.';\n",
              "          element.innerHTML = '';\n",
              "          dataTable['output_type'] = 'display_data';\n",
              "          await google.colab.output.renderOutput(dataTable, element);\n",
              "          const docLink = document.createElement('div');\n",
              "          docLink.innerHTML = docLinkHtml;\n",
              "          element.appendChild(docLink);\n",
              "        }\n",
              "      </script>\n",
              "    </div>\n",
              "  </div>\n",
              "  "
            ]
          },
          "metadata": {},
          "execution_count": 5
        }
      ]
    },
    {
      "cell_type": "code",
      "source": [
        "#checking total null values\n",
        "train.isnull().sum()"
      ],
      "metadata": {
        "colab": {
          "base_uri": "https://localhost:8080/"
        },
        "id": "qgYtXP79bz4P",
        "outputId": "09e6a000-5939-4c19-cb1c-24d9c45764a9"
      },
      "execution_count": 6,
      "outputs": [
        {
          "output_type": "execute_result",
          "data": {
            "text/plain": [
              "key                  0\n",
              "fare_amount          0\n",
              "pickup_datetime      0\n",
              "pickup_longitude     0\n",
              "pickup_latitude      0\n",
              "dropoff_longitude    1\n",
              "dropoff_latitude     1\n",
              "passenger_count      0\n",
              "dtype: int64"
            ]
          },
          "metadata": {},
          "execution_count": 6
        }
      ]
    },
    {
      "cell_type": "code",
      "source": [
        "train.shape"
      ],
      "metadata": {
        "colab": {
          "base_uri": "https://localhost:8080/"
        },
        "id": "gVRlcC_9cFU5",
        "outputId": "b6e90347-9b3a-433e-ef2f-6b7af3ba5d8d"
      },
      "execution_count": 7,
      "outputs": [
        {
          "output_type": "execute_result",
          "data": {
            "text/plain": [
              "(200000, 8)"
            ]
          },
          "metadata": {},
          "execution_count": 7
        }
      ]
    },
    {
      "cell_type": "code",
      "source": [
        "#Lets drop the null values\n",
        "train  = train.drop(train[train.isnull().any(1)].index, axis=0)"
      ],
      "metadata": {
        "id": "BxrmGB45cyaq"
      },
      "execution_count": 8,
      "outputs": []
    },
    {
      "cell_type": "code",
      "source": [
        "train.shape"
      ],
      "metadata": {
        "colab": {
          "base_uri": "https://localhost:8080/"
        },
        "id": "XU9LDF1Od5Rp",
        "outputId": "7852492f-957d-4a83-e594-0d74fc508a6c"
      },
      "execution_count": 9,
      "outputs": [
        {
          "output_type": "execute_result",
          "data": {
            "text/plain": [
              "(199999, 8)"
            ]
          },
          "metadata": {},
          "execution_count": 9
        }
      ]
    },
    {
      "cell_type": "code",
      "source": [
        "#lets check if there is any negative values in fare amount column\n",
        "train['fare_amount'].describe()"
      ],
      "metadata": {
        "colab": {
          "base_uri": "https://localhost:8080/"
        },
        "id": "Jl8XJHXOd7Fo",
        "outputId": "73dd50e7-54ec-410b-af6a-503a6010c5c1"
      },
      "execution_count": 10,
      "outputs": [
        {
          "output_type": "execute_result",
          "data": {
            "text/plain": [
              "count    199999.000000\n",
              "mean         11.342871\n",
              "std           9.837879\n",
              "min         -44.900000\n",
              "25%           6.000000\n",
              "50%           8.500000\n",
              "75%          12.500000\n",
              "max         500.000000\n",
              "Name: fare_amount, dtype: float64"
            ]
          },
          "metadata": {},
          "execution_count": 10
        }
      ]
    },
    {
      "cell_type": "code",
      "source": [
        "# lets drop the rows with fare amount less than 2.5 as 2.5 is least for a cab in nyc.\n",
        "train = train[(train[\"fare_amount\"] >= 2.5) &\n",
        "          (train[\"fare_amount\"] <\n",
        "           train[\"fare_amount\"].quantile(.9999))]\n",
        "train.shape"
      ],
      "metadata": {
        "colab": {
          "base_uri": "https://localhost:8080/"
        },
        "id": "-tHQBstkeW3k",
        "outputId": "90d6e849-196c-4219-ab23-40e54ed0d058"
      },
      "execution_count": 11,
      "outputs": [
        {
          "output_type": "execute_result",
          "data": {
            "text/plain": [
              "(199956, 8)"
            ]
          },
          "metadata": {},
          "execution_count": 11
        }
      ]
    },
    {
      "cell_type": "code",
      "source": [
        "train['fare_amount'].describe()"
      ],
      "metadata": {
        "colab": {
          "base_uri": "https://localhost:8080/"
        },
        "id": "f7e9_gn6Etjd",
        "outputId": "88ec286e-678f-464d-a9b9-fbed92583d54"
      },
      "execution_count": 12,
      "outputs": [
        {
          "output_type": "execute_result",
          "data": {
            "text/plain": [
              "count    199956.000000\n",
              "mean         11.323970\n",
              "std           9.599686\n",
              "min           2.500000\n",
              "25%           6.000000\n",
              "50%           8.500000\n",
              "75%          12.500000\n",
              "max         149.000000\n",
              "Name: fare_amount, dtype: float64"
            ]
          },
          "metadata": {},
          "execution_count": 12
        }
      ]
    },
    {
      "cell_type": "code",
      "source": [
        "train['passenger_count'].describe()\n",
        "#happily the max is just 6 \n",
        "#quite surprising that for some passenger count is zero"
      ],
      "metadata": {
        "colab": {
          "base_uri": "https://localhost:8080/"
        },
        "id": "hU0SXcCPe3n5",
        "outputId": "8405a244-8ac4-42cf-a32f-c309a226bb07"
      },
      "execution_count": 13,
      "outputs": [
        {
          "output_type": "execute_result",
          "data": {
            "text/plain": [
              "count    199956.000000\n",
              "mean          1.682490\n",
              "std           1.306768\n",
              "min           0.000000\n",
              "25%           1.000000\n",
              "50%           1.000000\n",
              "75%           2.000000\n",
              "max           6.000000\n",
              "Name: passenger_count, dtype: float64"
            ]
          },
          "metadata": {},
          "execution_count": 13
        }
      ]
    },
    {
      "cell_type": "code",
      "source": [
        "train.info()"
      ],
      "metadata": {
        "colab": {
          "base_uri": "https://localhost:8080/"
        },
        "id": "Ruav24Tg7RF0",
        "outputId": "7b3c27b1-8eb2-4ce2-ef0a-75bc6ff61fd2"
      },
      "execution_count": 14,
      "outputs": [
        {
          "output_type": "stream",
          "name": "stdout",
          "text": [
            "<class 'pandas.core.frame.DataFrame'>\n",
            "Int64Index: 199956 entries, 0 to 199999\n",
            "Data columns (total 8 columns):\n",
            " #   Column             Non-Null Count   Dtype  \n",
            "---  ------             --------------   -----  \n",
            " 0   key                199956 non-null  object \n",
            " 1   fare_amount        199956 non-null  float64\n",
            " 2   pickup_datetime    199956 non-null  object \n",
            " 3   pickup_longitude   199956 non-null  float64\n",
            " 4   pickup_latitude    199956 non-null  float64\n",
            " 5   dropoff_longitude  199956 non-null  float64\n",
            " 6   dropoff_latitude   199956 non-null  float64\n",
            " 7   passenger_count    199956 non-null  int64  \n",
            "dtypes: float64(5), int64(1), object(2)\n",
            "memory usage: 13.7+ MB\n"
          ]
        }
      ]
    },
    {
      "cell_type": "code",
      "source": [
        "train['pickup_latitude'].describe()"
      ],
      "metadata": {
        "colab": {
          "base_uri": "https://localhost:8080/"
        },
        "id": "_TGtBAjdiLdF",
        "outputId": "79e32f0f-8078-494e-a50b-1e02d2fce2e9"
      },
      "execution_count": 15,
      "outputs": [
        {
          "output_type": "execute_result",
          "data": {
            "text/plain": [
              "count    199956.000000\n",
              "mean         39.923159\n",
              "std          10.048062\n",
              "min       -3116.285383\n",
              "25%          40.735010\n",
              "50%          40.752762\n",
              "75%          40.767125\n",
              "max        1703.092772\n",
              "Name: pickup_latitude, dtype: float64"
            ]
          },
          "metadata": {},
          "execution_count": 15
        }
      ]
    },
    {
      "cell_type": "code",
      "source": [
        "#remove the rows with missing values\n",
        "train=train.dropna(how = 'any', axis = 'rows')"
      ],
      "metadata": {
        "id": "PzrlexgJiiwt"
      },
      "execution_count": 16,
      "outputs": []
    },
    {
      "cell_type": "code",
      "source": [
        "train.shape"
      ],
      "metadata": {
        "colab": {
          "base_uri": "https://localhost:8080/"
        },
        "id": "p9olRjPRjp17",
        "outputId": "00ca5269-c8fe-4680-d67b-5948c12cb574"
      },
      "execution_count": 17,
      "outputs": [
        {
          "output_type": "execute_result",
          "data": {
            "text/plain": [
              "(199956, 8)"
            ]
          },
          "metadata": {},
          "execution_count": 17
        }
      ]
    },
    {
      "cell_type": "code",
      "source": [
        "train['key'] = pd.to_datetime(train['key'])\n",
        "test['key'] = pd.to_datetime(test['key'])\n",
        "test['pickup_datetime'] = pd.to_datetime(test['pickup_datetime'])\n",
        "# train['pickup_datetime'] = pd.to_datetime(train['pickup_datetime'])"
      ],
      "metadata": {
        "id": "RcIbcZqbjqvc"
      },
      "execution_count": 18,
      "outputs": []
    },
    {
      "cell_type": "code",
      "source": [
        "train.info()"
      ],
      "metadata": {
        "colab": {
          "base_uri": "https://localhost:8080/"
        },
        "id": "nGEapsiQj5E-",
        "outputId": "57ec0c81-6d18-419a-adfc-aff896554300"
      },
      "execution_count": 19,
      "outputs": [
        {
          "output_type": "stream",
          "name": "stdout",
          "text": [
            "<class 'pandas.core.frame.DataFrame'>\n",
            "Int64Index: 199956 entries, 0 to 199999\n",
            "Data columns (total 8 columns):\n",
            " #   Column             Non-Null Count   Dtype         \n",
            "---  ------             --------------   -----         \n",
            " 0   key                199956 non-null  datetime64[ns]\n",
            " 1   fare_amount        199956 non-null  float64       \n",
            " 2   pickup_datetime    199956 non-null  object        \n",
            " 3   pickup_longitude   199956 non-null  float64       \n",
            " 4   pickup_latitude    199956 non-null  float64       \n",
            " 5   dropoff_longitude  199956 non-null  float64       \n",
            " 6   dropoff_latitude   199956 non-null  float64       \n",
            " 7   passenger_count    199956 non-null  int64         \n",
            "dtypes: datetime64[ns](1), float64(5), int64(1), object(1)\n",
            "memory usage: 13.7+ MB\n"
          ]
        }
      ]
    },
    {
      "cell_type": "code",
      "source": [
        "data = [train, test]\n",
        "for i in data:\n",
        "    i['Year'] = i['key'].dt.year\n",
        "    i['Month'] = i['key'].dt.month\n",
        "    i['Date'] = i['key'].dt.day\n",
        "    i['Day_of_Week'] = i['key'].dt.dayofweek\n",
        "    i['Hour'] = i['key'].dt.hour"
      ],
      "metadata": {
        "id": "CoB5U9PIj6mj"
      },
      "execution_count": 20,
      "outputs": []
    },
    {
      "cell_type": "code",
      "source": [
        "train.head()"
      ],
      "metadata": {
        "colab": {
          "base_uri": "https://localhost:8080/",
          "height": 347
        },
        "id": "XvzyhksfkOlg",
        "outputId": "3ddb5330-d9cf-4217-e02e-2aab8a480735"
      },
      "execution_count": 21,
      "outputs": [
        {
          "output_type": "execute_result",
          "data": {
            "text/plain": [
              "                            key  fare_amount          pickup_datetime  \\\n",
              "0 2009-06-15 17:26:21.000000100          4.5  2009-06-15 17:26:21 UTC   \n",
              "1 2010-01-05 16:52:16.000000200         16.9  2010-01-05 16:52:16 UTC   \n",
              "2 2011-08-18 00:35:00.000000490          5.7  2011-08-18 00:35:00 UTC   \n",
              "3 2012-04-21 04:30:42.000000100          7.7  2012-04-21 04:30:42 UTC   \n",
              "4 2010-03-09 07:51:00.000000135          5.3  2010-03-09 07:51:00 UTC   \n",
              "\n",
              "   pickup_longitude  pickup_latitude  dropoff_longitude  dropoff_latitude  \\\n",
              "0        -73.844311        40.721319         -73.841610         40.712278   \n",
              "1        -74.016048        40.711303         -73.979268         40.782004   \n",
              "2        -73.982738        40.761270         -73.991242         40.750562   \n",
              "3        -73.987130        40.733143         -73.991567         40.758092   \n",
              "4        -73.968095        40.768008         -73.956655         40.783762   \n",
              "\n",
              "   passenger_count  Year  Month  Date  Day_of_Week  Hour  \n",
              "0                1  2009      6    15            0    17  \n",
              "1                1  2010      1     5            1    16  \n",
              "2                2  2011      8    18            3     0  \n",
              "3                1  2012      4    21            5     4  \n",
              "4                1  2010      3     9            1     7  "
            ],
            "text/html": [
              "\n",
              "  <div id=\"df-f845bd22-4d6a-425a-95f2-cf40c241f9c5\">\n",
              "    <div class=\"colab-df-container\">\n",
              "      <div>\n",
              "<style scoped>\n",
              "    .dataframe tbody tr th:only-of-type {\n",
              "        vertical-align: middle;\n",
              "    }\n",
              "\n",
              "    .dataframe tbody tr th {\n",
              "        vertical-align: top;\n",
              "    }\n",
              "\n",
              "    .dataframe thead th {\n",
              "        text-align: right;\n",
              "    }\n",
              "</style>\n",
              "<table border=\"1\" class=\"dataframe\">\n",
              "  <thead>\n",
              "    <tr style=\"text-align: right;\">\n",
              "      <th></th>\n",
              "      <th>key</th>\n",
              "      <th>fare_amount</th>\n",
              "      <th>pickup_datetime</th>\n",
              "      <th>pickup_longitude</th>\n",
              "      <th>pickup_latitude</th>\n",
              "      <th>dropoff_longitude</th>\n",
              "      <th>dropoff_latitude</th>\n",
              "      <th>passenger_count</th>\n",
              "      <th>Year</th>\n",
              "      <th>Month</th>\n",
              "      <th>Date</th>\n",
              "      <th>Day_of_Week</th>\n",
              "      <th>Hour</th>\n",
              "    </tr>\n",
              "  </thead>\n",
              "  <tbody>\n",
              "    <tr>\n",
              "      <th>0</th>\n",
              "      <td>2009-06-15 17:26:21.000000100</td>\n",
              "      <td>4.5</td>\n",
              "      <td>2009-06-15 17:26:21 UTC</td>\n",
              "      <td>-73.844311</td>\n",
              "      <td>40.721319</td>\n",
              "      <td>-73.841610</td>\n",
              "      <td>40.712278</td>\n",
              "      <td>1</td>\n",
              "      <td>2009</td>\n",
              "      <td>6</td>\n",
              "      <td>15</td>\n",
              "      <td>0</td>\n",
              "      <td>17</td>\n",
              "    </tr>\n",
              "    <tr>\n",
              "      <th>1</th>\n",
              "      <td>2010-01-05 16:52:16.000000200</td>\n",
              "      <td>16.9</td>\n",
              "      <td>2010-01-05 16:52:16 UTC</td>\n",
              "      <td>-74.016048</td>\n",
              "      <td>40.711303</td>\n",
              "      <td>-73.979268</td>\n",
              "      <td>40.782004</td>\n",
              "      <td>1</td>\n",
              "      <td>2010</td>\n",
              "      <td>1</td>\n",
              "      <td>5</td>\n",
              "      <td>1</td>\n",
              "      <td>16</td>\n",
              "    </tr>\n",
              "    <tr>\n",
              "      <th>2</th>\n",
              "      <td>2011-08-18 00:35:00.000000490</td>\n",
              "      <td>5.7</td>\n",
              "      <td>2011-08-18 00:35:00 UTC</td>\n",
              "      <td>-73.982738</td>\n",
              "      <td>40.761270</td>\n",
              "      <td>-73.991242</td>\n",
              "      <td>40.750562</td>\n",
              "      <td>2</td>\n",
              "      <td>2011</td>\n",
              "      <td>8</td>\n",
              "      <td>18</td>\n",
              "      <td>3</td>\n",
              "      <td>0</td>\n",
              "    </tr>\n",
              "    <tr>\n",
              "      <th>3</th>\n",
              "      <td>2012-04-21 04:30:42.000000100</td>\n",
              "      <td>7.7</td>\n",
              "      <td>2012-04-21 04:30:42 UTC</td>\n",
              "      <td>-73.987130</td>\n",
              "      <td>40.733143</td>\n",
              "      <td>-73.991567</td>\n",
              "      <td>40.758092</td>\n",
              "      <td>1</td>\n",
              "      <td>2012</td>\n",
              "      <td>4</td>\n",
              "      <td>21</td>\n",
              "      <td>5</td>\n",
              "      <td>4</td>\n",
              "    </tr>\n",
              "    <tr>\n",
              "      <th>4</th>\n",
              "      <td>2010-03-09 07:51:00.000000135</td>\n",
              "      <td>5.3</td>\n",
              "      <td>2010-03-09 07:51:00 UTC</td>\n",
              "      <td>-73.968095</td>\n",
              "      <td>40.768008</td>\n",
              "      <td>-73.956655</td>\n",
              "      <td>40.783762</td>\n",
              "      <td>1</td>\n",
              "      <td>2010</td>\n",
              "      <td>3</td>\n",
              "      <td>9</td>\n",
              "      <td>1</td>\n",
              "      <td>7</td>\n",
              "    </tr>\n",
              "  </tbody>\n",
              "</table>\n",
              "</div>\n",
              "      <button class=\"colab-df-convert\" onclick=\"convertToInteractive('df-f845bd22-4d6a-425a-95f2-cf40c241f9c5')\"\n",
              "              title=\"Convert this dataframe to an interactive table.\"\n",
              "              style=\"display:none;\">\n",
              "        \n",
              "  <svg xmlns=\"http://www.w3.org/2000/svg\" height=\"24px\"viewBox=\"0 0 24 24\"\n",
              "       width=\"24px\">\n",
              "    <path d=\"M0 0h24v24H0V0z\" fill=\"none\"/>\n",
              "    <path d=\"M18.56 5.44l.94 2.06.94-2.06 2.06-.94-2.06-.94-.94-2.06-.94 2.06-2.06.94zm-11 1L8.5 8.5l.94-2.06 2.06-.94-2.06-.94L8.5 2.5l-.94 2.06-2.06.94zm10 10l.94 2.06.94-2.06 2.06-.94-2.06-.94-.94-2.06-.94 2.06-2.06.94z\"/><path d=\"M17.41 7.96l-1.37-1.37c-.4-.4-.92-.59-1.43-.59-.52 0-1.04.2-1.43.59L10.3 9.45l-7.72 7.72c-.78.78-.78 2.05 0 2.83L4 21.41c.39.39.9.59 1.41.59.51 0 1.02-.2 1.41-.59l7.78-7.78 2.81-2.81c.8-.78.8-2.07 0-2.86zM5.41 20L4 18.59l7.72-7.72 1.47 1.35L5.41 20z\"/>\n",
              "  </svg>\n",
              "      </button>\n",
              "      \n",
              "  <style>\n",
              "    .colab-df-container {\n",
              "      display:flex;\n",
              "      flex-wrap:wrap;\n",
              "      gap: 12px;\n",
              "    }\n",
              "\n",
              "    .colab-df-convert {\n",
              "      background-color: #E8F0FE;\n",
              "      border: none;\n",
              "      border-radius: 50%;\n",
              "      cursor: pointer;\n",
              "      display: none;\n",
              "      fill: #1967D2;\n",
              "      height: 32px;\n",
              "      padding: 0 0 0 0;\n",
              "      width: 32px;\n",
              "    }\n",
              "\n",
              "    .colab-df-convert:hover {\n",
              "      background-color: #E2EBFA;\n",
              "      box-shadow: 0px 1px 2px rgba(60, 64, 67, 0.3), 0px 1px 3px 1px rgba(60, 64, 67, 0.15);\n",
              "      fill: #174EA6;\n",
              "    }\n",
              "\n",
              "    [theme=dark] .colab-df-convert {\n",
              "      background-color: #3B4455;\n",
              "      fill: #D2E3FC;\n",
              "    }\n",
              "\n",
              "    [theme=dark] .colab-df-convert:hover {\n",
              "      background-color: #434B5C;\n",
              "      box-shadow: 0px 1px 3px 1px rgba(0, 0, 0, 0.15);\n",
              "      filter: drop-shadow(0px 1px 2px rgba(0, 0, 0, 0.3));\n",
              "      fill: #FFFFFF;\n",
              "    }\n",
              "  </style>\n",
              "\n",
              "      <script>\n",
              "        const buttonEl =\n",
              "          document.querySelector('#df-f845bd22-4d6a-425a-95f2-cf40c241f9c5 button.colab-df-convert');\n",
              "        buttonEl.style.display =\n",
              "          google.colab.kernel.accessAllowed ? 'block' : 'none';\n",
              "\n",
              "        async function convertToInteractive(key) {\n",
              "          const element = document.querySelector('#df-f845bd22-4d6a-425a-95f2-cf40c241f9c5');\n",
              "          const dataTable =\n",
              "            await google.colab.kernel.invokeFunction('convertToInteractive',\n",
              "                                                     [key], {});\n",
              "          if (!dataTable) return;\n",
              "\n",
              "          const docLinkHtml = 'Like what you see? Visit the ' +\n",
              "            '<a target=\"_blank\" href=https://colab.research.google.com/notebooks/data_table.ipynb>data table notebook</a>'\n",
              "            + ' to learn more about interactive tables.';\n",
              "          element.innerHTML = '';\n",
              "          dataTable['output_type'] = 'display_data';\n",
              "          await google.colab.output.renderOutput(dataTable, element);\n",
              "          const docLink = document.createElement('div');\n",
              "          docLink.innerHTML = docLinkHtml;\n",
              "          element.appendChild(docLink);\n",
              "        }\n",
              "      </script>\n",
              "    </div>\n",
              "  </div>\n",
              "  "
            ]
          },
          "metadata": {},
          "execution_count": 21
        }
      ]
    },
    {
      "cell_type": "code",
      "source": [
        "#calculating distance using haversine formula\n",
        "# radius of earth in kilometers\n",
        "R = 6373.0\n",
        "coord = ['pickup_longitude', 'pickup_latitude',\n",
        "         'dropoff_longitude', 'dropoff_latitude']\n",
        "pickup_lat = np.radians(train[\"pickup_latitude\"])\n",
        "pickup_lon = np.radians(train[\"pickup_longitude\"])\n",
        "dropoff_lat = np.radians(train[\"dropoff_latitude\"])\n",
        "dropoff_lon = np.radians(train[\"dropoff_longitude\"])\n",
        "\n",
        "dist_lon = dropoff_lon - pickup_lon\n",
        "dist_lat = dropoff_lat - pickup_lat\n",
        "\n",
        "# Formula\n",
        "a = (np.sin(dist_lat/2))**2 + np.cos(pickup_lat) * \\\n",
        "    np.cos(dropoff_lat) * (np.sin(dist_lon/2))**2\n",
        "c = 2 * np.arctan2(np.sqrt(a), np.sqrt(1-a))\n",
        "d = R * c  # (where R is the radius of the Earth)\n",
        "\n",
        "train[\"trip_distance_km\"] = d\n",
        "\n",
        "train[coord + [\"trip_distance_km\"]].head(7)"
      ],
      "metadata": {
        "colab": {
          "base_uri": "https://localhost:8080/",
          "height": 261
        },
        "id": "pt2A8FH0kPmK",
        "outputId": "e4d9d6b1-9b38-43c9-8d35-9fb41e3d4b4e"
      },
      "execution_count": 22,
      "outputs": [
        {
          "output_type": "execute_result",
          "data": {
            "text/plain": [
              "   pickup_longitude  pickup_latitude  dropoff_longitude  dropoff_latitude  \\\n",
              "0        -73.844311        40.721319         -73.841610         40.712278   \n",
              "1        -74.016048        40.711303         -73.979268         40.782004   \n",
              "2        -73.982738        40.761270         -73.991242         40.750562   \n",
              "3        -73.987130        40.733143         -73.991567         40.758092   \n",
              "4        -73.968095        40.768008         -73.956655         40.783762   \n",
              "5        -74.000964        40.731630         -73.972892         40.758233   \n",
              "6        -73.980002        40.751662         -73.973802         40.764842   \n",
              "\n",
              "   trip_distance_km  \n",
              "0          1.031088  \n",
              "1          8.452786  \n",
              "2          1.389961  \n",
              "3          2.800149  \n",
              "4          1.999784  \n",
              "5          3.788428  \n",
              "6          1.556295  "
            ],
            "text/html": [
              "\n",
              "  <div id=\"df-8cdfbdd8-27e9-43e2-ae4f-49d73eae44b7\">\n",
              "    <div class=\"colab-df-container\">\n",
              "      <div>\n",
              "<style scoped>\n",
              "    .dataframe tbody tr th:only-of-type {\n",
              "        vertical-align: middle;\n",
              "    }\n",
              "\n",
              "    .dataframe tbody tr th {\n",
              "        vertical-align: top;\n",
              "    }\n",
              "\n",
              "    .dataframe thead th {\n",
              "        text-align: right;\n",
              "    }\n",
              "</style>\n",
              "<table border=\"1\" class=\"dataframe\">\n",
              "  <thead>\n",
              "    <tr style=\"text-align: right;\">\n",
              "      <th></th>\n",
              "      <th>pickup_longitude</th>\n",
              "      <th>pickup_latitude</th>\n",
              "      <th>dropoff_longitude</th>\n",
              "      <th>dropoff_latitude</th>\n",
              "      <th>trip_distance_km</th>\n",
              "    </tr>\n",
              "  </thead>\n",
              "  <tbody>\n",
              "    <tr>\n",
              "      <th>0</th>\n",
              "      <td>-73.844311</td>\n",
              "      <td>40.721319</td>\n",
              "      <td>-73.841610</td>\n",
              "      <td>40.712278</td>\n",
              "      <td>1.031088</td>\n",
              "    </tr>\n",
              "    <tr>\n",
              "      <th>1</th>\n",
              "      <td>-74.016048</td>\n",
              "      <td>40.711303</td>\n",
              "      <td>-73.979268</td>\n",
              "      <td>40.782004</td>\n",
              "      <td>8.452786</td>\n",
              "    </tr>\n",
              "    <tr>\n",
              "      <th>2</th>\n",
              "      <td>-73.982738</td>\n",
              "      <td>40.761270</td>\n",
              "      <td>-73.991242</td>\n",
              "      <td>40.750562</td>\n",
              "      <td>1.389961</td>\n",
              "    </tr>\n",
              "    <tr>\n",
              "      <th>3</th>\n",
              "      <td>-73.987130</td>\n",
              "      <td>40.733143</td>\n",
              "      <td>-73.991567</td>\n",
              "      <td>40.758092</td>\n",
              "      <td>2.800149</td>\n",
              "    </tr>\n",
              "    <tr>\n",
              "      <th>4</th>\n",
              "      <td>-73.968095</td>\n",
              "      <td>40.768008</td>\n",
              "      <td>-73.956655</td>\n",
              "      <td>40.783762</td>\n",
              "      <td>1.999784</td>\n",
              "    </tr>\n",
              "    <tr>\n",
              "      <th>5</th>\n",
              "      <td>-74.000964</td>\n",
              "      <td>40.731630</td>\n",
              "      <td>-73.972892</td>\n",
              "      <td>40.758233</td>\n",
              "      <td>3.788428</td>\n",
              "    </tr>\n",
              "    <tr>\n",
              "      <th>6</th>\n",
              "      <td>-73.980002</td>\n",
              "      <td>40.751662</td>\n",
              "      <td>-73.973802</td>\n",
              "      <td>40.764842</td>\n",
              "      <td>1.556295</td>\n",
              "    </tr>\n",
              "  </tbody>\n",
              "</table>\n",
              "</div>\n",
              "      <button class=\"colab-df-convert\" onclick=\"convertToInteractive('df-8cdfbdd8-27e9-43e2-ae4f-49d73eae44b7')\"\n",
              "              title=\"Convert this dataframe to an interactive table.\"\n",
              "              style=\"display:none;\">\n",
              "        \n",
              "  <svg xmlns=\"http://www.w3.org/2000/svg\" height=\"24px\"viewBox=\"0 0 24 24\"\n",
              "       width=\"24px\">\n",
              "    <path d=\"M0 0h24v24H0V0z\" fill=\"none\"/>\n",
              "    <path d=\"M18.56 5.44l.94 2.06.94-2.06 2.06-.94-2.06-.94-.94-2.06-.94 2.06-2.06.94zm-11 1L8.5 8.5l.94-2.06 2.06-.94-2.06-.94L8.5 2.5l-.94 2.06-2.06.94zm10 10l.94 2.06.94-2.06 2.06-.94-2.06-.94-.94-2.06-.94 2.06-2.06.94z\"/><path d=\"M17.41 7.96l-1.37-1.37c-.4-.4-.92-.59-1.43-.59-.52 0-1.04.2-1.43.59L10.3 9.45l-7.72 7.72c-.78.78-.78 2.05 0 2.83L4 21.41c.39.39.9.59 1.41.59.51 0 1.02-.2 1.41-.59l7.78-7.78 2.81-2.81c.8-.78.8-2.07 0-2.86zM5.41 20L4 18.59l7.72-7.72 1.47 1.35L5.41 20z\"/>\n",
              "  </svg>\n",
              "      </button>\n",
              "      \n",
              "  <style>\n",
              "    .colab-df-container {\n",
              "      display:flex;\n",
              "      flex-wrap:wrap;\n",
              "      gap: 12px;\n",
              "    }\n",
              "\n",
              "    .colab-df-convert {\n",
              "      background-color: #E8F0FE;\n",
              "      border: none;\n",
              "      border-radius: 50%;\n",
              "      cursor: pointer;\n",
              "      display: none;\n",
              "      fill: #1967D2;\n",
              "      height: 32px;\n",
              "      padding: 0 0 0 0;\n",
              "      width: 32px;\n",
              "    }\n",
              "\n",
              "    .colab-df-convert:hover {\n",
              "      background-color: #E2EBFA;\n",
              "      box-shadow: 0px 1px 2px rgba(60, 64, 67, 0.3), 0px 1px 3px 1px rgba(60, 64, 67, 0.15);\n",
              "      fill: #174EA6;\n",
              "    }\n",
              "\n",
              "    [theme=dark] .colab-df-convert {\n",
              "      background-color: #3B4455;\n",
              "      fill: #D2E3FC;\n",
              "    }\n",
              "\n",
              "    [theme=dark] .colab-df-convert:hover {\n",
              "      background-color: #434B5C;\n",
              "      box-shadow: 0px 1px 3px 1px rgba(0, 0, 0, 0.15);\n",
              "      filter: drop-shadow(0px 1px 2px rgba(0, 0, 0, 0.3));\n",
              "      fill: #FFFFFF;\n",
              "    }\n",
              "  </style>\n",
              "\n",
              "      <script>\n",
              "        const buttonEl =\n",
              "          document.querySelector('#df-8cdfbdd8-27e9-43e2-ae4f-49d73eae44b7 button.colab-df-convert');\n",
              "        buttonEl.style.display =\n",
              "          google.colab.kernel.accessAllowed ? 'block' : 'none';\n",
              "\n",
              "        async function convertToInteractive(key) {\n",
              "          const element = document.querySelector('#df-8cdfbdd8-27e9-43e2-ae4f-49d73eae44b7');\n",
              "          const dataTable =\n",
              "            await google.colab.kernel.invokeFunction('convertToInteractive',\n",
              "                                                     [key], {});\n",
              "          if (!dataTable) return;\n",
              "\n",
              "          const docLinkHtml = 'Like what you see? Visit the ' +\n",
              "            '<a target=\"_blank\" href=https://colab.research.google.com/notebooks/data_table.ipynb>data table notebook</a>'\n",
              "            + ' to learn more about interactive tables.';\n",
              "          element.innerHTML = '';\n",
              "          dataTable['output_type'] = 'display_data';\n",
              "          await google.colab.output.renderOutput(dataTable, element);\n",
              "          const docLink = document.createElement('div');\n",
              "          docLink.innerHTML = docLinkHtml;\n",
              "          element.appendChild(docLink);\n",
              "        }\n",
              "      </script>\n",
              "    </div>\n",
              "  </div>\n",
              "  "
            ]
          },
          "metadata": {},
          "execution_count": 22
        }
      ]
    },
    {
      "cell_type": "code",
      "source": [
        "#calculating distance using haversine formula\n",
        "# radius of earth in kilometers\n",
        "R = 6373.0\n",
        "coord = ['pickup_longitude', 'pickup_latitude',\n",
        "         'dropoff_longitude', 'dropoff_latitude']\n",
        "pickup_lat = np.radians(test[\"pickup_latitude\"])\n",
        "pickup_lon = np.radians(test[\"pickup_longitude\"])\n",
        "dropoff_lat = np.radians(test[\"dropoff_latitude\"])\n",
        "dropoff_lon = np.radians(test[\"dropoff_longitude\"])\n",
        "\n",
        "dist_lon = dropoff_lon - pickup_lon\n",
        "dist_lat = dropoff_lat - pickup_lat\n",
        "\n",
        "# Formula\n",
        "a = (np.sin(dist_lat/2))**2 + np.cos(pickup_lat) * \\\n",
        "    np.cos(dropoff_lat) * (np.sin(dist_lon/2))**2\n",
        "c = 2 * np.arctan2(np.sqrt(a), np.sqrt(1-a))\n",
        "d = R * c  # (where R is the radius of the Earth)\n",
        "\n",
        "test[\"trip_distance_km\"] = d\n",
        "\n",
        "test[coord + [\"trip_distance_km\"]].head(7)"
      ],
      "metadata": {
        "colab": {
          "base_uri": "https://localhost:8080/",
          "height": 261
        },
        "id": "eVKfIv503w01",
        "outputId": "a0aa542f-76bf-4c29-98af-4fe72788dc78"
      },
      "execution_count": 23,
      "outputs": [
        {
          "output_type": "execute_result",
          "data": {
            "text/plain": [
              "   pickup_longitude  pickup_latitude  dropoff_longitude  dropoff_latitude  \\\n",
              "0        -73.973320        40.763805         -73.981430         40.743835   \n",
              "1        -73.986862        40.719383         -73.998886         40.739201   \n",
              "2        -73.982524        40.751260         -73.979654         40.746139   \n",
              "3        -73.981160        40.767807         -73.990448         40.751635   \n",
              "4        -73.966046        40.789775         -73.988565         40.744427   \n",
              "5        -73.960983        40.765547         -73.979177         40.740053   \n",
              "6        -73.949013        40.773204         -73.959622         40.770893   \n",
              "\n",
              "   trip_distance_km  \n",
              "0          2.323989  \n",
              "1          2.426114  \n",
              "2          0.618822  \n",
              "3          1.961648  \n",
              "4          5.388992  \n",
              "5          3.223561  \n",
              "6          0.929893  "
            ],
            "text/html": [
              "\n",
              "  <div id=\"df-e77710a3-e272-4a49-8e1d-443a50fe658a\">\n",
              "    <div class=\"colab-df-container\">\n",
              "      <div>\n",
              "<style scoped>\n",
              "    .dataframe tbody tr th:only-of-type {\n",
              "        vertical-align: middle;\n",
              "    }\n",
              "\n",
              "    .dataframe tbody tr th {\n",
              "        vertical-align: top;\n",
              "    }\n",
              "\n",
              "    .dataframe thead th {\n",
              "        text-align: right;\n",
              "    }\n",
              "</style>\n",
              "<table border=\"1\" class=\"dataframe\">\n",
              "  <thead>\n",
              "    <tr style=\"text-align: right;\">\n",
              "      <th></th>\n",
              "      <th>pickup_longitude</th>\n",
              "      <th>pickup_latitude</th>\n",
              "      <th>dropoff_longitude</th>\n",
              "      <th>dropoff_latitude</th>\n",
              "      <th>trip_distance_km</th>\n",
              "    </tr>\n",
              "  </thead>\n",
              "  <tbody>\n",
              "    <tr>\n",
              "      <th>0</th>\n",
              "      <td>-73.973320</td>\n",
              "      <td>40.763805</td>\n",
              "      <td>-73.981430</td>\n",
              "      <td>40.743835</td>\n",
              "      <td>2.323989</td>\n",
              "    </tr>\n",
              "    <tr>\n",
              "      <th>1</th>\n",
              "      <td>-73.986862</td>\n",
              "      <td>40.719383</td>\n",
              "      <td>-73.998886</td>\n",
              "      <td>40.739201</td>\n",
              "      <td>2.426114</td>\n",
              "    </tr>\n",
              "    <tr>\n",
              "      <th>2</th>\n",
              "      <td>-73.982524</td>\n",
              "      <td>40.751260</td>\n",
              "      <td>-73.979654</td>\n",
              "      <td>40.746139</td>\n",
              "      <td>0.618822</td>\n",
              "    </tr>\n",
              "    <tr>\n",
              "      <th>3</th>\n",
              "      <td>-73.981160</td>\n",
              "      <td>40.767807</td>\n",
              "      <td>-73.990448</td>\n",
              "      <td>40.751635</td>\n",
              "      <td>1.961648</td>\n",
              "    </tr>\n",
              "    <tr>\n",
              "      <th>4</th>\n",
              "      <td>-73.966046</td>\n",
              "      <td>40.789775</td>\n",
              "      <td>-73.988565</td>\n",
              "      <td>40.744427</td>\n",
              "      <td>5.388992</td>\n",
              "    </tr>\n",
              "    <tr>\n",
              "      <th>5</th>\n",
              "      <td>-73.960983</td>\n",
              "      <td>40.765547</td>\n",
              "      <td>-73.979177</td>\n",
              "      <td>40.740053</td>\n",
              "      <td>3.223561</td>\n",
              "    </tr>\n",
              "    <tr>\n",
              "      <th>6</th>\n",
              "      <td>-73.949013</td>\n",
              "      <td>40.773204</td>\n",
              "      <td>-73.959622</td>\n",
              "      <td>40.770893</td>\n",
              "      <td>0.929893</td>\n",
              "    </tr>\n",
              "  </tbody>\n",
              "</table>\n",
              "</div>\n",
              "      <button class=\"colab-df-convert\" onclick=\"convertToInteractive('df-e77710a3-e272-4a49-8e1d-443a50fe658a')\"\n",
              "              title=\"Convert this dataframe to an interactive table.\"\n",
              "              style=\"display:none;\">\n",
              "        \n",
              "  <svg xmlns=\"http://www.w3.org/2000/svg\" height=\"24px\"viewBox=\"0 0 24 24\"\n",
              "       width=\"24px\">\n",
              "    <path d=\"M0 0h24v24H0V0z\" fill=\"none\"/>\n",
              "    <path d=\"M18.56 5.44l.94 2.06.94-2.06 2.06-.94-2.06-.94-.94-2.06-.94 2.06-2.06.94zm-11 1L8.5 8.5l.94-2.06 2.06-.94-2.06-.94L8.5 2.5l-.94 2.06-2.06.94zm10 10l.94 2.06.94-2.06 2.06-.94-2.06-.94-.94-2.06-.94 2.06-2.06.94z\"/><path d=\"M17.41 7.96l-1.37-1.37c-.4-.4-.92-.59-1.43-.59-.52 0-1.04.2-1.43.59L10.3 9.45l-7.72 7.72c-.78.78-.78 2.05 0 2.83L4 21.41c.39.39.9.59 1.41.59.51 0 1.02-.2 1.41-.59l7.78-7.78 2.81-2.81c.8-.78.8-2.07 0-2.86zM5.41 20L4 18.59l7.72-7.72 1.47 1.35L5.41 20z\"/>\n",
              "  </svg>\n",
              "      </button>\n",
              "      \n",
              "  <style>\n",
              "    .colab-df-container {\n",
              "      display:flex;\n",
              "      flex-wrap:wrap;\n",
              "      gap: 12px;\n",
              "    }\n",
              "\n",
              "    .colab-df-convert {\n",
              "      background-color: #E8F0FE;\n",
              "      border: none;\n",
              "      border-radius: 50%;\n",
              "      cursor: pointer;\n",
              "      display: none;\n",
              "      fill: #1967D2;\n",
              "      height: 32px;\n",
              "      padding: 0 0 0 0;\n",
              "      width: 32px;\n",
              "    }\n",
              "\n",
              "    .colab-df-convert:hover {\n",
              "      background-color: #E2EBFA;\n",
              "      box-shadow: 0px 1px 2px rgba(60, 64, 67, 0.3), 0px 1px 3px 1px rgba(60, 64, 67, 0.15);\n",
              "      fill: #174EA6;\n",
              "    }\n",
              "\n",
              "    [theme=dark] .colab-df-convert {\n",
              "      background-color: #3B4455;\n",
              "      fill: #D2E3FC;\n",
              "    }\n",
              "\n",
              "    [theme=dark] .colab-df-convert:hover {\n",
              "      background-color: #434B5C;\n",
              "      box-shadow: 0px 1px 3px 1px rgba(0, 0, 0, 0.15);\n",
              "      filter: drop-shadow(0px 1px 2px rgba(0, 0, 0, 0.3));\n",
              "      fill: #FFFFFF;\n",
              "    }\n",
              "  </style>\n",
              "\n",
              "      <script>\n",
              "        const buttonEl =\n",
              "          document.querySelector('#df-e77710a3-e272-4a49-8e1d-443a50fe658a button.colab-df-convert');\n",
              "        buttonEl.style.display =\n",
              "          google.colab.kernel.accessAllowed ? 'block' : 'none';\n",
              "\n",
              "        async function convertToInteractive(key) {\n",
              "          const element = document.querySelector('#df-e77710a3-e272-4a49-8e1d-443a50fe658a');\n",
              "          const dataTable =\n",
              "            await google.colab.kernel.invokeFunction('convertToInteractive',\n",
              "                                                     [key], {});\n",
              "          if (!dataTable) return;\n",
              "\n",
              "          const docLinkHtml = 'Like what you see? Visit the ' +\n",
              "            '<a target=\"_blank\" href=https://colab.research.google.com/notebooks/data_table.ipynb>data table notebook</a>'\n",
              "            + ' to learn more about interactive tables.';\n",
              "          element.innerHTML = '';\n",
              "          dataTable['output_type'] = 'display_data';\n",
              "          await google.colab.output.renderOutput(dataTable, element);\n",
              "          const docLink = document.createElement('div');\n",
              "          docLink.innerHTML = docLinkHtml;\n",
              "          element.appendChild(docLink);\n",
              "        }\n",
              "      </script>\n",
              "    </div>\n",
              "  </div>\n",
              "  "
            ]
          },
          "metadata": {},
          "execution_count": 23
        }
      ]
    },
    {
      "cell_type": "code",
      "source": [
        "plt.figure(figsize=(15,7))\n",
        "plt.scatter(x=train['Date'], y=train['fare_amount'], s=1.5)\n",
        "plt.xlabel('Date')\n",
        "plt.ylabel('Fare')\n",
        "#fare is almost same for all days"
      ],
      "metadata": {
        "colab": {
          "base_uri": "https://localhost:8080/",
          "height": 457
        },
        "id": "9T1RMQaj4oNF",
        "outputId": "c65db5d7-f53c-4cab-e09b-85e67f3cc0cd"
      },
      "execution_count": 24,
      "outputs": [
        {
          "output_type": "execute_result",
          "data": {
            "text/plain": [
              "Text(0, 0.5, 'Fare')"
            ]
          },
          "metadata": {},
          "execution_count": 24
        },
        {
          "output_type": "display_data",
          "data": {
            "text/plain": [
              "<Figure size 1080x504 with 1 Axes>"
            ],
            "image/png": "[encoded data removed]"
          },
          "metadata": {
            "needs_background": "light"
          }
        }
      ]
    },
    {
      "cell_type": "code",
      "source": [
        "plt.figure(figsize=(15,7))\n",
        "plt.scatter(x=train['Day_of_Week'], y=train['fare_amount'],s=3)\n",
        "plt.xlabel('Day of week')\n",
        "plt.ylabel('Fare')\n",
        "#fare is most on wednesday but doesnt affect much"
      ],
      "metadata": {
        "colab": {
          "base_uri": "https://localhost:8080/",
          "height": 457
        },
        "id": "yF9oxXvJ40Vn",
        "outputId": "ea4fa933-5b9c-4fdd-9d74-16fc781f744a"
      },
      "execution_count": 25,
      "outputs": [
        {
          "output_type": "execute_result",
          "data": {
            "text/plain": [
              "Text(0, 0.5, 'Fare')"
            ]
          },
          "metadata": {},
          "execution_count": 25
        },
        {
          "output_type": "display_data",
          "data": {
            "text/plain": [
              "<Figure size 1080x504 with 1 Axes>"
            ],
            "image/png": "[encoded data removed]"
          },
          "metadata": {
            "needs_background": "light"
          }
        }
      ]
    },
    {
      "cell_type": "code",
      "source": [
        "train[train.trip_distance_km<30].trip_distance_km.hist(bins=50,figsize=(30,15))\n",
        "plt.xlabel('trip distance km')\n",
        "plt.ylabel('frequency')\n",
        "#most trips are around 3 km"
      ],
      "metadata": {
        "colab": {
          "base_uri": "https://localhost:8080/",
          "height": 661
        },
        "id": "NwUClWu24_yB",
        "outputId": "c6eafb7b-e0f1-49aa-e948-3942b8e39e30"
      },
      "execution_count": 26,
      "outputs": [
        {
          "output_type": "execute_result",
          "data": {
            "text/plain": [
              "Text(0, 0.5, 'frequency')"
            ]
          },
          "metadata": {},
          "execution_count": 26
        },
        {
          "output_type": "display_data",
          "data": {
            "text/plain": [
              "<Figure size 2160x1080 with 1 Axes>"
            ],
            "image/png": "[encoded data removed]"
          },
          "metadata": {
            "needs_background": "light"
          }
        }
      ]
    },
    {
      "cell_type": "code",
      "source": [
        "train[train.trip_distance_km>30].trip_distance_km.hist(bins=50,figsize=(30,15))\n",
        "##there is not much distance travelled but there are some outliers"
      ],
      "metadata": {
        "colab": {
          "base_uri": "https://localhost:8080/",
          "height": 660
        },
        "id": "g_y-e6Sr5xMn",
        "outputId": "1943a48d-ce75-44bd-942c-b2c38d29adef"
      },
      "execution_count": 27,
      "outputs": [
        {
          "output_type": "execute_result",
          "data": {
            "text/plain": [
              "<matplotlib.axes._subplots.AxesSubplot at 0x7f6f64ef8ad0>"
            ]
          },
          "metadata": {},
          "execution_count": 27
        },
        {
          "output_type": "display_data",
          "data": {
            "text/plain": [
              "<Figure size 2160x1080 with 1 Axes>"
            ],
            "image/png": "[encoded data removed]"
          },
          "metadata": {
            "needs_background": "light"
          }
        }
      ]
    },
    {
      "cell_type": "code",
      "source": [
        "#Let's drop the values which are not possible as coordinates\n",
        "train = train.drop(train[train['pickup_latitude']<-90].index, axis = 0)\n",
        "train = train.drop(train[train['pickup_latitude']>90].index, axis = 0)\n",
        "\n",
        "train = train.drop(train[train['pickup_longitude']<-180].index, axis = 0)\n",
        "train = train.drop(train[train['pickup_longitude']>180].index, axis = 0)\n",
        "\n",
        "train = train.drop(train[train['dropoff_latitude']<-90].index, axis = 0)\n",
        "train = train.drop(train[train['dropoff_latitude']>90].index, axis = 0)\n",
        "\n",
        "train = train.drop(train[train['dropoff_longitude']<-180].index, axis = 0)\n",
        "train = train.drop(train[train['dropoff_longitude']>180].index, axis = 0)"
      ],
      "metadata": {
        "id": "yUvSCFrbkgdm"
      },
      "execution_count": 28,
      "outputs": []
    },
    {
      "cell_type": "code",
      "source": [
        "train.shape"
      ],
      "metadata": {
        "colab": {
          "base_uri": "https://localhost:8080/"
        },
        "id": "ziGMaOLXpG6Q",
        "outputId": "efb96e51-374d-4a3e-94f3-fb4f9aef1898"
      },
      "execution_count": 29,
      "outputs": [
        {
          "output_type": "execute_result",
          "data": {
            "text/plain": [
              "(199950, 14)"
            ]
          },
          "metadata": {},
          "execution_count": 29
        }
      ]
    },
    {
      "cell_type": "code",
      "source": [
        "train['trip_distance_km'].describe()"
      ],
      "metadata": {
        "colab": {
          "base_uri": "https://localhost:8080/"
        },
        "id": "CBX2bhHE56X6",
        "outputId": "8b38a8de-bf0f-4437-f8ad-50e105ae05b8"
      },
      "execution_count": 30,
      "outputs": [
        {
          "output_type": "execute_result",
          "data": {
            "text/plain": [
              "count    199950.000000\n",
              "mean         18.662841\n",
              "std         357.980582\n",
              "min           0.000000\n",
              "25%           1.215872\n",
              "50%           2.118639\n",
              "75%           3.872272\n",
              "max        8683.679606\n",
              "Name: trip_distance_km, dtype: float64"
            ]
          },
          "metadata": {},
          "execution_count": 30
        }
      ]
    },
    {
      "cell_type": "code",
      "source": [
        "df = train.drop(['key','pickup_datetime'],axis=1)"
      ],
      "metadata": {
        "id": "N7gLQomfDZKO"
      },
      "execution_count": 31,
      "outputs": []
    },
    {
      "cell_type": "code",
      "source": [
        "\n",
        "list_columns=list(df.columns)\n",
        "def boxplot(b):\n",
        "  fig,ax=plt.subplots(figsize=(15,5))\n",
        "  sns.boxplot(x=b,data=train)\n",
        "  plt.xlabel(b)\n",
        "  plt.show()\n",
        "for i in list_columns:\n",
        "  boxplot(i)"
      ],
      "metadata": {
        "colab": {
          "base_uri": "https://localhost:8080/",
          "height": 1000
        },
        "id": "dwk0YyHYDfLB",
        "outputId": "feda1ced-bfc8-4a3c-994a-997fc923afc1"
      },
      "execution_count": null,
      "outputs": [
        {
          "output_type": "display_data",
          "data": {
            "text/plain": [
              "<Figure size 1080x360 with 1 Axes>"
            ],
            "image/png": "[encoded data removed]"
          },
          "metadata": {
            "needs_background": "light"
          }
        },
        {
          "output_type": "display_data",
          "data": {
            "text/plain": [
              "<Figure size 1080x360 with 1 Axes>"
            ],
            "image/png": "[encoded data removed]"
          },
          "metadata": {
            "needs_background": "light"
          }
        },
        {
          "output_type": "display_data",
          "data": {
            "text/plain": [
              "<Figure size 1080x360 with 1 Axes>"
            ],
            "image/png": "[encoded data removed]"
          },
          "metadata": {
            "needs_background": "light"
          }
        },
        {
          "output_type": "display_data",
          "data": {
            "text/plain": [
              "<Figure size 1080x360 with 1 Axes>"
            ],
            "image/png": "[encoded data removed]"
          },
          "metadata": {
            "needs_background": "light"
          }
        },
        {
          "output_type": "display_data",
          "data": {
            "text/plain": [
              "<Figure size 1080x360 with 1 Axes>"
            ],
            "image/png": "[encoded data removed]"
          },
          "metadata": {
            "needs_background": "light"
          }
        }
      ]
    },
    {
      "cell_type": "markdown",
      "source": [
        "from above we can see that fare amount and trip distance have a lot of outliers so we will drop the outliers."
      ],
      "metadata": {
        "id": "cvWdlvsjBOPx"
      }
    },
    {
      "cell_type": "code",
      "source": [
        "#Removing Outliers\n",
        "diff = 12*(train['fare_amount'].quantile(0.9) - train['fare_amount'].quantile(0.1))\n",
        "upper_value = df['fare_amount'].quantile(0.9)+diff\n",
        "lower_value = df['fare_amount'].quantile(0.1)-diff\n",
        "train = train[(train['fare_amount']<upper_value)&(train['fare_amount']>lower_value)]\n",
        "\n",
        "diff = 12*(train['trip_distance_km'].quantile(0.9) -\n",
        "           train['trip_distance_km'].quantile(0.1))\n",
        "upper_value = df['trip_distance_km'].quantile(0.9)+diff\n",
        "lower_value = df['trip_distance_km'].quantile(0.1)-diff\n",
        "train = train[(train['trip_distance_km'] < upper_value) &\n",
        "              (train['trip_distance_km'] > lower_value)]"
      ],
      "metadata": {
        "id": "omOTQzkZ4L9r"
      },
      "execution_count": 32,
      "outputs": []
    },
    {
      "cell_type": "code",
      "source": [
        "test = test.drop(['key','pickup_datetime','pickup_longitude','pickup_latitude','dropoff_longitude','dropoff_latitude'],axis=1)"
      ],
      "metadata": {
        "id": "N-CaIUVQ498s"
      },
      "execution_count": 36,
      "outputs": []
    },
    {
      "cell_type": "code",
      "source": [
        "train.info()"
      ],
      "metadata": {
        "colab": {
          "base_uri": "https://localhost:8080/"
        },
        "id": "SVjYrTon73Uu",
        "outputId": "11629ffc-3d43-42de-c5ad-0788925842b9"
      },
      "execution_count": 33,
      "outputs": [
        {
          "output_type": "stream",
          "name": "stdout",
          "text": [
            "<class 'pandas.core.frame.DataFrame'>\n",
            "Int64Index: 199502 entries, 0 to 199999\n",
            "Data columns (total 14 columns):\n",
            " #   Column             Non-Null Count   Dtype         \n",
            "---  ------             --------------   -----         \n",
            " 0   key                199502 non-null  datetime64[ns]\n",
            " 1   fare_amount        199502 non-null  float64       \n",
            " 2   pickup_datetime    199502 non-null  object        \n",
            " 3   pickup_longitude   199502 non-null  float64       \n",
            " 4   pickup_latitude    199502 non-null  float64       \n",
            " 5   dropoff_longitude  199502 non-null  float64       \n",
            " 6   dropoff_latitude   199502 non-null  float64       \n",
            " 7   passenger_count    199502 non-null  int64         \n",
            " 8   Year               199502 non-null  int64         \n",
            " 9   Month              199502 non-null  int64         \n",
            " 10  Date               199502 non-null  int64         \n",
            " 11  Day_of_Week        199502 non-null  int64         \n",
            " 12  Hour               199502 non-null  int64         \n",
            " 13  trip_distance_km   199502 non-null  float64       \n",
            "dtypes: datetime64[ns](1), float64(6), int64(6), object(1)\n",
            "memory usage: 22.8+ MB\n"
          ]
        }
      ]
    },
    {
      "cell_type": "markdown",
      "source": [
        "##A: Neural network"
      ],
      "metadata": {
        "id": "bzfHL-cEFws1"
      }
    },
    {
      "cell_type": "code",
      "source": [
        "# Import required libraries\n",
        "import tensorflow as tf\n",
        "import pandas as pd\n",
        "import matplotlib.pyplot as plt"
      ],
      "metadata": {
        "id": "jiJClaKsFwC9"
      },
      "execution_count": 34,
      "outputs": []
    },
    {
      "cell_type": "code",
      "source": [
        "import numpy as np\n",
        "from sklearn.model_selection import train_test_split\n",
        "# from sklearn.preprocessing import MinMaxScaler\n",
        "\n",
        "x, y = train.drop(['key', 'fare_amount', 'pickup_datetime','pickup_longitude', 'pickup_latitude',\n",
        "         'dropoff_longitude', 'dropoff_latitude'], axis = 1), train['fare_amount']\n",
        "\n",
        "from sklearn.preprocessing import StandardScaler\n",
        "nor = StandardScaler()\n",
        "# for i in x.columns:\n",
        "#     a = np.array(x[i]).reshape(-1,1)\n",
        "#     nor.fit(a)\n",
        "#     x[i] = nor.transform(a).reshape(1,-1)[0]\n",
        "x_s = nor.fit_transform(x)\n",
        "test = nor.transform(test)\n",
        "\n",
        "x_train, x_test, y_train, y_test = train_test_split(x_s, y, test_size=0.25, random_state=12)"
      ],
      "metadata": {
        "id": "_Md0EX_szJvp"
      },
      "execution_count": 37,
      "outputs": []
    },
    {
      "cell_type": "code",
      "source": [
        "x_train = tf.constant(x_train)\n",
        "x_test = tf.constant(x_test)\n",
        "y_train = tf.constant(y_train)\n",
        "y_test = tf.constant(y_test)"
      ],
      "metadata": {
        "id": "bGMhGYZ3rSc8"
      },
      "execution_count": 38,
      "outputs": []
    },
    {
      "cell_type": "code",
      "source": [
        "# Build a neural network\n",
        "\n",
        "tf.random.set_seed(42)\n",
        "\n",
        "# 1. Create a model\n",
        "model = tf.keras.Sequential([\n",
        "                                       tf.keras.layers.Dense(16, activation='sigmoid'),\n",
        "                                       tf.keras.layers.Dense(8, activation='sigmoid'),\n",
        "                                       tf.keras.layers.Dense(1)\n",
        "])\n",
        "# 2. Compile the model\n",
        "model.compile(loss = tf.keras.losses.mae,\n",
        "                        optimizer = tf.keras.optimizers.SGD(learning_rate=0.01),\n",
        "                        metrics = [\"mae\",\"mape\",\"mse\"]\n",
        "                        )\n",
        "\n",
        "# 3. Fitting the model\n",
        "history = model.fit(x_train, y_train, epochs = 50,batch_size = 128)"
      ],
      "metadata": {
        "colab": {
          "base_uri": "https://localhost:8080/"
        },
        "id": "hkiRBdQwri8r",
        "outputId": "d1c281ba-93e6-44ae-a53f-0647e6714778"
      },
      "execution_count": 39,
      "outputs": [
        {
          "output_type": "stream",
          "name": "stdout",
          "text": [
            "Epoch 1/50\n",
            "1169/1169 [==============================] - 3s 2ms/step - loss: 5.8425 - mae: 5.8425 - mape: 45.8772 - mse: 110.6135\n",
            "Epoch 2/50\n",
            "1169/1169 [==============================] - 2s 2ms/step - loss: 4.9844 - mae: 4.9844 - mape: 39.3222 - mse: 91.1625\n",
            "Epoch 3/50\n",
            "1169/1169 [==============================] - 2s 2ms/step - loss: 3.7019 - mae: 3.7019 - mape: 26.4319 - mse: 66.0593\n",
            "Epoch 4/50\n",
            "1169/1169 [==============================] - 2s 2ms/step - loss: 3.0871 - mae: 3.0871 - mape: 21.7359 - mse: 50.9137\n",
            "Epoch 5/50\n",
            "1169/1169 [==============================] - 2s 2ms/step - loss: 2.9561 - mae: 2.9561 - mape: 21.7532 - mse: 45.3181\n",
            "Epoch 6/50\n",
            "1169/1169 [==============================] - 2s 2ms/step - loss: 2.8648 - mae: 2.8648 - mape: 21.7853 - mse: 41.5699\n",
            "Epoch 7/50\n",
            "1169/1169 [==============================] - 2s 2ms/step - loss: 2.7904 - mae: 2.7904 - mape: 21.6575 - mse: 38.8468\n",
            "Epoch 8/50\n",
            "1169/1169 [==============================] - 2s 2ms/step - loss: 2.7253 - mae: 2.7253 - mape: 21.3815 - mse: 36.7270\n",
            "Epoch 9/50\n",
            "1169/1169 [==============================] - 2s 2ms/step - loss: 2.6660 - mae: 2.6660 - mape: 21.0093 - mse: 35.0217\n",
            "Epoch 10/50\n",
            "1169/1169 [==============================] - 2s 2ms/step - loss: 2.6127 - mae: 2.6127 - mape: 20.6240 - mse: 33.5654\n",
            "Epoch 11/50\n",
            "1169/1169 [==============================] - 2s 2ms/step - loss: 2.5655 - mae: 2.5655 - mape: 20.2847 - mse: 32.3036\n",
            "Epoch 12/50\n",
            "1169/1169 [==============================] - 2s 2ms/step - loss: 2.5256 - mae: 2.5256 - mape: 19.9988 - mse: 31.2205\n",
            "Epoch 13/50\n",
            "1169/1169 [==============================] - 2s 2ms/step - loss: 2.4923 - mae: 2.4923 - mape: 19.7816 - mse: 30.3278\n",
            "Epoch 14/50\n",
            "1169/1169 [==============================] - 2s 2ms/step - loss: 2.4660 - mae: 2.4660 - mape: 19.6378 - mse: 29.5321\n",
            "Epoch 15/50\n",
            "1169/1169 [==============================] - 2s 2ms/step - loss: 2.4449 - mae: 2.4449 - mape: 19.5478 - mse: 28.8765\n",
            "Epoch 16/50\n",
            "1169/1169 [==============================] - 2s 2ms/step - loss: 2.4273 - mae: 2.4273 - mape: 19.4814 - mse: 28.3230\n",
            "Epoch 17/50\n",
            "1169/1169 [==============================] - 2s 2ms/step - loss: 2.4124 - mae: 2.4124 - mape: 19.4526 - mse: 27.8490\n",
            "Epoch 18/50\n",
            "1169/1169 [==============================] - 2s 2ms/step - loss: 2.3991 - mae: 2.3991 - mape: 19.4273 - mse: 27.4409\n",
            "Epoch 19/50\n",
            "1169/1169 [==============================] - 2s 2ms/step - loss: 2.3866 - mae: 2.3866 - mape: 19.4002 - mse: 27.0914\n",
            "Epoch 20/50\n",
            "1169/1169 [==============================] - 2s 2ms/step - loss: 2.3755 - mae: 2.3755 - mape: 19.3774 - mse: 26.7783\n",
            "Epoch 21/50\n",
            "1169/1169 [==============================] - 2s 2ms/step - loss: 2.3650 - mae: 2.3650 - mape: 19.3673 - mse: 26.5024\n",
            "Epoch 22/50\n",
            "1169/1169 [==============================] - 2s 2ms/step - loss: 2.3551 - mae: 2.3551 - mape: 19.3501 - mse: 26.2649\n",
            "Epoch 23/50\n",
            "1169/1169 [==============================] - 2s 2ms/step - loss: 2.3460 - mae: 2.3460 - mape: 19.3455 - mse: 26.0506\n",
            "Epoch 24/50\n",
            "1169/1169 [==============================] - 2s 2ms/step - loss: 2.3375 - mae: 2.3375 - mape: 19.3312 - mse: 25.8671\n",
            "Epoch 25/50\n",
            "1169/1169 [==============================] - 2s 2ms/step - loss: 2.3298 - mae: 2.3298 - mape: 19.3136 - mse: 25.7241\n",
            "Epoch 26/50\n",
            "1169/1169 [==============================] - 2s 2ms/step - loss: 2.3236 - mae: 2.3236 - mape: 19.3021 - mse: 25.5967\n",
            "Epoch 27/50\n",
            "1169/1169 [==============================] - 2s 2ms/step - loss: 2.3180 - mae: 2.3180 - mape: 19.2871 - mse: 25.4879\n",
            "Epoch 28/50\n",
            "1169/1169 [==============================] - 2s 2ms/step - loss: 2.3129 - mae: 2.3129 - mape: 19.2667 - mse: 25.3984\n",
            "Epoch 29/50\n",
            "1169/1169 [==============================] - 5s 4ms/step - loss: 2.3081 - mae: 2.3081 - mape: 19.2624 - mse: 25.3028\n",
            "Epoch 30/50\n",
            "1169/1169 [==============================] - 2s 2ms/step - loss: 2.3029 - mae: 2.3029 - mape: 19.2484 - mse: 25.2196\n",
            "Epoch 31/50\n",
            "1169/1169 [==============================] - 3s 3ms/step - loss: 2.2981 - mae: 2.2981 - mape: 19.2277 - mse: 25.1490\n",
            "Epoch 32/50\n",
            "1169/1169 [==============================] - 3s 2ms/step - loss: 2.2933 - mae: 2.2933 - mape: 19.2143 - mse: 25.0674\n",
            "Epoch 33/50\n",
            "1169/1169 [==============================] - 2s 2ms/step - loss: 2.2881 - mae: 2.2881 - mape: 19.1959 - mse: 24.9963\n",
            "Epoch 34/50\n",
            "1169/1169 [==============================] - 2s 2ms/step - loss: 2.2828 - mae: 2.2828 - mape: 19.1775 - mse: 24.9255\n",
            "Epoch 35/50\n",
            "1169/1169 [==============================] - 2s 2ms/step - loss: 2.2772 - mae: 2.2772 - mape: 19.1542 - mse: 24.8583\n",
            "Epoch 36/50\n",
            "1169/1169 [==============================] - 2s 2ms/step - loss: 2.2718 - mae: 2.2718 - mape: 19.1371 - mse: 24.7802\n",
            "Epoch 37/50\n",
            "1169/1169 [==============================] - 2s 2ms/step - loss: 2.2660 - mae: 2.2660 - mape: 19.0947 - mse: 24.7237\n",
            "Epoch 38/50\n",
            "1169/1169 [==============================] - 2s 2ms/step - loss: 2.2599 - mae: 2.2599 - mape: 19.0591 - mse: 24.6644\n",
            "Epoch 39/50\n",
            "1169/1169 [==============================] - 2s 2ms/step - loss: 2.2533 - mae: 2.2533 - mape: 19.0171 - mse: 24.5872\n",
            "Epoch 40/50\n",
            "1169/1169 [==============================] - 2s 2ms/step - loss: 2.2469 - mae: 2.2469 - mape: 18.9784 - mse: 24.5230\n",
            "Epoch 41/50\n",
            "1169/1169 [==============================] - 2s 2ms/step - loss: 2.2404 - mae: 2.2404 - mape: 18.9345 - mse: 24.4560\n",
            "Epoch 42/50\n",
            "1169/1169 [==============================] - 2s 2ms/step - loss: 2.2336 - mae: 2.2336 - mape: 18.8997 - mse: 24.3818\n",
            "Epoch 43/50\n",
            "1169/1169 [==============================] - 2s 2ms/step - loss: 2.2275 - mae: 2.2275 - mape: 18.8552 - mse: 24.3275\n",
            "Epoch 44/50\n",
            "1169/1169 [==============================] - 2s 2ms/step - loss: 2.2218 - mae: 2.2218 - mape: 18.8264 - mse: 24.2659\n",
            "Epoch 45/50\n",
            "1169/1169 [==============================] - 2s 2ms/step - loss: 2.2165 - mae: 2.2165 - mape: 18.8046 - mse: 24.2023\n",
            "Epoch 46/50\n",
            "1169/1169 [==============================] - 2s 2ms/step - loss: 2.2123 - mae: 2.2123 - mape: 18.7869 - mse: 24.1533\n",
            "Epoch 47/50\n",
            "1169/1169 [==============================] - 2s 2ms/step - loss: 2.2085 - mae: 2.2085 - mape: 18.7660 - mse: 24.1156\n",
            "Epoch 48/50\n",
            "1169/1169 [==============================] - 2s 2ms/step - loss: 2.2053 - mae: 2.2053 - mape: 18.7501 - mse: 24.0811\n",
            "Epoch 49/50\n",
            "1169/1169 [==============================] - 2s 2ms/step - loss: 2.2030 - mae: 2.2030 - mape: 18.7448 - mse: 24.0404\n",
            "Epoch 50/50\n",
            "1169/1169 [==============================] - 2s 2ms/step - loss: 2.2007 - mae: 2.2007 - mape: 18.7384 - mse: 24.0164\n"
          ]
        }
      ]
    },
    {
      "cell_type": "code",
      "source": [
        "model.summary()"
      ],
      "metadata": {
        "colab": {
          "base_uri": "https://localhost:8080/"
        },
        "id": "EsbLUXp8MvkU",
        "outputId": "5d651d99-0380-428a-a2d4-4641e4910375"
      },
      "execution_count": 40,
      "outputs": [
        {
          "output_type": "stream",
          "name": "stdout",
          "text": [
            "Model: \"sequential\"\n",
            "_________________________________________________________________\n",
            " Layer (type)                Output Shape              Param #   \n",
            "=================================================================\n",
            " dense (Dense)               (None, 16)                128       \n",
            "                                                                 \n",
            " dense_1 (Dense)             (None, 8)                 136       \n",
            "                                                                 \n",
            " dense_2 (Dense)             (None, 1)                 9         \n",
            "                                                                 \n",
            "=================================================================\n",
            "Total params: 273\n",
            "Trainable params: 273\n",
            "Non-trainable params: 0\n",
            "_________________________________________________________________\n"
          ]
        }
      ]
    },
    {
      "cell_type": "code",
      "source": [
        "model.evaluate(x_test,y_test)"
      ],
      "metadata": {
        "colab": {
          "base_uri": "https://localhost:8080/"
        },
        "id": "uKwC5fcpI5rK",
        "outputId": "888adba5-905b-4cd0-e9a5-7b6f3f098021"
      },
      "execution_count": 41,
      "outputs": [
        {
          "output_type": "stream",
          "name": "stdout",
          "text": [
            "1559/1559 [==============================] - 3s 2ms/step - loss: 2.1863 - mae: 2.1863 - mape: 18.6684 - mse: 24.2106\n"
          ]
        },
        {
          "output_type": "execute_result",
          "data": {
            "text/plain": [
              "[2.1862690448760986,\n",
              " 2.1862690448760986,\n",
              " 18.668365478515625,\n",
              " 24.210617065429688]"
            ]
          },
          "metadata": {},
          "execution_count": 41
        }
      ]
    },
    {
      "cell_type": "code",
      "source": [
        "pred=model.predict(x_test)"
      ],
      "metadata": {
        "id": "A0v-rukCy0tJ"
      },
      "execution_count": 42,
      "outputs": []
    },
    {
      "cell_type": "code",
      "source": [
        "from sklearn.metrics import mean_squared_error,r2_score,mean_absolute_percentage_error,mean_absolute_error\n",
        "print(\"MAPE: \",mean_absolute_percentage_error(y_test,pred))\n",
        "print(\"MAE: \",mean_absolute_error(y_test,pred))\n",
        "print(\"MSE: \",mean_squared_error(y_test,pred))"
      ],
      "metadata": {
        "colab": {
          "base_uri": "https://localhost:8080/"
        },
        "id": "spJbYwxsyT3q",
        "outputId": "b2a240de-642f-4321-a7e0-f690428f93ae"
      },
      "execution_count": 43,
      "outputs": [
        {
          "output_type": "stream",
          "name": "stdout",
          "text": [
            "MAPE:  0.1866839063760478\n",
            "MAE:  2.1862680541626744\n",
            "MSE:  24.2106039331356\n"
          ]
        }
      ]
    },
    {
      "cell_type": "code",
      "source": [
        "M1 = [mean_absolute_percentage_error(y_test,pred),mean_absolute_error(y_test,pred),mean_squared_error(y_test,pred)]"
      ],
      "metadata": {
        "id": "dOo49fhg1x4c"
      },
      "execution_count": 44,
      "outputs": []
    },
    {
      "cell_type": "code",
      "source": [
        "M =[] # to append all errors in one list\n",
        "M.append(M1)"
      ],
      "metadata": {
        "id": "NqJ_vnVo2f01"
      },
      "execution_count": 45,
      "outputs": []
    },
    {
      "cell_type": "markdown",
      "source": [
        "##B: Layers and Neurons"
      ],
      "metadata": {
        "id": "HGaGfKCL1EYQ"
      }
    },
    {
      "cell_type": "code",
      "source": [
        "# Build a neural network with 3 layers\n",
        "\n",
        "tf.random.set_seed(42)\n",
        "\n",
        "# 1. Create a model\n",
        "model = tf.keras.Sequential([\n",
        "                                       tf.keras.layers.Dense(32, activation='sigmoid'),\n",
        "                                       tf.keras.layers.Dense(16, activation='sigmoid'),\n",
        "                                       tf.keras.layers.Dense(8, activation='sigmoid'),\n",
        "                                       tf.keras.layers.Dense(1)\n",
        "])\n",
        "# 2. Compile the model\n",
        "model.compile(loss = tf.keras.losses.mae,\n",
        "                        optimizer = tf.keras.optimizers.SGD(learning_rate=0.01),\n",
        "                        metrics = [\"mae\",\"mape\",\"mse\"]\n",
        "                        )\n",
        "\n",
        "# 3. Fitting the model\n",
        "history = model.fit(x_train, y_train, epochs = 50,batch_size = 128)"
      ],
      "metadata": {
        "colab": {
          "base_uri": "https://localhost:8080/"
        },
        "id": "V_xuJorU1DWz",
        "outputId": "f518ab98-5987-4923-b89e-c053468deb01"
      },
      "execution_count": 46,
      "outputs": [
        {
          "output_type": "stream",
          "name": "stdout",
          "text": [
            "Epoch 1/50\n",
            "1169/1169 [==============================] - 3s 2ms/step - loss: 5.7197 - mae: 5.7197 - mape: 45.0218 - mse: 108.2191\n",
            "Epoch 2/50\n",
            "1169/1169 [==============================] - 2s 2ms/step - loss: 5.3361 - mae: 5.3361 - mape: 43.4715 - mse: 98.9103\n",
            "Epoch 3/50\n",
            "1169/1169 [==============================] - 2s 2ms/step - loss: 5.2786 - mae: 5.2786 - mape: 42.7339 - mse: 97.5040\n",
            "Epoch 4/50\n",
            "1169/1169 [==============================] - 2s 2ms/step - loss: 4.8845 - mae: 4.8845 - mape: 38.5289 - mse: 88.4157\n",
            "Epoch 5/50\n",
            "1169/1169 [==============================] - 2s 2ms/step - loss: 3.4087 - mae: 3.4087 - mape: 24.5355 - mse: 58.7062\n",
            "Epoch 6/50\n",
            "1169/1169 [==============================] - 2s 2ms/step - loss: 3.0120 - mae: 3.0120 - mape: 22.2283 - mse: 46.7804\n",
            "Epoch 7/50\n",
            "1169/1169 [==============================] - 2s 2ms/step - loss: 2.8909 - mae: 2.8909 - mape: 22.1795 - mse: 41.9782\n",
            "Epoch 8/50\n",
            "1169/1169 [==============================] - 2s 2ms/step - loss: 2.7958 - mae: 2.7958 - mape: 21.8794 - mse: 38.6683\n",
            "Epoch 9/50\n",
            "1169/1169 [==============================] - 2s 2ms/step - loss: 2.7190 - mae: 2.7190 - mape: 21.5246 - mse: 36.2106\n",
            "Epoch 10/50\n",
            "1169/1169 [==============================] - 2s 2ms/step - loss: 2.6527 - mae: 2.6527 - mape: 21.1222 - mse: 34.2839\n",
            "Epoch 11/50\n",
            "1169/1169 [==============================] - 2s 2ms/step - loss: 2.5948 - mae: 2.5948 - mape: 20.7431 - mse: 32.6975\n",
            "Epoch 12/50\n",
            "1169/1169 [==============================] - 2s 2ms/step - loss: 2.5452 - mae: 2.5452 - mape: 20.3939 - mse: 31.3719\n",
            "Epoch 13/50\n",
            "1169/1169 [==============================] - 2s 2ms/step - loss: 2.5035 - mae: 2.5035 - mape: 20.0953 - mse: 30.3078\n",
            "Epoch 14/50\n",
            "1169/1169 [==============================] - 2s 2ms/step - loss: 2.4697 - mae: 2.4697 - mape: 19.8746 - mse: 29.3744\n",
            "Epoch 15/50\n",
            "1169/1169 [==============================] - 2s 2ms/step - loss: 2.4422 - mae: 2.4422 - mape: 19.7044 - mse: 28.6219\n",
            "Epoch 16/50\n",
            "1169/1169 [==============================] - 2s 2ms/step - loss: 2.4193 - mae: 2.4193 - mape: 19.5849 - mse: 27.9909\n",
            "Epoch 17/50\n",
            "1169/1169 [==============================] - 2s 2ms/step - loss: 2.4001 - mae: 2.4001 - mape: 19.5105 - mse: 27.4514\n",
            "Epoch 18/50\n",
            "1169/1169 [==============================] - 2s 2ms/step - loss: 2.3823 - mae: 2.3823 - mape: 19.4594 - mse: 26.9652\n",
            "Epoch 19/50\n",
            "1169/1169 [==============================] - 2s 2ms/step - loss: 2.3645 - mae: 2.3645 - mape: 19.4007 - mse: 26.5492\n",
            "Epoch 20/50\n",
            "1169/1169 [==============================] - 2s 2ms/step - loss: 2.3473 - mae: 2.3473 - mape: 19.3454 - mse: 26.1621\n",
            "Epoch 21/50\n",
            "1169/1169 [==============================] - 2s 2ms/step - loss: 2.3294 - mae: 2.3294 - mape: 19.2982 - mse: 25.8100\n",
            "Epoch 22/50\n",
            "1169/1169 [==============================] - 3s 2ms/step - loss: 2.3102 - mae: 2.3102 - mape: 19.2125 - mse: 25.4879\n",
            "Epoch 23/50\n",
            "1169/1169 [==============================] - 2s 2ms/step - loss: 2.2917 - mae: 2.2917 - mape: 19.1395 - mse: 25.2084\n",
            "Epoch 24/50\n",
            "1169/1169 [==============================] - 2s 2ms/step - loss: 2.2751 - mae: 2.2751 - mape: 19.0490 - mse: 24.9657\n",
            "Epoch 25/50\n",
            "1169/1169 [==============================] - 2s 2ms/step - loss: 2.2597 - mae: 2.2597 - mape: 18.9685 - mse: 24.7686\n",
            "Epoch 26/50\n",
            "1169/1169 [==============================] - 2s 2ms/step - loss: 2.2461 - mae: 2.2461 - mape: 18.8978 - mse: 24.5910\n",
            "Epoch 27/50\n",
            "1169/1169 [==============================] - 2s 2ms/step - loss: 2.2345 - mae: 2.2345 - mape: 18.8488 - mse: 24.4317\n",
            "Epoch 28/50\n",
            "1169/1169 [==============================] - 2s 2ms/step - loss: 2.2247 - mae: 2.2247 - mape: 18.8098 - mse: 24.3026\n",
            "Epoch 29/50\n",
            "1169/1169 [==============================] - 2s 2ms/step - loss: 2.2164 - mae: 2.2164 - mape: 18.7896 - mse: 24.1906\n",
            "Epoch 30/50\n",
            "1169/1169 [==============================] - 2s 2ms/step - loss: 2.2095 - mae: 2.2095 - mape: 18.7632 - mse: 24.1011\n",
            "Epoch 31/50\n",
            "1169/1169 [==============================] - 2s 2ms/step - loss: 2.2044 - mae: 2.2044 - mape: 18.7323 - mse: 24.0453\n",
            "Epoch 32/50\n",
            "1169/1169 [==============================] - 2s 2ms/step - loss: 2.2004 - mae: 2.2004 - mape: 18.7180 - mse: 23.9855\n",
            "Epoch 33/50\n",
            "1169/1169 [==============================] - 2s 2ms/step - loss: 2.1968 - mae: 2.1968 - mape: 18.6876 - mse: 23.9485\n",
            "Epoch 34/50\n",
            "1169/1169 [==============================] - 2s 2ms/step - loss: 2.1938 - mae: 2.1938 - mape: 18.6715 - mse: 23.9080\n",
            "Epoch 35/50\n",
            "1169/1169 [==============================] - 2s 2ms/step - loss: 2.1909 - mae: 2.1909 - mape: 18.6577 - mse: 23.8638\n",
            "Epoch 36/50\n",
            "1169/1169 [==============================] - 2s 2ms/step - loss: 2.1885 - mae: 2.1885 - mape: 18.6425 - mse: 23.8336\n",
            "Epoch 37/50\n",
            "1169/1169 [==============================] - 3s 2ms/step - loss: 2.1862 - mae: 2.1862 - mape: 18.6207 - mse: 23.8071\n",
            "Epoch 38/50\n",
            "1169/1169 [==============================] - 3s 2ms/step - loss: 2.1837 - mae: 2.1837 - mape: 18.6069 - mse: 23.7813\n",
            "Epoch 39/50\n",
            "1169/1169 [==============================] - 2s 2ms/step - loss: 2.1812 - mae: 2.1812 - mape: 18.5856 - mse: 23.7514\n",
            "Epoch 40/50\n",
            "1169/1169 [==============================] - 3s 2ms/step - loss: 2.1787 - mae: 2.1787 - mape: 18.5699 - mse: 23.7216\n",
            "Epoch 41/50\n",
            "1169/1169 [==============================] - 3s 2ms/step - loss: 2.1767 - mae: 2.1767 - mape: 18.5513 - mse: 23.6980\n",
            "Epoch 42/50\n",
            "1169/1169 [==============================] - 3s 2ms/step - loss: 2.1739 - mae: 2.1739 - mape: 18.5363 - mse: 23.6649\n",
            "Epoch 43/50\n",
            "1169/1169 [==============================] - 2s 2ms/step - loss: 2.1718 - mae: 2.1718 - mape: 18.5263 - mse: 23.6468\n",
            "Epoch 44/50\n",
            "1169/1169 [==============================] - 2s 2ms/step - loss: 2.1691 - mae: 2.1691 - mape: 18.5067 - mse: 23.6208\n",
            "Epoch 45/50\n",
            "1169/1169 [==============================] - 2s 2ms/step - loss: 2.1665 - mae: 2.1665 - mape: 18.4898 - mse: 23.5883\n",
            "Epoch 46/50\n",
            "1169/1169 [==============================] - 2s 2ms/step - loss: 2.1640 - mae: 2.1640 - mape: 18.4724 - mse: 23.5618\n",
            "Epoch 47/50\n",
            "1169/1169 [==============================] - 2s 2ms/step - loss: 2.1619 - mae: 2.1619 - mape: 18.4590 - mse: 23.5430\n",
            "Epoch 48/50\n",
            "1169/1169 [==============================] - 2s 2ms/step - loss: 2.1597 - mae: 2.1597 - mape: 18.4341 - mse: 23.5360\n",
            "Epoch 49/50\n",
            "1169/1169 [==============================] - 2s 2ms/step - loss: 2.1576 - mae: 2.1576 - mape: 18.4246 - mse: 23.5009\n",
            "Epoch 50/50\n",
            "1169/1169 [==============================] - 2s 2ms/step - loss: 2.1558 - mae: 2.1558 - mape: 18.4209 - mse: 23.4824\n"
          ]
        }
      ]
    },
    {
      "cell_type": "code",
      "source": [
        "model.summary()"
      ],
      "metadata": {
        "colab": {
          "base_uri": "https://localhost:8080/"
        },
        "id": "N7X-c5Ow1kIA",
        "outputId": "59d5c94f-da46-4ef3-fa87-5aac4a6c4892"
      },
      "execution_count": 47,
      "outputs": [
        {
          "output_type": "stream",
          "name": "stdout",
          "text": [
            "Model: \"sequential_1\"\n",
            "_________________________________________________________________\n",
            " Layer (type)                Output Shape              Param #   \n",
            "=================================================================\n",
            " dense_3 (Dense)             (None, 32)                256       \n",
            "                                                                 \n",
            " dense_4 (Dense)             (None, 16)                528       \n",
            "                                                                 \n",
            " dense_5 (Dense)             (None, 8)                 136       \n",
            "                                                                 \n",
            " dense_6 (Dense)             (None, 1)                 9         \n",
            "                                                                 \n",
            "=================================================================\n",
            "Total params: 929\n",
            "Trainable params: 929\n",
            "Non-trainable params: 0\n",
            "_________________________________________________________________\n"
          ]
        }
      ]
    },
    {
      "cell_type": "code",
      "source": [
        "model.evaluate(x_test,y_test)"
      ],
      "metadata": {
        "colab": {
          "base_uri": "https://localhost:8080/"
        },
        "id": "mfBLwHEJ2P3T",
        "outputId": "006df65e-81d8-46a0-f7c6-f9c1c15ac071"
      },
      "execution_count": 48,
      "outputs": [
        {
          "output_type": "stream",
          "name": "stdout",
          "text": [
            "1559/1559 [==============================] - 3s 2ms/step - loss: 2.1467 - mae: 2.1467 - mape: 18.2646 - mse: 23.8306\n"
          ]
        },
        {
          "output_type": "execute_result",
          "data": {
            "text/plain": [
              "[2.1466901302337646, 2.1466901302337646, 18.264551162719727, 23.83064079284668]"
            ]
          },
          "metadata": {},
          "execution_count": 48
        }
      ]
    },
    {
      "cell_type": "code",
      "source": [
        "pred=model.predict(x_test)"
      ],
      "metadata": {
        "id": "5TexAa7H2Sww"
      },
      "execution_count": 49,
      "outputs": []
    },
    {
      "cell_type": "code",
      "source": [
        "from sklearn.metrics import mean_squared_error,r2_score,mean_absolute_percentage_error,mean_absolute_error\n",
        "print(\"MAPE: \",mean_absolute_percentage_error(y_test,pred))\n",
        "print(\"MAE: \",mean_absolute_error(y_test,pred))\n",
        "print(\"MSE: \",mean_squared_error(y_test,pred))"
      ],
      "metadata": {
        "colab": {
          "base_uri": "https://localhost:8080/"
        },
        "id": "nqkMBvlc2Uko",
        "outputId": "783a65ff-9f6e-4afc-c209-98f621367a81"
      },
      "execution_count": 50,
      "outputs": [
        {
          "output_type": "stream",
          "name": "stdout",
          "text": [
            "MAPE:  0.18264539853675882\n",
            "MAE:  2.146690344330551\n",
            "MSE:  23.830639380703868\n"
          ]
        }
      ]
    },
    {
      "cell_type": "code",
      "source": [
        "M2 = [mean_absolute_percentage_error(y_test,pred),mean_absolute_error(y_test,pred),mean_squared_error(y_test,pred)]\n",
        "M.append(M2)"
      ],
      "metadata": {
        "id": "pXCJMF0H2Wj-"
      },
      "execution_count": 51,
      "outputs": []
    },
    {
      "cell_type": "code",
      "source": [
        "# Build a neural network with 4 layers\n",
        "\n",
        "tf.random.set_seed(42)\n",
        "\n",
        "# 1. Create a model\n",
        "model = tf.keras.Sequential([\n",
        "                                       tf.keras.layers.Dense(32, activation='sigmoid'),\n",
        "                                       tf.keras.layers.Dense(64, activation='sigmoid'),\n",
        "                                       tf.keras.layers.Dense(16, activation='sigmoid'),\n",
        "                                       tf.keras.layers.Dense(8, activation='sigmoid'),\n",
        "                                       tf.keras.layers.Dense(1)\n",
        "])\n",
        "# 2. Compile the model\n",
        "model.compile(loss = tf.keras.losses.mae,\n",
        "                        optimizer = tf.keras.optimizers.SGD(learning_rate=0.01),\n",
        "                        metrics = [\"mae\",\"mape\",\"mse\"]\n",
        "                        )\n",
        "\n",
        "# 3. Fitting the model\n",
        "history = model.fit(x_train, y_train, epochs = 50,batch_size = 128)"
      ],
      "metadata": {
        "colab": {
          "base_uri": "https://localhost:8080/"
        },
        "id": "t-L3Sfnq238c",
        "outputId": "ed474c35-bd36-4128-de4d-f7942f6f65d7"
      },
      "execution_count": 52,
      "outputs": [
        {
          "output_type": "stream",
          "name": "stdout",
          "text": [
            "Epoch 1/50\n",
            "1169/1169 [==============================] - 3s 2ms/step - loss: 5.7372 - mae: 5.7372 - mape: 45.1450 - mse: 108.6557\n",
            "Epoch 2/50\n",
            "1169/1169 [==============================] - 3s 2ms/step - loss: 5.3614 - mae: 5.3614 - mape: 43.7727 - mse: 99.5916\n",
            "Epoch 3/50\n",
            "1169/1169 [==============================] - 3s 2ms/step - loss: 5.3598 - mae: 5.3598 - mape: 43.7636 - mse: 99.5364\n",
            "Epoch 4/50\n",
            "1169/1169 [==============================] - 3s 2ms/step - loss: 5.3576 - mae: 5.3576 - mape: 43.7169 - mse: 99.4940\n",
            "Epoch 5/50\n",
            "1169/1169 [==============================] - 3s 2ms/step - loss: 5.3541 - mae: 5.3541 - mape: 43.6941 - mse: 99.3770\n",
            "Epoch 6/50\n",
            "1169/1169 [==============================] - 3s 2ms/step - loss: 5.3476 - mae: 5.3476 - mape: 43.6097 - mse: 99.2074\n",
            "Epoch 7/50\n",
            "1169/1169 [==============================] - 3s 2ms/step - loss: 5.3340 - mae: 5.3340 - mape: 43.4336 - mse: 98.8528\n",
            "Epoch 8/50\n",
            "1169/1169 [==============================] - 3s 2ms/step - loss: 5.2983 - mae: 5.2983 - mape: 42.9811 - mse: 97.9392\n",
            "Epoch 9/50\n",
            "1169/1169 [==============================] - 3s 2ms/step - loss: 5.1488 - mae: 5.1488 - mape: 41.3885 - mse: 94.1145\n",
            "Epoch 10/50\n",
            "1169/1169 [==============================] - 3s 2ms/step - loss: 4.1341 - mae: 4.1341 - mape: 31.5110 - mse: 73.5225\n",
            "Epoch 11/50\n",
            "1169/1169 [==============================] - 3s 2ms/step - loss: 3.1771 - mae: 3.1771 - mape: 23.0458 - mse: 52.4327\n",
            "Epoch 12/50\n",
            "1169/1169 [==============================] - 3s 2ms/step - loss: 3.0023 - mae: 3.0023 - mape: 22.7316 - mse: 45.6937\n",
            "Epoch 13/50\n",
            "1169/1169 [==============================] - 3s 2ms/step - loss: 2.8600 - mae: 2.8600 - mape: 22.0379 - mse: 41.2278\n",
            "Epoch 14/50\n",
            "1169/1169 [==============================] - 3s 2ms/step - loss: 2.7519 - mae: 2.7519 - mape: 21.4856 - mse: 37.7773\n",
            "Epoch 15/50\n",
            "1169/1169 [==============================] - 3s 2ms/step - loss: 2.6662 - mae: 2.6662 - mape: 20.9878 - mse: 35.2062\n",
            "Epoch 16/50\n",
            "1169/1169 [==============================] - 3s 2ms/step - loss: 2.5980 - mae: 2.5980 - mape: 20.5808 - mse: 33.2146\n",
            "Epoch 17/50\n",
            "1169/1169 [==============================] - 3s 2ms/step - loss: 2.5464 - mae: 2.5464 - mape: 20.2808 - mse: 31.6709\n",
            "Epoch 18/50\n",
            "1169/1169 [==============================] - 3s 2ms/step - loss: 2.5081 - mae: 2.5081 - mape: 20.0898 - mse: 30.4552\n",
            "Epoch 19/50\n",
            "1169/1169 [==============================] - 3s 2ms/step - loss: 2.4773 - mae: 2.4773 - mape: 19.9226 - mse: 29.5421\n",
            "Epoch 20/50\n",
            "1169/1169 [==============================] - 3s 2ms/step - loss: 2.4522 - mae: 2.4522 - mape: 19.7979 - mse: 28.7795\n",
            "Epoch 21/50\n",
            "1169/1169 [==============================] - 3s 2ms/step - loss: 2.4302 - mae: 2.4302 - mape: 19.7199 - mse: 28.1257\n",
            "Epoch 22/50\n",
            "1169/1169 [==============================] - 3s 2ms/step - loss: 2.4100 - mae: 2.4100 - mape: 19.6445 - mse: 27.5643\n",
            "Epoch 23/50\n",
            "1169/1169 [==============================] - 3s 2ms/step - loss: 2.3902 - mae: 2.3902 - mape: 19.5686 - mse: 27.0689\n",
            "Epoch 24/50\n",
            "1169/1169 [==============================] - 3s 2ms/step - loss: 2.3707 - mae: 2.3707 - mape: 19.5079 - mse: 26.6100\n",
            "Epoch 25/50\n",
            "1169/1169 [==============================] - 3s 2ms/step - loss: 2.3491 - mae: 2.3491 - mape: 19.4226 - mse: 26.1926\n",
            "Epoch 26/50\n",
            "1169/1169 [==============================] - 3s 2ms/step - loss: 2.3266 - mae: 2.3266 - mape: 19.3068 - mse: 25.8158\n",
            "Epoch 27/50\n",
            "1169/1169 [==============================] - 3s 2ms/step - loss: 2.3043 - mae: 2.3043 - mape: 19.2001 - mse: 25.4588\n",
            "Epoch 28/50\n",
            "1169/1169 [==============================] - 3s 2ms/step - loss: 2.2839 - mae: 2.2839 - mape: 19.1124 - mse: 25.1532\n",
            "Epoch 29/50\n",
            "1169/1169 [==============================] - 3s 2ms/step - loss: 2.2681 - mae: 2.2681 - mape: 19.0469 - mse: 24.9130\n",
            "Epoch 30/50\n",
            "1169/1169 [==============================] - 3s 2ms/step - loss: 2.2557 - mae: 2.2557 - mape: 18.9963 - mse: 24.7280\n",
            "Epoch 31/50\n",
            "1169/1169 [==============================] - 3s 2ms/step - loss: 2.2456 - mae: 2.2456 - mape: 18.9580 - mse: 24.5790\n",
            "Epoch 32/50\n",
            "1169/1169 [==============================] - 3s 2ms/step - loss: 2.2369 - mae: 2.2369 - mape: 18.9310 - mse: 24.4445\n",
            "Epoch 33/50\n",
            "1169/1169 [==============================] - 3s 2ms/step - loss: 2.2291 - mae: 2.2291 - mape: 18.9108 - mse: 24.3284\n",
            "Epoch 34/50\n",
            "1169/1169 [==============================] - 3s 2ms/step - loss: 2.2222 - mae: 2.2222 - mape: 18.8938 - mse: 24.2321\n",
            "Epoch 35/50\n",
            "1169/1169 [==============================] - 3s 2ms/step - loss: 2.2160 - mae: 2.2160 - mape: 18.8731 - mse: 24.1435\n",
            "Epoch 36/50\n",
            "1169/1169 [==============================] - 3s 2ms/step - loss: 2.2115 - mae: 2.2115 - mape: 18.8434 - mse: 24.0916\n",
            "Epoch 37/50\n",
            "1169/1169 [==============================] - 3s 2ms/step - loss: 2.2079 - mae: 2.2079 - mape: 18.8114 - mse: 24.0425\n",
            "Epoch 38/50\n",
            "1169/1169 [==============================] - 3s 2ms/step - loss: 2.2043 - mae: 2.2043 - mape: 18.7867 - mse: 24.0086\n",
            "Epoch 39/50\n",
            "1169/1169 [==============================] - 3s 2ms/step - loss: 2.2010 - mae: 2.2010 - mape: 18.7576 - mse: 23.9742\n",
            "Epoch 40/50\n",
            "1169/1169 [==============================] - 3s 2ms/step - loss: 2.1982 - mae: 2.1982 - mape: 18.7315 - mse: 23.9396\n",
            "Epoch 41/50\n",
            "1169/1169 [==============================] - 3s 2ms/step - loss: 2.1960 - mae: 2.1960 - mape: 18.7043 - mse: 23.9191\n",
            "Epoch 42/50\n",
            "1169/1169 [==============================] - 3s 2ms/step - loss: 2.1932 - mae: 2.1932 - mape: 18.6916 - mse: 23.8828\n",
            "Epoch 43/50\n",
            "1169/1169 [==============================] - 3s 2ms/step - loss: 2.1914 - mae: 2.1914 - mape: 18.6768 - mse: 23.8692\n",
            "Epoch 44/50\n",
            "1169/1169 [==============================] - 3s 2ms/step - loss: 2.1887 - mae: 2.1887 - mape: 18.6649 - mse: 23.8414\n",
            "Epoch 45/50\n",
            "1169/1169 [==============================] - 3s 2ms/step - loss: 2.1860 - mae: 2.1860 - mape: 18.6300 - mse: 23.8090\n",
            "Epoch 46/50\n",
            "1169/1169 [==============================] - 3s 2ms/step - loss: 2.1836 - mae: 2.1836 - mape: 18.6220 - mse: 23.7751\n",
            "Epoch 47/50\n",
            "1169/1169 [==============================] - 3s 2ms/step - loss: 2.1809 - mae: 2.1809 - mape: 18.6033 - mse: 23.7517\n",
            "Epoch 48/50\n",
            "1169/1169 [==============================] - 3s 2ms/step - loss: 2.1785 - mae: 2.1785 - mape: 18.5707 - mse: 23.7433\n",
            "Epoch 49/50\n",
            "1169/1169 [==============================] - 3s 2ms/step - loss: 2.1760 - mae: 2.1760 - mape: 18.5658 - mse: 23.7011\n",
            "Epoch 50/50\n",
            "1169/1169 [==============================] - 3s 2ms/step - loss: 2.1728 - mae: 2.1728 - mape: 18.5444 - mse: 23.6716\n"
          ]
        }
      ]
    },
    {
      "cell_type": "code",
      "source": [
        "model.summary()"
      ],
      "metadata": {
        "colab": {
          "base_uri": "https://localhost:8080/"
        },
        "id": "EQ6Pu7cw3MOD",
        "outputId": "0098371e-91b2-4c4f-95d7-a0920c41d2e0"
      },
      "execution_count": 53,
      "outputs": [
        {
          "output_type": "stream",
          "name": "stdout",
          "text": [
            "Model: \"sequential_2\"\n",
            "_________________________________________________________________\n",
            " Layer (type)                Output Shape              Param #   \n",
            "=================================================================\n",
            " dense_7 (Dense)             (None, 32)                256       \n",
            "                                                                 \n",
            " dense_8 (Dense)             (None, 64)                2112      \n",
            "                                                                 \n",
            " dense_9 (Dense)             (None, 16)                1040      \n",
            "                                                                 \n",
            " dense_10 (Dense)            (None, 8)                 136       \n",
            "                                                                 \n",
            " dense_11 (Dense)            (None, 1)                 9         \n",
            "                                                                 \n",
            "=================================================================\n",
            "Total params: 3,553\n",
            "Trainable params: 3,553\n",
            "Non-trainable params: 0\n",
            "_________________________________________________________________\n"
          ]
        }
      ]
    },
    {
      "cell_type": "code",
      "source": [
        "model.evaluate(x_test,y_test)"
      ],
      "metadata": {
        "colab": {
          "base_uri": "https://localhost:8080/"
        },
        "id": "jVdaLJ4N3P1C",
        "outputId": "e9f970e1-a0e5-4581-8335-06681a2569b9"
      },
      "execution_count": 54,
      "outputs": [
        {
          "output_type": "stream",
          "name": "stdout",
          "text": [
            "1559/1559 [==============================] - 3s 2ms/step - loss: 2.1618 - mae: 2.1618 - mape: 18.2352 - mse: 24.0874\n"
          ]
        },
        {
          "output_type": "execute_result",
          "data": {
            "text/plain": [
              "[2.161818265914917, 2.161818265914917, 18.23517417907715, 24.087371826171875]"
            ]
          },
          "metadata": {},
          "execution_count": 54
        }
      ]
    },
    {
      "cell_type": "code",
      "source": [
        "pred=model.predict(x_test)"
      ],
      "metadata": {
        "id": "4Bx6br_Y3R30"
      },
      "execution_count": 55,
      "outputs": []
    },
    {
      "cell_type": "code",
      "source": [
        "from sklearn.metrics import mean_squared_error,r2_score,mean_absolute_percentage_error,mean_absolute_error\n",
        "print(\"MAPE: \",mean_absolute_percentage_error(y_test,pred))\n",
        "print(\"MAE: \",mean_absolute_error(y_test,pred))\n",
        "print(\"MSE: \",mean_squared_error(y_test,pred))"
      ],
      "metadata": {
        "colab": {
          "base_uri": "https://localhost:8080/"
        },
        "id": "EUJZ_M2Q3bcr",
        "outputId": "23faa03a-f2fa-4a72-e9c5-878ebf4f0584"
      },
      "execution_count": 56,
      "outputs": [
        {
          "output_type": "stream",
          "name": "stdout",
          "text": [
            "MAPE:  0.18235189424790307\n",
            "MAE:  2.161817541811745\n",
            "MSE:  24.087351900752086\n"
          ]
        }
      ]
    },
    {
      "cell_type": "code",
      "source": [
        "M3 = [mean_absolute_percentage_error(y_test,pred),mean_absolute_error(y_test,pred),mean_squared_error(y_test,pred)]\n",
        "M.append(M3)"
      ],
      "metadata": {
        "id": "lqnLgWN63T7u"
      },
      "execution_count": 57,
      "outputs": []
    },
    {
      "cell_type": "markdown",
      "source": [
        "##C: Activation functions"
      ],
      "metadata": {
        "id": "T_71nkB33nib"
      }
    },
    {
      "cell_type": "markdown",
      "source": [
        "###relu"
      ],
      "metadata": {
        "id": "ZD-LnTLxA6EQ"
      }
    },
    {
      "cell_type": "code",
      "source": [
        "# Build a neural network with 4 layers\n",
        "\n",
        "tf.random.set_seed(42)\n",
        "\n",
        "# 1. Create a model\n",
        "model = tf.keras.Sequential([\n",
        "                                       tf.keras.layers.Dense(32, activation='relu'),\n",
        "                                       tf.keras.layers.Dense(64, activation='relu'),\n",
        "                                       tf.keras.layers.Dense(16, activation='relu'),\n",
        "                                       tf.keras.layers.Dense(8, activation='relu'),\n",
        "                                       tf.keras.layers.Dense(1)\n",
        "])\n",
        "# 2. Compile the model\n",
        "model.compile(loss = tf.keras.losses.mae,\n",
        "                        optimizer = tf.keras.optimizers.SGD(learning_rate=0.01),\n",
        "                        metrics = [\"mae\",\"mape\",\"mse\"]\n",
        "                        )\n",
        "\n",
        "# 3. Fitting the model\n",
        "history = model.fit(x_train, y_train, epochs = 50,batch_size = 128)"
      ],
      "metadata": {
        "colab": {
          "base_uri": "https://localhost:8080/"
        },
        "id": "J1Tew0-A4Ds6",
        "outputId": "10042c0d-21cc-4f6b-cd96-7715cdc39bc3"
      },
      "execution_count": 58,
      "outputs": [
        {
          "output_type": "stream",
          "name": "stdout",
          "text": [
            "Epoch 1/50\n",
            "1169/1169 [==============================] - 3s 2ms/step - loss: 2.7305 - mae: 2.7305 - mape: 23.7437 - mse: 33.5150\n",
            "Epoch 2/50\n",
            "1169/1169 [==============================] - 3s 2ms/step - loss: 2.2291 - mae: 2.2291 - mape: 19.1094 - mse: 24.6559\n",
            "Epoch 3/50\n",
            "1169/1169 [==============================] - 3s 2ms/step - loss: 2.2101 - mae: 2.2101 - mape: 18.9567 - mse: 24.4145\n",
            "Epoch 4/50\n",
            "1169/1169 [==============================] - 3s 2ms/step - loss: 2.1978 - mae: 2.1978 - mape: 18.8505 - mse: 24.2588\n",
            "Epoch 5/50\n",
            "1169/1169 [==============================] - 3s 2ms/step - loss: 2.1906 - mae: 2.1906 - mape: 18.7390 - mse: 24.2018\n",
            "Epoch 6/50\n",
            "1169/1169 [==============================] - 3s 2ms/step - loss: 2.1813 - mae: 2.1813 - mape: 18.6543 - mse: 24.1180\n",
            "Epoch 7/50\n",
            "1169/1169 [==============================] - 3s 2ms/step - loss: 2.1754 - mae: 2.1754 - mape: 18.6009 - mse: 24.1046\n",
            "Epoch 8/50\n",
            "1169/1169 [==============================] - 3s 2ms/step - loss: 2.1698 - mae: 2.1698 - mape: 18.5509 - mse: 23.9987\n",
            "Epoch 9/50\n",
            "1169/1169 [==============================] - 3s 2ms/step - loss: 2.1661 - mae: 2.1661 - mape: 18.4931 - mse: 23.9899\n",
            "Epoch 10/50\n",
            "1169/1169 [==============================] - 3s 2ms/step - loss: 2.1604 - mae: 2.1604 - mape: 18.4500 - mse: 23.9386\n",
            "Epoch 11/50\n",
            "1169/1169 [==============================] - 3s 2ms/step - loss: 2.1588 - mae: 2.1588 - mape: 18.4357 - mse: 23.9100\n",
            "Epoch 12/50\n",
            "1169/1169 [==============================] - 3s 2ms/step - loss: 2.1554 - mae: 2.1554 - mape: 18.4141 - mse: 23.7993\n",
            "Epoch 13/50\n",
            "1169/1169 [==============================] - 3s 2ms/step - loss: 2.1518 - mae: 2.1518 - mape: 18.3804 - mse: 23.7589\n",
            "Epoch 14/50\n",
            "1169/1169 [==============================] - 3s 2ms/step - loss: 2.1482 - mae: 2.1482 - mape: 18.3399 - mse: 23.7989\n",
            "Epoch 15/50\n",
            "1169/1169 [==============================] - 3s 2ms/step - loss: 2.1463 - mae: 2.1463 - mape: 18.3303 - mse: 23.7720\n",
            "Epoch 16/50\n",
            "1169/1169 [==============================] - 3s 2ms/step - loss: 2.1441 - mae: 2.1441 - mape: 18.3226 - mse: 23.7225\n",
            "Epoch 17/50\n",
            "1169/1169 [==============================] - 3s 2ms/step - loss: 2.1428 - mae: 2.1428 - mape: 18.3115 - mse: 23.6642\n",
            "Epoch 18/50\n",
            "1169/1169 [==============================] - 3s 2ms/step - loss: 2.1404 - mae: 2.1404 - mape: 18.2989 - mse: 23.6530\n",
            "Epoch 19/50\n",
            "1169/1169 [==============================] - 3s 2ms/step - loss: 2.1371 - mae: 2.1371 - mape: 18.2613 - mse: 23.5543\n",
            "Epoch 20/50\n",
            "1169/1169 [==============================] - 3s 2ms/step - loss: 2.1373 - mae: 2.1373 - mape: 18.2652 - mse: 23.6141\n",
            "Epoch 21/50\n",
            "1169/1169 [==============================] - 3s 2ms/step - loss: 2.1354 - mae: 2.1354 - mape: 18.2639 - mse: 23.5503\n",
            "Epoch 22/50\n",
            "1169/1169 [==============================] - 3s 2ms/step - loss: 2.1338 - mae: 2.1338 - mape: 18.2539 - mse: 23.5159\n",
            "Epoch 23/50\n",
            "1169/1169 [==============================] - 3s 2ms/step - loss: 2.1339 - mae: 2.1339 - mape: 18.2764 - mse: 23.5214\n",
            "Epoch 24/50\n",
            "1169/1169 [==============================] - 3s 2ms/step - loss: 2.1325 - mae: 2.1325 - mape: 18.2354 - mse: 23.4691\n",
            "Epoch 25/50\n",
            "1169/1169 [==============================] - 3s 2ms/step - loss: 2.1302 - mae: 2.1302 - mape: 18.2383 - mse: 23.5000\n",
            "Epoch 26/50\n",
            "1169/1169 [==============================] - 3s 2ms/step - loss: 2.1313 - mae: 2.1313 - mape: 18.2173 - mse: 23.5760\n",
            "Epoch 27/50\n",
            "1169/1169 [==============================] - 3s 2ms/step - loss: 2.1287 - mae: 2.1287 - mape: 18.2176 - mse: 23.4564\n",
            "Epoch 28/50\n",
            "1169/1169 [==============================] - 3s 2ms/step - loss: 2.1285 - mae: 2.1285 - mape: 18.2161 - mse: 23.4523\n",
            "Epoch 29/50\n",
            "1169/1169 [==============================] - 3s 2ms/step - loss: 2.1284 - mae: 2.1284 - mape: 18.2183 - mse: 23.4608\n",
            "Epoch 30/50\n",
            "1169/1169 [==============================] - 3s 2ms/step - loss: 2.1266 - mae: 2.1266 - mape: 18.2035 - mse: 23.3725\n",
            "Epoch 31/50\n",
            "1169/1169 [==============================] - 3s 2ms/step - loss: 2.1266 - mae: 2.1266 - mape: 18.2011 - mse: 23.4009\n",
            "Epoch 32/50\n",
            "1169/1169 [==============================] - 3s 2ms/step - loss: 2.1240 - mae: 2.1240 - mape: 18.2018 - mse: 23.3104\n",
            "Epoch 33/50\n",
            "1169/1169 [==============================] - 3s 2ms/step - loss: 2.1239 - mae: 2.1239 - mape: 18.1958 - mse: 23.3853\n",
            "Epoch 34/50\n",
            "1169/1169 [==============================] - 3s 2ms/step - loss: 2.1229 - mae: 2.1229 - mape: 18.1842 - mse: 23.3548\n",
            "Epoch 35/50\n",
            "1169/1169 [==============================] - 3s 2ms/step - loss: 2.1229 - mae: 2.1229 - mape: 18.1961 - mse: 23.3321\n",
            "Epoch 36/50\n",
            "1169/1169 [==============================] - 3s 2ms/step - loss: 2.1236 - mae: 2.1236 - mape: 18.2004 - mse: 23.3096\n",
            "Epoch 37/50\n",
            "1169/1169 [==============================] - 3s 2ms/step - loss: 2.1218 - mae: 2.1218 - mape: 18.1794 - mse: 23.3266\n",
            "Epoch 38/50\n",
            "1169/1169 [==============================] - 3s 2ms/step - loss: 2.1208 - mae: 2.1208 - mape: 18.1751 - mse: 23.2955\n",
            "Epoch 39/50\n",
            "1169/1169 [==============================] - 3s 2ms/step - loss: 2.1209 - mae: 2.1209 - mape: 18.1852 - mse: 23.3354\n",
            "Epoch 40/50\n",
            "1169/1169 [==============================] - 3s 2ms/step - loss: 2.1188 - mae: 2.1188 - mape: 18.1685 - mse: 23.2473\n",
            "Epoch 41/50\n",
            "1169/1169 [==============================] - 3s 2ms/step - loss: 2.1194 - mae: 2.1194 - mape: 18.1683 - mse: 23.2755\n",
            "Epoch 42/50\n",
            "1169/1169 [==============================] - 3s 2ms/step - loss: 2.1187 - mae: 2.1187 - mape: 18.1849 - mse: 23.2656\n",
            "Epoch 43/50\n",
            "1169/1169 [==============================] - 3s 2ms/step - loss: 2.1180 - mae: 2.1180 - mape: 18.1742 - mse: 23.2384\n",
            "Epoch 44/50\n",
            "1169/1169 [==============================] - 3s 2ms/step - loss: 2.1189 - mae: 2.1189 - mape: 18.1736 - mse: 23.2603\n",
            "Epoch 45/50\n",
            "1169/1169 [==============================] - 3s 2ms/step - loss: 2.1168 - mae: 2.1168 - mape: 18.1631 - mse: 23.1539\n",
            "Epoch 46/50\n",
            "1169/1169 [==============================] - 3s 2ms/step - loss: 2.1154 - mae: 2.1154 - mape: 18.1516 - mse: 23.1902\n",
            "Epoch 47/50\n",
            "1169/1169 [==============================] - 3s 2ms/step - loss: 2.1152 - mae: 2.1152 - mape: 18.1629 - mse: 23.1977\n",
            "Epoch 48/50\n",
            "1169/1169 [==============================] - 3s 2ms/step - loss: 2.1177 - mae: 2.1177 - mape: 18.1732 - mse: 23.2178\n",
            "Epoch 49/50\n",
            "1169/1169 [==============================] - 3s 2ms/step - loss: 2.1146 - mae: 2.1146 - mape: 18.1718 - mse: 23.1425\n",
            "Epoch 50/50\n",
            "1169/1169 [==============================] - 3s 2ms/step - loss: 2.1146 - mae: 2.1146 - mape: 18.1565 - mse: 23.1505\n"
          ]
        }
      ]
    },
    {
      "cell_type": "code",
      "source": [
        "model.summary()"
      ],
      "metadata": {
        "colab": {
          "base_uri": "https://localhost:8080/"
        },
        "id": "05j3zDoT4xRa",
        "outputId": "b20d9fce-27c0-435b-9f47-60d3b3645e3c"
      },
      "execution_count": 59,
      "outputs": [
        {
          "output_type": "stream",
          "name": "stdout",
          "text": [
            "Model: \"sequential_3\"\n",
            "_________________________________________________________________\n",
            " Layer (type)                Output Shape              Param #   \n",
            "=================================================================\n",
            " dense_12 (Dense)            (None, 32)                256       \n",
            "                                                                 \n",
            " dense_13 (Dense)            (None, 64)                2112      \n",
            "                                                                 \n",
            " dense_14 (Dense)            (None, 16)                1040      \n",
            "                                                                 \n",
            " dense_15 (Dense)            (None, 8)                 136       \n",
            "                                                                 \n",
            " dense_16 (Dense)            (None, 1)                 9         \n",
            "                                                                 \n",
            "=================================================================\n",
            "Total params: 3,553\n",
            "Trainable params: 3,553\n",
            "Non-trainable params: 0\n",
            "_________________________________________________________________\n"
          ]
        }
      ]
    },
    {
      "cell_type": "code",
      "source": [
        "model.evaluate(x_test,y_test)"
      ],
      "metadata": {
        "colab": {
          "base_uri": "https://localhost:8080/"
        },
        "id": "84fG6iOg9Tkx",
        "outputId": "64a0eaf4-e2aa-4c78-bc4e-4f8da4a42e04"
      },
      "execution_count": 60,
      "outputs": [
        {
          "output_type": "stream",
          "name": "stdout",
          "text": [
            "1559/1559 [==============================] - 3s 2ms/step - loss: 2.1057 - mae: 2.1057 - mape: 18.0258 - mse: 23.2283\n"
          ]
        },
        {
          "output_type": "execute_result",
          "data": {
            "text/plain": [
              "[2.105726480484009, 2.105726480484009, 18.025768280029297, 23.22827911376953]"
            ]
          },
          "metadata": {},
          "execution_count": 60
        }
      ]
    },
    {
      "cell_type": "code",
      "source": [
        "pred=model.predict(x_test)"
      ],
      "metadata": {
        "id": "CDY0uZZO9VX_"
      },
      "execution_count": 61,
      "outputs": []
    },
    {
      "cell_type": "code",
      "source": [
        "from sklearn.metrics import mean_squared_error,r2_score,mean_absolute_percentage_error,mean_absolute_error\n",
        "print(\"MAPE: \",mean_absolute_percentage_error(y_test,pred))\n",
        "print(\"MAE: \",mean_absolute_error(y_test,pred))\n",
        "print(\"MSE: \",mean_squared_error(y_test,pred))"
      ],
      "metadata": {
        "colab": {
          "base_uri": "https://localhost:8080/"
        },
        "id": "QQ8pqndD9XJ1",
        "outputId": "f6b7295e-cdc3-4dac-d6e0-782f8d592f39"
      },
      "execution_count": 62,
      "outputs": [
        {
          "output_type": "stream",
          "name": "stdout",
          "text": [
            "MAPE:  0.1802575631761426\n",
            "MAE:  2.1057251592724144\n",
            "MSE:  23.228266746712745\n"
          ]
        }
      ]
    },
    {
      "cell_type": "code",
      "source": [
        "M4 = [mean_absolute_percentage_error(y_test,pred),mean_absolute_error(y_test,pred),mean_squared_error(y_test,pred)]\n",
        "M.append(M4)"
      ],
      "metadata": {
        "id": "O9KMy0ZL9Y2n"
      },
      "execution_count": 63,
      "outputs": []
    },
    {
      "cell_type": "markdown",
      "source": [
        "###Softmax"
      ],
      "metadata": {
        "id": "I1D7qMw_A9_O"
      }
    },
    {
      "cell_type": "code",
      "source": [
        "# Build a neural network with 4 layers\n",
        "\n",
        "tf.random.set_seed(42)\n",
        "\n",
        "# 1. Create a model\n",
        "model = tf.keras.Sequential([\n",
        "                                       tf.keras.layers.Dense(32, activation='softmax'),\n",
        "                                       tf.keras.layers.Dense(64, activation='softmax'),\n",
        "                                       tf.keras.layers.Dense(16, activation='softmax'),\n",
        "                                       tf.keras.layers.Dense(8, activation='softmax'),\n",
        "                                       tf.keras.layers.Dense(1)\n",
        "])\n",
        "# 2. Compile the model\n",
        "model.compile(loss = tf.keras.losses.mae,\n",
        "                        optimizer = tf.keras.optimizers.SGD(learning_rate=0.01),\n",
        "                        metrics = [\"mae\",\"mape\",\"mse\"]\n",
        "                        )\n",
        "\n",
        "# 3. Fitting the model\n",
        "history = model.fit(x_train, y_train, epochs = 50,batch_size = 128)"
      ],
      "metadata": {
        "colab": {
          "base_uri": "https://localhost:8080/"
        },
        "id": "1xZa1YME9cSg",
        "outputId": "9b1a508b-f03b-49c3-ed29-c4b4ebd7fec7"
      },
      "execution_count": 64,
      "outputs": [
        {
          "output_type": "stream",
          "name": "stdout",
          "text": [
            "Epoch 1/50\n",
            "1169/1169 [==============================] - 4s 3ms/step - loss: 6.8514 - mae: 6.8514 - mape: 50.1130 - mse: 134.4851\n",
            "Epoch 2/50\n",
            "1169/1169 [==============================] - 3s 3ms/step - loss: 5.3725 - mae: 5.3725 - mape: 41.9710 - mse: 101.9235\n",
            "Epoch 3/50\n",
            "1169/1169 [==============================] - 3s 3ms/step - loss: 5.3649 - mae: 5.3649 - mape: 43.4040 - mse: 100.1100\n",
            "Epoch 4/50\n",
            "1169/1169 [==============================] - 3s 3ms/step - loss: 5.3634 - mae: 5.3634 - mape: 43.8435 - mse: 99.5977\n",
            "Epoch 5/50\n",
            "1169/1169 [==============================] - 3s 3ms/step - loss: 5.3634 - mae: 5.3634 - mape: 43.8479 - mse: 99.5933\n",
            "Epoch 6/50\n",
            "1169/1169 [==============================] - 4s 3ms/step - loss: 5.3634 - mae: 5.3634 - mape: 43.8486 - mse: 99.5925\n",
            "Epoch 7/50\n",
            "1169/1169 [==============================] - 3s 2ms/step - loss: 5.3634 - mae: 5.3634 - mape: 43.8483 - mse: 99.5924\n",
            "Epoch 8/50\n",
            "1169/1169 [==============================] - 3s 3ms/step - loss: 5.3634 - mae: 5.3634 - mape: 43.8483 - mse: 99.5929\n",
            "Epoch 9/50\n",
            "1169/1169 [==============================] - 3s 3ms/step - loss: 5.3634 - mae: 5.3634 - mape: 43.8478 - mse: 99.5932\n",
            "Epoch 10/50\n",
            "1169/1169 [==============================] - 3s 2ms/step - loss: 5.3634 - mae: 5.3634 - mape: 43.8485 - mse: 99.5923\n",
            "Epoch 11/50\n",
            "1169/1169 [==============================] - 3s 3ms/step - loss: 5.3634 - mae: 5.3634 - mape: 43.8454 - mse: 99.5958\n",
            "Epoch 12/50\n",
            "1169/1169 [==============================] - 3s 3ms/step - loss: 5.3634 - mae: 5.3634 - mape: 43.8447 - mse: 99.5965\n",
            "Epoch 13/50\n",
            "1169/1169 [==============================] - 3s 3ms/step - loss: 5.3634 - mae: 5.3634 - mape: 43.8463 - mse: 99.5946\n",
            "Epoch 14/50\n",
            "1169/1169 [==============================] - 3s 2ms/step - loss: 5.3634 - mae: 5.3634 - mape: 43.8478 - mse: 99.5930\n",
            "Epoch 15/50\n",
            "1169/1169 [==============================] - 3s 2ms/step - loss: 5.3634 - mae: 5.3634 - mape: 43.8473 - mse: 99.5937\n",
            "Epoch 16/50\n",
            "1169/1169 [==============================] - 3s 2ms/step - loss: 5.3634 - mae: 5.3634 - mape: 43.8459 - mse: 99.5949\n",
            "Epoch 17/50\n",
            "1169/1169 [==============================] - 3s 3ms/step - loss: 5.3634 - mae: 5.3634 - mape: 43.8474 - mse: 99.5934\n",
            "Epoch 18/50\n",
            "1169/1169 [==============================] - 3s 2ms/step - loss: 5.3634 - mae: 5.3634 - mape: 43.8473 - mse: 99.5938\n",
            "Epoch 19/50\n",
            "1169/1169 [==============================] - 3s 2ms/step - loss: 5.3634 - mae: 5.3634 - mape: 43.8477 - mse: 99.5933\n",
            "Epoch 20/50\n",
            "1169/1169 [==============================] - 3s 2ms/step - loss: 5.3634 - mae: 5.3634 - mape: 43.8500 - mse: 99.5909\n",
            "Epoch 21/50\n",
            "1169/1169 [==============================] - 3s 2ms/step - loss: 5.3634 - mae: 5.3634 - mape: 43.8494 - mse: 99.5915\n",
            "Epoch 22/50\n",
            "1169/1169 [==============================] - 3s 3ms/step - loss: 5.3634 - mae: 5.3634 - mape: 43.8487 - mse: 99.5924\n",
            "Epoch 23/50\n",
            "1169/1169 [==============================] - 3s 2ms/step - loss: 5.3634 - mae: 5.3634 - mape: 43.8494 - mse: 99.5913\n",
            "Epoch 24/50\n",
            "1169/1169 [==============================] - 3s 3ms/step - loss: 5.3634 - mae: 5.3634 - mape: 43.8446 - mse: 99.5967\n",
            "Epoch 25/50\n",
            "1169/1169 [==============================] - 3s 2ms/step - loss: 5.3634 - mae: 5.3634 - mape: 43.8454 - mse: 99.5958\n",
            "Epoch 26/50\n",
            "1169/1169 [==============================] - 3s 3ms/step - loss: 5.3634 - mae: 5.3634 - mape: 43.8435 - mse: 99.5972\n",
            "Epoch 27/50\n",
            "1169/1169 [==============================] - 3s 2ms/step - loss: 5.3634 - mae: 5.3634 - mape: 43.8439 - mse: 99.5971\n",
            "Epoch 28/50\n",
            "1169/1169 [==============================] - 3s 2ms/step - loss: 5.3634 - mae: 5.3634 - mape: 43.8500 - mse: 99.5908\n",
            "Epoch 29/50\n",
            "1169/1169 [==============================] - 3s 3ms/step - loss: 5.3634 - mae: 5.3634 - mape: 43.8508 - mse: 99.5898\n",
            "Epoch 30/50\n",
            "1169/1169 [==============================] - 3s 2ms/step - loss: 5.3634 - mae: 5.3634 - mape: 43.8476 - mse: 99.5935\n",
            "Epoch 31/50\n",
            "1169/1169 [==============================] - 3s 3ms/step - loss: 5.3634 - mae: 5.3634 - mape: 43.8485 - mse: 99.5924\n",
            "Epoch 32/50\n",
            "1169/1169 [==============================] - 3s 3ms/step - loss: 5.3634 - mae: 5.3634 - mape: 43.8470 - mse: 99.5941\n",
            "Epoch 33/50\n",
            "1169/1169 [==============================] - 3s 2ms/step - loss: 5.3634 - mae: 5.3634 - mape: 43.8465 - mse: 99.5948\n",
            "Epoch 34/50\n",
            "1169/1169 [==============================] - 3s 3ms/step - loss: 5.3634 - mae: 5.3634 - mape: 43.8496 - mse: 99.5914\n",
            "Epoch 35/50\n",
            "1169/1169 [==============================] - 3s 3ms/step - loss: 5.3634 - mae: 5.3634 - mape: 43.8459 - mse: 99.5950\n",
            "Epoch 36/50\n",
            "1169/1169 [==============================] - 4s 4ms/step - loss: 5.3634 - mae: 5.3634 - mape: 43.8472 - mse: 99.5939\n",
            "Epoch 37/50\n",
            "1169/1169 [==============================] - 3s 2ms/step - loss: 5.3634 - mae: 5.3634 - mape: 43.8475 - mse: 99.5935\n",
            "Epoch 38/50\n",
            "1169/1169 [==============================] - 3s 2ms/step - loss: 5.3634 - mae: 5.3634 - mape: 43.8464 - mse: 99.5948\n",
            "Epoch 39/50\n",
            "1169/1169 [==============================] - 3s 2ms/step - loss: 5.3634 - mae: 5.3634 - mape: 43.8487 - mse: 99.5922\n",
            "Epoch 40/50\n",
            "1169/1169 [==============================] - 3s 3ms/step - loss: 5.3634 - mae: 5.3634 - mape: 43.8490 - mse: 99.5917\n",
            "Epoch 41/50\n",
            "1169/1169 [==============================] - 3s 3ms/step - loss: 5.3634 - mae: 5.3634 - mape: 43.8466 - mse: 99.5946\n",
            "Epoch 42/50\n",
            "1169/1169 [==============================] - 3s 3ms/step - loss: 5.3634 - mae: 5.3634 - mape: 43.8482 - mse: 99.5926\n",
            "Epoch 43/50\n",
            "1169/1169 [==============================] - 4s 4ms/step - loss: 5.3634 - mae: 5.3634 - mape: 43.8456 - mse: 99.5955\n",
            "Epoch 44/50\n",
            "1169/1169 [==============================] - 3s 2ms/step - loss: 5.3634 - mae: 5.3634 - mape: 43.8475 - mse: 99.5935\n",
            "Epoch 45/50\n",
            "1169/1169 [==============================] - 3s 3ms/step - loss: 5.3634 - mae: 5.3634 - mape: 43.8485 - mse: 99.5924\n",
            "Epoch 46/50\n",
            "1169/1169 [==============================] - 3s 3ms/step - loss: 5.3634 - mae: 5.3634 - mape: 43.8499 - mse: 99.5910\n",
            "Epoch 47/50\n",
            "1169/1169 [==============================] - 3s 3ms/step - loss: 5.3634 - mae: 5.3634 - mape: 43.8489 - mse: 99.5919\n",
            "Epoch 48/50\n",
            "1169/1169 [==============================] - 3s 2ms/step - loss: 5.3634 - mae: 5.3634 - mape: 43.8464 - mse: 99.5946\n",
            "Epoch 49/50\n",
            "1169/1169 [==============================] - 3s 3ms/step - loss: 5.3634 - mae: 5.3634 - mape: 43.8500 - mse: 99.5912\n",
            "Epoch 50/50\n",
            "1169/1169 [==============================] - 3s 3ms/step - loss: 5.3634 - mae: 5.3634 - mape: 43.8463 - mse: 99.5945\n"
          ]
        }
      ]
    },
    {
      "cell_type": "code",
      "source": [
        "model.summary()"
      ],
      "metadata": {
        "colab": {
          "base_uri": "https://localhost:8080/"
        },
        "id": "_lrK2n56DlLL",
        "outputId": "5a48cc9e-a528-41d1-830d-a27cfda1f040"
      },
      "execution_count": 65,
      "outputs": [
        {
          "output_type": "stream",
          "name": "stdout",
          "text": [
            "Model: \"sequential_4\"\n",
            "_________________________________________________________________\n",
            " Layer (type)                Output Shape              Param #   \n",
            "=================================================================\n",
            " dense_17 (Dense)            (None, 32)                256       \n",
            "                                                                 \n",
            " dense_18 (Dense)            (None, 64)                2112      \n",
            "                                                                 \n",
            " dense_19 (Dense)            (None, 16)                1040      \n",
            "                                                                 \n",
            " dense_20 (Dense)            (None, 8)                 136       \n",
            "                                                                 \n",
            " dense_21 (Dense)            (None, 1)                 9         \n",
            "                                                                 \n",
            "=================================================================\n",
            "Total params: 3,553\n",
            "Trainable params: 3,553\n",
            "Non-trainable params: 0\n",
            "_________________________________________________________________\n"
          ]
        }
      ]
    },
    {
      "cell_type": "code",
      "source": [
        "model.evaluate(x_test,y_test)"
      ],
      "metadata": {
        "colab": {
          "base_uri": "https://localhost:8080/"
        },
        "id": "a2uKTlKUDrEj",
        "outputId": "2f830a8c-b2b0-4614-e92e-a552f36d2c23"
      },
      "execution_count": 66,
      "outputs": [
        {
          "output_type": "stream",
          "name": "stdout",
          "text": [
            "1559/1559 [==============================] - 3s 2ms/step - loss: 5.3753 - mae: 5.3753 - mape: 43.9709 - mse: 100.4820\n"
          ]
        },
        {
          "output_type": "execute_result",
          "data": {
            "text/plain": [
              "[5.375333786010742, 5.375333786010742, 43.97090148925781, 100.48196411132812]"
            ]
          },
          "metadata": {},
          "execution_count": 66
        }
      ]
    },
    {
      "cell_type": "code",
      "source": [
        "pred=model.predict(x_test)"
      ],
      "metadata": {
        "id": "CDj9bBzSDy41"
      },
      "execution_count": 67,
      "outputs": []
    },
    {
      "cell_type": "code",
      "source": [
        "from sklearn.metrics import mean_squared_error,r2_score,mean_absolute_percentage_error,mean_absolute_error\n",
        "print(\"MAPE: \",mean_absolute_percentage_error(y_test,pred))\n",
        "print(\"MAE: \",mean_absolute_error(y_test,pred))\n",
        "print(\"MSE: \",mean_squared_error(y_test,pred))"
      ],
      "metadata": {
        "colab": {
          "base_uri": "https://localhost:8080/"
        },
        "id": "0lt7OsiU-OLs",
        "outputId": "736d1664-949c-41c8-87dd-a149f63ee844"
      },
      "execution_count": 68,
      "outputs": [
        {
          "output_type": "stream",
          "name": "stdout",
          "text": [
            "MAPE:  0.4397091041064003\n",
            "MAE:  5.375332331593546\n",
            "MSE:  100.48200330798059\n"
          ]
        }
      ]
    },
    {
      "cell_type": "code",
      "source": [
        "M5 = [mean_absolute_percentage_error(y_test,pred),mean_absolute_error(y_test,pred),mean_squared_error(y_test,pred)]\n",
        "M.append(M5)"
      ],
      "metadata": {
        "id": "I6Q3rOt8-P2q"
      },
      "execution_count": 69,
      "outputs": []
    },
    {
      "cell_type": "markdown",
      "source": [
        "##D: Regularization techniques"
      ],
      "metadata": {
        "id": "8RgagV4JAqRK"
      }
    },
    {
      "cell_type": "markdown",
      "source": [
        "###Early Stopping"
      ],
      "metadata": {
        "id": "jEA0HacfAyB4"
      }
    },
    {
      "cell_type": "code",
      "source": [
        "callback = tf.keras.callbacks.EarlyStopping(monitor='loss', mode='min', verbose=1,patience = 2)"
      ],
      "metadata": {
        "id": "KbWy6N5q-Sdr"
      },
      "execution_count": 70,
      "outputs": []
    },
    {
      "cell_type": "code",
      "source": [
        "# Build a neural network\n",
        "\n",
        "tf.random.set_seed(42)\n",
        "\n",
        "# 1. Create a model\n",
        "model = tf.keras.Sequential([\n",
        "                                       tf.keras.layers.Dense(16, activation='sigmoid'),\n",
        "                                       tf.keras.layers.Dense(8, activation='sigmoid'),\n",
        "                                       tf.keras.layers.Dense(1)\n",
        "])\n",
        "# 2. Compile the model\n",
        "model.compile(loss = tf.keras.losses.mae,\n",
        "                        optimizer = tf.keras.optimizers.SGD(learning_rate=0.01),\n",
        "                        metrics = [\"mae\",\"mape\",\"mse\"]\n",
        "                        )\n",
        "\n",
        "# 3. Fitting the model\n",
        "history = model.fit(x_train, y_train, epochs = 50,batch_size = 128,callbacks= [callback])"
      ],
      "metadata": {
        "colab": {
          "base_uri": "https://localhost:8080/"
        },
        "id": "k5PIf6aTCgJA",
        "outputId": "e1b6f4e7-89e9-4cf8-81ed-a006606da88e"
      },
      "execution_count": 71,
      "outputs": [
        {
          "output_type": "stream",
          "name": "stdout",
          "text": [
            "Epoch 1/50\n",
            "1169/1169 [==============================] - 3s 2ms/step - loss: 5.8425 - mae: 5.8425 - mape: 45.8772 - mse: 110.6135\n",
            "Epoch 2/50\n",
            "1169/1169 [==============================] - 2s 2ms/step - loss: 4.9844 - mae: 4.9844 - mape: 39.3222 - mse: 91.1625\n",
            "Epoch 3/50\n",
            "1169/1169 [==============================] - 2s 2ms/step - loss: 3.7019 - mae: 3.7019 - mape: 26.4319 - mse: 66.0593\n",
            "Epoch 4/50\n",
            "1169/1169 [==============================] - 2s 2ms/step - loss: 3.0871 - mae: 3.0871 - mape: 21.7359 - mse: 50.9137\n",
            "Epoch 5/50\n",
            "1169/1169 [==============================] - 2s 2ms/step - loss: 2.9561 - mae: 2.9561 - mape: 21.7532 - mse: 45.3181\n",
            "Epoch 6/50\n",
            "1169/1169 [==============================] - 2s 2ms/step - loss: 2.8648 - mae: 2.8648 - mape: 21.7853 - mse: 41.5699\n",
            "Epoch 7/50\n",
            "1169/1169 [==============================] - 2s 2ms/step - loss: 2.7904 - mae: 2.7904 - mape: 21.6575 - mse: 38.8468\n",
            "Epoch 8/50\n",
            "1169/1169 [==============================] - 2s 2ms/step - loss: 2.7253 - mae: 2.7253 - mape: 21.3815 - mse: 36.7270\n",
            "Epoch 9/50\n",
            "1169/1169 [==============================] - 2s 2ms/step - loss: 2.6660 - mae: 2.6660 - mape: 21.0093 - mse: 35.0217\n",
            "Epoch 10/50\n",
            "1169/1169 [==============================] - 2s 2ms/step - loss: 2.6127 - mae: 2.6127 - mape: 20.6240 - mse: 33.5654\n",
            "Epoch 11/50\n",
            "1169/1169 [==============================] - 2s 2ms/step - loss: 2.5655 - mae: 2.5655 - mape: 20.2847 - mse: 32.3036\n",
            "Epoch 12/50\n",
            "1169/1169 [==============================] - 2s 2ms/step - loss: 2.5256 - mae: 2.5256 - mape: 19.9988 - mse: 31.2205\n",
            "Epoch 13/50\n",
            "1169/1169 [==============================] - 2s 2ms/step - loss: 2.4923 - mae: 2.4923 - mape: 19.7816 - mse: 30.3278\n",
            "Epoch 14/50\n",
            "1169/1169 [==============================] - 2s 2ms/step - loss: 2.4660 - mae: 2.4660 - mape: 19.6378 - mse: 29.5321\n",
            "Epoch 15/50\n",
            "1169/1169 [==============================] - 2s 2ms/step - loss: 2.4449 - mae: 2.4449 - mape: 19.5478 - mse: 28.8765\n",
            "Epoch 16/50\n",
            "1169/1169 [==============================] - 2s 2ms/step - loss: 2.4273 - mae: 2.4273 - mape: 19.4814 - mse: 28.3230\n",
            "Epoch 17/50\n",
            "1169/1169 [==============================] - 2s 2ms/step - loss: 2.4124 - mae: 2.4124 - mape: 19.4526 - mse: 27.8490\n",
            "Epoch 18/50\n",
            "1169/1169 [==============================] - 2s 2ms/step - loss: 2.3991 - mae: 2.3991 - mape: 19.4273 - mse: 27.4409\n",
            "Epoch 19/50\n",
            "1169/1169 [==============================] - 2s 2ms/step - loss: 2.3866 - mae: 2.3866 - mape: 19.4002 - mse: 27.0914\n",
            "Epoch 20/50\n",
            "1169/1169 [==============================] - 2s 2ms/step - loss: 2.3755 - mae: 2.3755 - mape: 19.3774 - mse: 26.7783\n",
            "Epoch 21/50\n",
            "1169/1169 [==============================] - 2s 2ms/step - loss: 2.3650 - mae: 2.3650 - mape: 19.3673 - mse: 26.5024\n",
            "Epoch 22/50\n",
            "1169/1169 [==============================] - 2s 2ms/step - loss: 2.3551 - mae: 2.3551 - mape: 19.3501 - mse: 26.2649\n",
            "Epoch 23/50\n",
            "1169/1169 [==============================] - 2s 2ms/step - loss: 2.3460 - mae: 2.3460 - mape: 19.3455 - mse: 26.0506\n",
            "Epoch 24/50\n",
            "1169/1169 [==============================] - 2s 2ms/step - loss: 2.3375 - mae: 2.3375 - mape: 19.3312 - mse: 25.8671\n",
            "Epoch 25/50\n",
            "1169/1169 [==============================] - 2s 2ms/step - loss: 2.3298 - mae: 2.3298 - mape: 19.3136 - mse: 25.7241\n",
            "Epoch 26/50\n",
            "1169/1169 [==============================] - 2s 2ms/step - loss: 2.3236 - mae: 2.3236 - mape: 19.3021 - mse: 25.5967\n",
            "Epoch 27/50\n",
            "1169/1169 [==============================] - 2s 2ms/step - loss: 2.3180 - mae: 2.3180 - mape: 19.2871 - mse: 25.4879\n",
            "Epoch 28/50\n",
            "1169/1169 [==============================] - 2s 2ms/step - loss: 2.3129 - mae: 2.3129 - mape: 19.2667 - mse: 25.3984\n",
            "Epoch 29/50\n",
            "1169/1169 [==============================] - 2s 2ms/step - loss: 2.3081 - mae: 2.3081 - mape: 19.2624 - mse: 25.3028\n",
            "Epoch 30/50\n",
            "1169/1169 [==============================] - 2s 2ms/step - loss: 2.3029 - mae: 2.3029 - mape: 19.2484 - mse: 25.2196\n",
            "Epoch 31/50\n",
            "1169/1169 [==============================] - 3s 2ms/step - loss: 2.2981 - mae: 2.2981 - mape: 19.2277 - mse: 25.1490\n",
            "Epoch 32/50\n",
            "1169/1169 [==============================] - 2s 2ms/step - loss: 2.2933 - mae: 2.2933 - mape: 19.2143 - mse: 25.0674\n",
            "Epoch 33/50\n",
            "1169/1169 [==============================] - 2s 2ms/step - loss: 2.2881 - mae: 2.2881 - mape: 19.1959 - mse: 24.9963\n",
            "Epoch 34/50\n",
            "1169/1169 [==============================] - 2s 2ms/step - loss: 2.2828 - mae: 2.2828 - mape: 19.1775 - mse: 24.9255\n",
            "Epoch 35/50\n",
            "1169/1169 [==============================] - 2s 2ms/step - loss: 2.2772 - mae: 2.2772 - mape: 19.1542 - mse: 24.8583\n",
            "Epoch 36/50\n",
            "1169/1169 [==============================] - 2s 2ms/step - loss: 2.2718 - mae: 2.2718 - mape: 19.1371 - mse: 24.7802\n",
            "Epoch 37/50\n",
            "1169/1169 [==============================] - 2s 2ms/step - loss: 2.2660 - mae: 2.2660 - mape: 19.0947 - mse: 24.7237\n",
            "Epoch 38/50\n",
            "1169/1169 [==============================] - 2s 2ms/step - loss: 2.2599 - mae: 2.2599 - mape: 19.0591 - mse: 24.6644\n",
            "Epoch 39/50\n",
            "1169/1169 [==============================] - 2s 2ms/step - loss: 2.2533 - mae: 2.2533 - mape: 19.0171 - mse: 24.5872\n",
            "Epoch 40/50\n",
            "1169/1169 [==============================] - 2s 2ms/step - loss: 2.2469 - mae: 2.2469 - mape: 18.9784 - mse: 24.5230\n",
            "Epoch 41/50\n",
            "1169/1169 [==============================] - 2s 2ms/step - loss: 2.2404 - mae: 2.2404 - mape: 18.9345 - mse: 24.4560\n",
            "Epoch 42/50\n",
            "1169/1169 [==============================] - 2s 2ms/step - loss: 2.2336 - mae: 2.2336 - mape: 18.8997 - mse: 24.3818\n",
            "Epoch 43/50\n",
            "1169/1169 [==============================] - 2s 2ms/step - loss: 2.2275 - mae: 2.2275 - mape: 18.8552 - mse: 24.3275\n",
            "Epoch 44/50\n",
            "1169/1169 [==============================] - 2s 2ms/step - loss: 2.2218 - mae: 2.2218 - mape: 18.8264 - mse: 24.2659\n",
            "Epoch 45/50\n",
            "1169/1169 [==============================] - 2s 2ms/step - loss: 2.2165 - mae: 2.2165 - mape: 18.8046 - mse: 24.2023\n",
            "Epoch 46/50\n",
            "1169/1169 [==============================] - 2s 2ms/step - loss: 2.2123 - mae: 2.2123 - mape: 18.7869 - mse: 24.1533\n",
            "Epoch 47/50\n",
            "1169/1169 [==============================] - 2s 2ms/step - loss: 2.2085 - mae: 2.2085 - mape: 18.7660 - mse: 24.1156\n",
            "Epoch 48/50\n",
            "1169/1169 [==============================] - 2s 2ms/step - loss: 2.2053 - mae: 2.2053 - mape: 18.7501 - mse: 24.0811\n",
            "Epoch 49/50\n",
            "1169/1169 [==============================] - 5s 4ms/step - loss: 2.2030 - mae: 2.2030 - mape: 18.7448 - mse: 24.0404\n",
            "Epoch 50/50\n",
            "1169/1169 [==============================] - 3s 2ms/step - loss: 2.2007 - mae: 2.2007 - mape: 18.7384 - mse: 24.0164\n"
          ]
        }
      ]
    },
    {
      "cell_type": "code",
      "source": [
        "model.summary()"
      ],
      "metadata": {
        "colab": {
          "base_uri": "https://localhost:8080/"
        },
        "id": "hiMo5QngEEOR",
        "outputId": "84961edf-f18f-409b-a457-d293c9a3e1c6"
      },
      "execution_count": 72,
      "outputs": [
        {
          "output_type": "stream",
          "name": "stdout",
          "text": [
            "Model: \"sequential_5\"\n",
            "_________________________________________________________________\n",
            " Layer (type)                Output Shape              Param #   \n",
            "=================================================================\n",
            " dense_22 (Dense)            (None, 16)                128       \n",
            "                                                                 \n",
            " dense_23 (Dense)            (None, 8)                 136       \n",
            "                                                                 \n",
            " dense_24 (Dense)            (None, 1)                 9         \n",
            "                                                                 \n",
            "=================================================================\n",
            "Total params: 273\n",
            "Trainable params: 273\n",
            "Non-trainable params: 0\n",
            "_________________________________________________________________\n"
          ]
        }
      ]
    },
    {
      "cell_type": "code",
      "source": [
        "model.evaluate(x_test,y_test)"
      ],
      "metadata": {
        "colab": {
          "base_uri": "https://localhost:8080/"
        },
        "id": "3Fky84iXEKkj",
        "outputId": "20481b4a-271e-44fb-fd0f-6be78dd56808"
      },
      "execution_count": 73,
      "outputs": [
        {
          "output_type": "stream",
          "name": "stdout",
          "text": [
            "1559/1559 [==============================] - 3s 2ms/step - loss: 2.1863 - mae: 2.1863 - mape: 18.6684 - mse: 24.2106\n"
          ]
        },
        {
          "output_type": "execute_result",
          "data": {
            "text/plain": [
              "[2.1862690448760986,\n",
              " 2.1862690448760986,\n",
              " 18.668365478515625,\n",
              " 24.210617065429688]"
            ]
          },
          "metadata": {},
          "execution_count": 73
        }
      ]
    },
    {
      "cell_type": "code",
      "source": [
        "pred=model.predict(x_test)"
      ],
      "metadata": {
        "id": "tQ_XqUJOEMPT"
      },
      "execution_count": 74,
      "outputs": []
    },
    {
      "cell_type": "code",
      "source": [
        "print(\"MAPE: \",mean_absolute_percentage_error(y_test,pred))\n",
        "print(\"MAE: \",mean_absolute_error(y_test,pred))\n",
        "print(\"MSE: \",mean_squared_error(y_test,pred))"
      ],
      "metadata": {
        "colab": {
          "base_uri": "https://localhost:8080/"
        },
        "id": "wvOEGmB8EOeD",
        "outputId": "18696e11-4929-4001-a63a-74e90350be03"
      },
      "execution_count": 75,
      "outputs": [
        {
          "output_type": "stream",
          "name": "stdout",
          "text": [
            "MAPE:  0.1866839063760478\n",
            "MAE:  2.1862680541626744\n",
            "MSE:  24.2106039331356\n"
          ]
        }
      ]
    },
    {
      "cell_type": "code",
      "source": [
        "M6 = [mean_absolute_percentage_error(y_test,pred),mean_absolute_error(y_test,pred),mean_squared_error(y_test,pred)]\n",
        "M.append(M6)"
      ],
      "metadata": {
        "id": "0YSjy2ktEQPR"
      },
      "execution_count": 76,
      "outputs": []
    },
    {
      "cell_type": "markdown",
      "source": [
        "###dropout rate"
      ],
      "metadata": {
        "id": "jjPte7zQFxFe"
      }
    },
    {
      "cell_type": "code",
      "source": [
        "# Build a neural network\n",
        "\n",
        "tf.random.set_seed(42)\n",
        "\n",
        "# 1. Create a model\n",
        "model = tf.keras.Sequential([\n",
        "                                       tf.keras.layers.Dense(16, activation='sigmoid'),tf.keras.layers.Dropout(0.5),\n",
        "                                       tf.keras.layers.Dense(8, activation='sigmoid'),tf.keras.layers.Dropout(0.5),\n",
        "                                       tf.keras.layers.Dense(1)\n",
        "])\n",
        "# 2. Compile the model\n",
        "model.compile(loss = tf.keras.losses.mae,\n",
        "                        optimizer = tf.keras.optimizers.SGD(learning_rate=0.01),\n",
        "                        metrics = [\"mae\",\"mape\",\"mse\"]\n",
        "                        )\n",
        "\n",
        "# 3. Fitting the model\n",
        "history = model.fit(x_train, y_train, epochs = 50,batch_size = 128)"
      ],
      "metadata": {
        "colab": {
          "base_uri": "https://localhost:8080/"
        },
        "id": "K-cj-NRdHVEi",
        "outputId": "f18f4c60-dbe0-482b-bda5-44997d4fc433"
      },
      "execution_count": 77,
      "outputs": [
        {
          "output_type": "stream",
          "name": "stdout",
          "text": [
            "Epoch 1/50\n",
            "1169/1169 [==============================] - 3s 2ms/step - loss: 6.3354 - mae: 6.3354 - mape: 50.6084 - mse: 118.6775\n",
            "Epoch 2/50\n",
            "1169/1169 [==============================] - 3s 2ms/step - loss: 5.5025 - mae: 5.5025 - mape: 44.1771 - mse: 100.8738\n",
            "Epoch 3/50\n",
            "1169/1169 [==============================] - 3s 2ms/step - loss: 5.2242 - mae: 5.2242 - mape: 42.0783 - mse: 93.9133\n",
            "Epoch 4/50\n",
            "1169/1169 [==============================] - 3s 2ms/step - loss: 4.8277 - mae: 4.8277 - mape: 39.1867 - mse: 83.4713\n",
            "Epoch 5/50\n",
            "1169/1169 [==============================] - 4s 3ms/step - loss: 4.3915 - mae: 4.3915 - mape: 35.9548 - mse: 71.7598\n",
            "Epoch 6/50\n",
            "1169/1169 [==============================] - 2s 2ms/step - loss: 4.0721 - mae: 4.0721 - mape: 33.4857 - mse: 63.1313\n",
            "Epoch 7/50\n",
            "1169/1169 [==============================] - 3s 2ms/step - loss: 3.9170 - mae: 3.9170 - mape: 32.4433 - mse: 58.6570\n",
            "Epoch 8/50\n",
            "1169/1169 [==============================] - 3s 2ms/step - loss: 3.8171 - mae: 3.8171 - mape: 31.8840 - mse: 55.7384\n",
            "Epoch 9/50\n",
            "1169/1169 [==============================] - 3s 2ms/step - loss: 3.7544 - mae: 3.7544 - mape: 31.6231 - mse: 53.5104\n",
            "Epoch 10/50\n",
            "1169/1169 [==============================] - 4s 4ms/step - loss: 3.7038 - mae: 3.7038 - mape: 31.4238 - mse: 52.0270\n",
            "Epoch 11/50\n",
            "1169/1169 [==============================] - 5s 4ms/step - loss: 3.6645 - mae: 3.6645 - mape: 31.1642 - mse: 51.3352\n",
            "Epoch 12/50\n",
            "1169/1169 [==============================] - 2s 2ms/step - loss: 3.6236 - mae: 3.6236 - mape: 30.9709 - mse: 49.8852\n",
            "Epoch 13/50\n",
            "1169/1169 [==============================] - 3s 2ms/step - loss: 3.5791 - mae: 3.5791 - mape: 30.7306 - mse: 48.6993\n",
            "Epoch 14/50\n",
            "1169/1169 [==============================] - 3s 2ms/step - loss: 3.5422 - mae: 3.5422 - mape: 30.4038 - mse: 47.9932\n",
            "Epoch 15/50\n",
            "1169/1169 [==============================] - 3s 2ms/step - loss: 3.5035 - mae: 3.5035 - mape: 30.1590 - mse: 46.8208\n",
            "Epoch 16/50\n",
            "1169/1169 [==============================] - 3s 2ms/step - loss: 3.4659 - mae: 3.4659 - mape: 29.8639 - mse: 45.6172\n",
            "Epoch 17/50\n",
            "1169/1169 [==============================] - 3s 2ms/step - loss: 3.4415 - mae: 3.4415 - mape: 29.6491 - mse: 45.2766\n",
            "Epoch 18/50\n",
            "1169/1169 [==============================] - 3s 2ms/step - loss: 3.4119 - mae: 3.4119 - mape: 29.4073 - mse: 44.5697\n",
            "Epoch 19/50\n",
            "1169/1169 [==============================] - 3s 3ms/step - loss: 3.3855 - mae: 3.3855 - mape: 29.1875 - mse: 43.8408\n",
            "Epoch 20/50\n",
            "1169/1169 [==============================] - 6s 5ms/step - loss: 3.3449 - mae: 3.3449 - mape: 28.9805 - mse: 42.6095\n",
            "Epoch 21/50\n",
            "1169/1169 [==============================] - 5s 4ms/step - loss: 3.3261 - mae: 3.3261 - mape: 28.7019 - mse: 42.4708\n",
            "Epoch 22/50\n",
            "1169/1169 [==============================] - 3s 2ms/step - loss: 3.3127 - mae: 3.3127 - mape: 28.5737 - mse: 41.9856\n",
            "Epoch 23/50\n",
            "1169/1169 [==============================] - 3s 3ms/step - loss: 3.2899 - mae: 3.2899 - mape: 28.4863 - mse: 41.4108\n",
            "Epoch 24/50\n",
            "1169/1169 [==============================] - 7s 6ms/step - loss: 3.2755 - mae: 3.2755 - mape: 28.2639 - mse: 41.1931\n",
            "Epoch 25/50\n",
            "1169/1169 [==============================] - 3s 2ms/step - loss: 3.2578 - mae: 3.2578 - mape: 28.1496 - mse: 40.5386\n",
            "Epoch 26/50\n",
            "1169/1169 [==============================] - 3s 2ms/step - loss: 3.2603 - mae: 3.2603 - mape: 28.0939 - mse: 40.6795\n",
            "Epoch 27/50\n",
            "1169/1169 [==============================] - 3s 2ms/step - loss: 3.2305 - mae: 3.2305 - mape: 27.9183 - mse: 39.9297\n",
            "Epoch 28/50\n",
            "1169/1169 [==============================] - 3s 2ms/step - loss: 3.2327 - mae: 3.2327 - mape: 27.9004 - mse: 39.9146\n",
            "Epoch 29/50\n",
            "1169/1169 [==============================] - 3s 2ms/step - loss: 3.2070 - mae: 3.2070 - mape: 27.7433 - mse: 39.2804\n",
            "Epoch 30/50\n",
            "1169/1169 [==============================] - 2s 2ms/step - loss: 3.2024 - mae: 3.2024 - mape: 27.5993 - mse: 39.3852\n",
            "Epoch 31/50\n",
            "1169/1169 [==============================] - 3s 2ms/step - loss: 3.1887 - mae: 3.1887 - mape: 27.5125 - mse: 39.1443\n",
            "Epoch 32/50\n",
            "1169/1169 [==============================] - 3s 2ms/step - loss: 3.1899 - mae: 3.1899 - mape: 27.4487 - mse: 39.2083\n",
            "Epoch 33/50\n",
            "1169/1169 [==============================] - 2s 2ms/step - loss: 3.1947 - mae: 3.1947 - mape: 27.3906 - mse: 39.3388\n",
            "Epoch 34/50\n",
            "1169/1169 [==============================] - 2s 2ms/step - loss: 3.1819 - mae: 3.1819 - mape: 27.3286 - mse: 39.1722\n",
            "Epoch 35/50\n",
            "1169/1169 [==============================] - 3s 2ms/step - loss: 3.1848 - mae: 3.1848 - mape: 27.2330 - mse: 39.2325\n",
            "Epoch 36/50\n",
            "1169/1169 [==============================] - 3s 2ms/step - loss: 3.1792 - mae: 3.1792 - mape: 27.2435 - mse: 39.1781\n",
            "Epoch 37/50\n",
            "1169/1169 [==============================] - 3s 2ms/step - loss: 3.1727 - mae: 3.1727 - mape: 27.1862 - mse: 38.8818\n",
            "Epoch 38/50\n",
            "1169/1169 [==============================] - 2s 2ms/step - loss: 3.1787 - mae: 3.1787 - mape: 27.2074 - mse: 39.2408\n",
            "Epoch 39/50\n",
            "1169/1169 [==============================] - 3s 2ms/step - loss: 3.1591 - mae: 3.1591 - mape: 27.0859 - mse: 38.7148\n",
            "Epoch 40/50\n",
            "1169/1169 [==============================] - 2s 2ms/step - loss: 3.1683 - mae: 3.1683 - mape: 27.0632 - mse: 38.9903\n",
            "Epoch 41/50\n",
            "1169/1169 [==============================] - 3s 2ms/step - loss: 3.1665 - mae: 3.1665 - mape: 27.0403 - mse: 38.6115\n",
            "Epoch 42/50\n",
            "1169/1169 [==============================] - 3s 2ms/step - loss: 3.1666 - mae: 3.1666 - mape: 26.9936 - mse: 38.8671\n",
            "Epoch 43/50\n",
            "1169/1169 [==============================] - 3s 2ms/step - loss: 3.1740 - mae: 3.1740 - mape: 27.1108 - mse: 38.9764\n",
            "Epoch 44/50\n",
            "1169/1169 [==============================] - 2s 2ms/step - loss: 3.1625 - mae: 3.1625 - mape: 26.9519 - mse: 38.7624\n",
            "Epoch 45/50\n",
            "1169/1169 [==============================] - 2s 2ms/step - loss: 3.1574 - mae: 3.1574 - mape: 26.8479 - mse: 38.5681\n",
            "Epoch 46/50\n",
            "1169/1169 [==============================] - 3s 2ms/step - loss: 3.1489 - mae: 3.1489 - mape: 26.7961 - mse: 38.3088\n",
            "Epoch 47/50\n",
            "1169/1169 [==============================] - 3s 2ms/step - loss: 3.1568 - mae: 3.1568 - mape: 26.8423 - mse: 38.7214\n",
            "Epoch 48/50\n",
            "1169/1169 [==============================] - 2s 2ms/step - loss: 3.1593 - mae: 3.1593 - mape: 26.8354 - mse: 38.8560\n",
            "Epoch 49/50\n",
            "1169/1169 [==============================] - 3s 2ms/step - loss: 3.1574 - mae: 3.1574 - mape: 26.7569 - mse: 38.8726\n",
            "Epoch 50/50\n",
            "1169/1169 [==============================] - 3s 2ms/step - loss: 3.1399 - mae: 3.1399 - mape: 26.7133 - mse: 38.3835\n"
          ]
        }
      ]
    },
    {
      "cell_type": "code",
      "source": [
        "model.summary()"
      ],
      "metadata": {
        "colab": {
          "base_uri": "https://localhost:8080/"
        },
        "id": "lpwXAlohJ_hT",
        "outputId": "325ac81f-8338-4519-8464-1215dfda6073"
      },
      "execution_count": 78,
      "outputs": [
        {
          "output_type": "stream",
          "name": "stdout",
          "text": [
            "Model: \"sequential_6\"\n",
            "_________________________________________________________________\n",
            " Layer (type)                Output Shape              Param #   \n",
            "=================================================================\n",
            " dense_25 (Dense)            (None, 16)                128       \n",
            "                                                                 \n",
            " dropout (Dropout)           (None, 16)                0         \n",
            "                                                                 \n",
            " dense_26 (Dense)            (None, 8)                 136       \n",
            "                                                                 \n",
            " dropout_1 (Dropout)         (None, 8)                 0         \n",
            "                                                                 \n",
            " dense_27 (Dense)            (None, 1)                 9         \n",
            "                                                                 \n",
            "=================================================================\n",
            "Total params: 273\n",
            "Trainable params: 273\n",
            "Non-trainable params: 0\n",
            "_________________________________________________________________\n"
          ]
        }
      ]
    },
    {
      "cell_type": "code",
      "source": [
        "model.evaluate(x_test,y_test)"
      ],
      "metadata": {
        "colab": {
          "base_uri": "https://localhost:8080/"
        },
        "id": "6Mb4I9JsKDCd",
        "outputId": "3b8ab12d-a19c-46c4-f118-03c6b5927f02"
      },
      "execution_count": 79,
      "outputs": [
        {
          "output_type": "stream",
          "name": "stdout",
          "text": [
            "1559/1559 [==============================] - 3s 2ms/step - loss: 2.5389 - mae: 2.5389 - mape: 22.4721 - mse: 27.7003\n"
          ]
        },
        {
          "output_type": "execute_result",
          "data": {
            "text/plain": [
              "[2.538926124572754, 2.538926124572754, 22.47212791442871, 27.700334548950195]"
            ]
          },
          "metadata": {},
          "execution_count": 79
        }
      ]
    },
    {
      "cell_type": "code",
      "source": [
        "pred=model.predict(x_test)"
      ],
      "metadata": {
        "id": "GVKKZSksKFQy"
      },
      "execution_count": 80,
      "outputs": []
    },
    {
      "cell_type": "code",
      "source": [
        "print(\"MAPE: \",mean_absolute_percentage_error(y_test,pred))\n",
        "print(\"MAE: \",mean_absolute_error(y_test,pred))\n",
        "print(\"MSE: \",mean_squared_error(y_test,pred))"
      ],
      "metadata": {
        "colab": {
          "base_uri": "https://localhost:8080/"
        },
        "id": "wirzU9zDKG5r",
        "outputId": "7d451915-631e-40eb-9b0b-27d09eb2c3c1"
      },
      "execution_count": 81,
      "outputs": [
        {
          "output_type": "stream",
          "name": "stdout",
          "text": [
            "MAPE:  0.22472120450780256\n",
            "MAE:  2.5389262725685673\n",
            "MSE:  27.700360267577977\n"
          ]
        }
      ]
    },
    {
      "cell_type": "code",
      "source": [
        "M7 = [mean_absolute_percentage_error(y_test,pred),mean_absolute_error(y_test,pred),mean_squared_error(y_test,pred)]\n",
        "M.append(M7)"
      ],
      "metadata": {
        "id": "KOXhqx3yKI4V"
      },
      "execution_count": 82,
      "outputs": []
    },
    {
      "cell_type": "code",
      "source": [
        "M"
      ],
      "metadata": {
        "colab": {
          "base_uri": "https://localhost:8080/"
        },
        "id": "WpGHfetyKNEB",
        "outputId": "ba43999c-d1c3-4b05-847d-a820bc189040"
      },
      "execution_count": 83,
      "outputs": [
        {
          "output_type": "execute_result",
          "data": {
            "text/plain": [
              "[[0.1866839063760478, 2.1862680541626744, 24.2106039331356],\n",
              " [0.18264539853675882, 2.146690344330551, 23.830639380703868],\n",
              " [0.18235189424790307, 2.161817541811745, 24.087351900752086],\n",
              " [0.1802575631761426, 2.1057251592724144, 23.228266746712745],\n",
              " [0.4397091041064003, 5.375332331593546, 100.48200330798059],\n",
              " [0.1866839063760478, 2.1862680541626744, 24.2106039331356],\n",
              " [0.22472120450780256, 2.5389262725685673, 27.700360267577977]]"
            ]
          },
          "metadata": {},
          "execution_count": 83
        }
      ]
    },
    {
      "cell_type": "code",
      "source": [
        "# Build a neural network\n",
        "\n",
        "tf.random.set_seed(42)\n",
        "\n",
        "# 1. Create a model\n",
        "model = tf.keras.Sequential([\n",
        "                                       tf.keras.layers.Dense(16, activation='sigmoid'),tf.keras.layers.Dropout(0.2),\n",
        "                                       tf.keras.layers.Dense(8, activation='sigmoid'),tf.keras.layers.Dropout(0.2),\n",
        "                                       tf.keras.layers.Dense(1)\n",
        "])\n",
        "# 2. Compile the model\n",
        "model.compile(loss = tf.keras.losses.mae,\n",
        "                        optimizer = tf.keras.optimizers.SGD(learning_rate=0.01),\n",
        "                        metrics = [\"mae\",\"mape\",\"mse\"]\n",
        "                        )\n",
        "\n",
        "# 3. Fitting the model\n",
        "history = model.fit(x_train, y_train, epochs = 50,batch_size = 128)"
      ],
      "metadata": {
        "colab": {
          "base_uri": "https://localhost:8080/"
        },
        "id": "u92csSWnKwWk",
        "outputId": "b4516960-d485-4a24-a105-cfa1c7a4fe61"
      },
      "execution_count": 84,
      "outputs": [
        {
          "output_type": "stream",
          "name": "stdout",
          "text": [
            "Epoch 1/50\n",
            "1169/1169 [==============================] - 3s 2ms/step - loss: 6.0183 - mae: 6.0183 - mape: 47.6828 - mse: 113.1616\n",
            "Epoch 2/50\n",
            "1169/1169 [==============================] - 3s 2ms/step - loss: 5.2541 - mae: 5.2541 - mape: 42.1639 - mse: 95.5929\n",
            "Epoch 3/50\n",
            "1169/1169 [==============================] - 3s 2ms/step - loss: 4.5122 - mae: 4.5122 - mape: 35.3963 - mse: 78.4796\n",
            "Epoch 4/50\n",
            "1169/1169 [==============================] - 3s 2ms/step - loss: 3.7507 - mae: 3.7507 - mape: 29.2898 - mse: 59.9693\n",
            "Epoch 5/50\n",
            "1169/1169 [==============================] - 3s 2ms/step - loss: 3.5006 - mae: 3.5006 - mape: 27.8764 - mse: 52.3290\n",
            "Epoch 6/50\n",
            "1169/1169 [==============================] - 3s 2ms/step - loss: 3.3827 - mae: 3.3827 - mape: 27.4390 - mse: 48.1963\n",
            "Epoch 7/50\n",
            "1169/1169 [==============================] - 3s 2ms/step - loss: 3.3110 - mae: 3.3110 - mape: 27.2479 - mse: 45.4185\n",
            "Epoch 8/50\n",
            "1169/1169 [==============================] - 2s 2ms/step - loss: 3.2452 - mae: 3.2452 - mape: 27.0037 - mse: 43.5825\n",
            "Epoch 9/50\n",
            "1169/1169 [==============================] - 2s 2ms/step - loss: 3.1854 - mae: 3.1854 - mape: 26.7080 - mse: 41.8287\n",
            "Epoch 10/50\n",
            "1169/1169 [==============================] - 2s 2ms/step - loss: 3.1411 - mae: 3.1411 - mape: 26.4203 - mse: 40.6647\n",
            "Epoch 11/50\n",
            "1169/1169 [==============================] - 3s 3ms/step - loss: 3.0904 - mae: 3.0904 - mape: 26.1576 - mse: 39.1796\n",
            "Epoch 12/50\n",
            "1169/1169 [==============================] - 3s 2ms/step - loss: 3.0399 - mae: 3.0399 - mape: 25.8018 - mse: 37.8380\n",
            "Epoch 13/50\n",
            "1169/1169 [==============================] - 3s 2ms/step - loss: 3.0027 - mae: 3.0027 - mape: 25.5900 - mse: 36.8147\n",
            "Epoch 14/50\n",
            "1169/1169 [==============================] - 3s 2ms/step - loss: 2.9634 - mae: 2.9634 - mape: 25.2526 - mse: 35.9501\n",
            "Epoch 15/50\n",
            "1169/1169 [==============================] - 2s 2ms/step - loss: 2.9225 - mae: 2.9225 - mape: 24.9453 - mse: 34.9817\n",
            "Epoch 16/50\n",
            "1169/1169 [==============================] - 3s 2ms/step - loss: 2.8895 - mae: 2.8895 - mape: 24.7276 - mse: 34.1005\n",
            "Epoch 17/50\n",
            "1169/1169 [==============================] - 3s 2ms/step - loss: 2.8625 - mae: 2.8625 - mape: 24.5402 - mse: 33.3326\n",
            "Epoch 18/50\n",
            "1169/1169 [==============================] - 3s 2ms/step - loss: 2.8340 - mae: 2.8340 - mape: 24.3416 - mse: 32.8422\n",
            "Epoch 19/50\n",
            "1169/1169 [==============================] - 3s 2ms/step - loss: 2.8083 - mae: 2.8083 - mape: 24.1357 - mse: 32.1547\n",
            "Epoch 20/50\n",
            "1169/1169 [==============================] - 3s 2ms/step - loss: 2.7796 - mae: 2.7796 - mape: 23.9563 - mse: 31.6298\n",
            "Epoch 21/50\n",
            "1169/1169 [==============================] - 3s 2ms/step - loss: 2.7745 - mae: 2.7745 - mape: 23.9036 - mse: 31.5196\n",
            "Epoch 22/50\n",
            "1169/1169 [==============================] - 2s 2ms/step - loss: 2.7388 - mae: 2.7388 - mape: 23.6411 - mse: 30.8039\n",
            "Epoch 23/50\n",
            "1169/1169 [==============================] - 3s 2ms/step - loss: 2.7329 - mae: 2.7329 - mape: 23.5724 - mse: 30.6306\n",
            "Epoch 24/50\n",
            "1169/1169 [==============================] - 3s 2ms/step - loss: 2.7208 - mae: 2.7208 - mape: 23.4475 - mse: 30.4589\n",
            "Epoch 25/50\n",
            "1169/1169 [==============================] - 3s 2ms/step - loss: 2.7010 - mae: 2.7010 - mape: 23.3269 - mse: 30.0032\n",
            "Epoch 26/50\n",
            "1169/1169 [==============================] - 2s 2ms/step - loss: 2.6983 - mae: 2.6983 - mape: 23.2993 - mse: 29.9898\n",
            "Epoch 27/50\n",
            "1169/1169 [==============================] - 2s 2ms/step - loss: 2.6850 - mae: 2.6850 - mape: 23.1498 - mse: 29.7173\n",
            "Epoch 28/50\n",
            "1169/1169 [==============================] - 2s 2ms/step - loss: 2.6729 - mae: 2.6729 - mape: 23.1486 - mse: 29.4473\n",
            "Epoch 29/50\n",
            "1169/1169 [==============================] - 2s 2ms/step - loss: 2.6597 - mae: 2.6597 - mape: 23.0147 - mse: 29.1658\n",
            "Epoch 30/50\n",
            "1169/1169 [==============================] - 2s 2ms/step - loss: 2.6585 - mae: 2.6585 - mape: 22.9183 - mse: 29.3228\n",
            "Epoch 31/50\n",
            "1169/1169 [==============================] - 2s 2ms/step - loss: 2.6480 - mae: 2.6480 - mape: 22.8553 - mse: 29.1914\n",
            "Epoch 32/50\n",
            "1169/1169 [==============================] - 2s 2ms/step - loss: 2.6483 - mae: 2.6483 - mape: 22.8141 - mse: 29.1765\n",
            "Epoch 33/50\n",
            "1169/1169 [==============================] - 2s 2ms/step - loss: 2.6429 - mae: 2.6429 - mape: 22.7415 - mse: 29.0692\n",
            "Epoch 34/50\n",
            "1169/1169 [==============================] - 2s 2ms/step - loss: 2.6380 - mae: 2.6380 - mape: 22.7211 - mse: 28.9923\n",
            "Epoch 35/50\n",
            "1169/1169 [==============================] - 2s 2ms/step - loss: 2.6421 - mae: 2.6421 - mape: 22.6660 - mse: 29.2125\n",
            "Epoch 36/50\n",
            "1169/1169 [==============================] - 2s 2ms/step - loss: 2.6397 - mae: 2.6397 - mape: 22.6651 - mse: 29.2561\n",
            "Epoch 37/50\n",
            "1169/1169 [==============================] - 2s 2ms/step - loss: 2.6332 - mae: 2.6332 - mape: 22.6131 - mse: 28.9551\n",
            "Epoch 38/50\n",
            "1169/1169 [==============================] - 2s 2ms/step - loss: 2.6300 - mae: 2.6300 - mape: 22.5936 - mse: 28.9635\n",
            "Epoch 39/50\n",
            "1169/1169 [==============================] - 3s 2ms/step - loss: 2.6204 - mae: 2.6204 - mape: 22.5361 - mse: 28.8882\n",
            "Epoch 40/50\n",
            "1169/1169 [==============================] - 2s 2ms/step - loss: 2.6273 - mae: 2.6273 - mape: 22.5266 - mse: 28.9813\n",
            "Epoch 41/50\n",
            "1169/1169 [==============================] - 2s 2ms/step - loss: 2.6176 - mae: 2.6176 - mape: 22.4954 - mse: 28.6377\n",
            "Epoch 42/50\n",
            "1169/1169 [==============================] - 2s 2ms/step - loss: 2.6219 - mae: 2.6219 - mape: 22.4844 - mse: 28.8748\n",
            "Epoch 43/50\n",
            "1169/1169 [==============================] - 2s 2ms/step - loss: 2.6166 - mae: 2.6166 - mape: 22.4877 - mse: 28.7152\n",
            "Epoch 44/50\n",
            "1169/1169 [==============================] - 2s 2ms/step - loss: 2.6216 - mae: 2.6216 - mape: 22.4421 - mse: 28.9415\n",
            "Epoch 45/50\n",
            "1169/1169 [==============================] - 2s 2ms/step - loss: 2.6146 - mae: 2.6146 - mape: 22.4102 - mse: 28.6769\n",
            "Epoch 46/50\n",
            "1169/1169 [==============================] - 2s 2ms/step - loss: 2.6105 - mae: 2.6105 - mape: 22.3570 - mse: 28.6165\n",
            "Epoch 47/50\n",
            "1169/1169 [==============================] - 2s 2ms/step - loss: 2.6097 - mae: 2.6097 - mape: 22.3836 - mse: 28.5884\n",
            "Epoch 48/50\n",
            "1169/1169 [==============================] - 2s 2ms/step - loss: 2.6035 - mae: 2.6035 - mape: 22.3250 - mse: 28.5275\n",
            "Epoch 49/50\n",
            "1169/1169 [==============================] - 2s 2ms/step - loss: 2.6165 - mae: 2.6165 - mape: 22.3798 - mse: 28.8469\n",
            "Epoch 50/50\n",
            "1169/1169 [==============================] - 2s 2ms/step - loss: 2.6043 - mae: 2.6043 - mape: 22.3050 - mse: 28.6409\n"
          ]
        }
      ]
    },
    {
      "cell_type": "code",
      "source": [
        "model.summary()"
      ],
      "metadata": {
        "colab": {
          "base_uri": "https://localhost:8080/"
        },
        "id": "sUKMurRsLZWj",
        "outputId": "9a71b595-4eec-4f43-8fde-8c3df494c33f"
      },
      "execution_count": 85,
      "outputs": [
        {
          "output_type": "stream",
          "name": "stdout",
          "text": [
            "Model: \"sequential_7\"\n",
            "_________________________________________________________________\n",
            " Layer (type)                Output Shape              Param #   \n",
            "=================================================================\n",
            " dense_28 (Dense)            (None, 16)                128       \n",
            "                                                                 \n",
            " dropout_2 (Dropout)         (None, 16)                0         \n",
            "                                                                 \n",
            " dense_29 (Dense)            (None, 8)                 136       \n",
            "                                                                 \n",
            " dropout_3 (Dropout)         (None, 8)                 0         \n",
            "                                                                 \n",
            " dense_30 (Dense)            (None, 1)                 9         \n",
            "                                                                 \n",
            "=================================================================\n",
            "Total params: 273\n",
            "Trainable params: 273\n",
            "Non-trainable params: 0\n",
            "_________________________________________________________________\n"
          ]
        }
      ]
    },
    {
      "cell_type": "code",
      "source": [
        "model.evaluate(x_test,y_test)"
      ],
      "metadata": {
        "colab": {
          "base_uri": "https://localhost:8080/"
        },
        "id": "v-U6pv-1MMIe",
        "outputId": "1220d77d-2429-40bf-a38e-7c05771fb7b4"
      },
      "execution_count": 86,
      "outputs": [
        {
          "output_type": "stream",
          "name": "stdout",
          "text": [
            "1559/1559 [==============================] - 3s 2ms/step - loss: 2.3002 - mae: 2.3002 - mape: 20.0981 - mse: 24.9015\n"
          ]
        },
        {
          "output_type": "execute_result",
          "data": {
            "text/plain": [
              "[2.300171375274658, 2.300171375274658, 20.09807014465332, 24.90146827697754]"
            ]
          },
          "metadata": {},
          "execution_count": 86
        }
      ]
    },
    {
      "cell_type": "code",
      "source": [
        "pred=model.predict(x_test)"
      ],
      "metadata": {
        "id": "VWxeNHp8MP_r"
      },
      "execution_count": 87,
      "outputs": []
    },
    {
      "cell_type": "code",
      "source": [
        "print(\"MAPE: \",mean_absolute_percentage_error(y_test,pred))\n",
        "print(\"MAE: \",mean_absolute_error(y_test,pred))\n",
        "print(\"MSE: \",mean_squared_error(y_test,pred))"
      ],
      "metadata": {
        "colab": {
          "base_uri": "https://localhost:8080/"
        },
        "id": "FLdM7-R7MUqg",
        "outputId": "71b41fab-5f9d-468c-ab1b-170d9f70e829"
      },
      "execution_count": 88,
      "outputs": [
        {
          "output_type": "stream",
          "name": "stdout",
          "text": [
            "MAPE:  0.20098077882901572\n",
            "MAE:  2.3001717193331843\n",
            "MSE:  24.90147875115093\n"
          ]
        }
      ]
    },
    {
      "cell_type": "code",
      "source": [
        "M8 = [mean_absolute_percentage_error(y_test,pred),mean_absolute_error(y_test,pred),mean_squared_error(y_test,pred)]\n",
        "M.append(M8)"
      ],
      "metadata": {
        "id": "AW0Sa4eoMWv7"
      },
      "execution_count": 89,
      "outputs": []
    },
    {
      "cell_type": "markdown",
      "source": [
        "##E: Optimizers"
      ],
      "metadata": {
        "id": "uOcE4pHHMz6P"
      }
    },
    {
      "cell_type": "markdown",
      "source": [
        "###Adam optimizer"
      ],
      "metadata": {
        "id": "vwvev9V3OrpY"
      }
    },
    {
      "cell_type": "code",
      "source": [
        "# Build a neural network\n",
        "\n",
        "tf.random.set_seed(42)\n",
        "\n",
        "# 1. Create a model\n",
        "model = tf.keras.Sequential([\n",
        "                                       tf.keras.layers.Dense(16, activation='sigmoid'),\n",
        "                                       tf.keras.layers.Dense(8, activation='sigmoid'),\n",
        "                                       tf.keras.layers.Dense(1)\n",
        "])\n",
        "# 2. Compile the model\n",
        "model.compile(loss = tf.keras.losses.mae,\n",
        "                        optimizer = tf.keras.optimizers.Adam(learning_rate=0.01),\n",
        "                        metrics = [\"mae\",\"mape\",\"mse\"]\n",
        "                        )\n",
        "\n",
        "# 3. Fitting the model\n",
        "history = model.fit(x_train, y_train, epochs = 50,batch_size = 128)"
      ],
      "metadata": {
        "colab": {
          "base_uri": "https://localhost:8080/"
        },
        "id": "0Aw9uvRsMuU8",
        "outputId": "0cffc101-e7a7-4cd4-f117-ebaa298e5ff0"
      },
      "execution_count": 90,
      "outputs": [
        {
          "output_type": "stream",
          "name": "stdout",
          "text": [
            "Epoch 1/50\n",
            "1169/1169 [==============================] - 3s 2ms/step - loss: 3.9896 - mae: 3.9896 - mape: 27.7175 - mse: 73.4229\n",
            "Epoch 2/50\n",
            "1169/1169 [==============================] - 2s 2ms/step - loss: 2.5944 - mae: 2.5944 - mape: 19.7428 - mse: 34.6534\n",
            "Epoch 3/50\n",
            "1169/1169 [==============================] - 2s 2ms/step - loss: 2.3856 - mae: 2.3856 - mape: 19.3298 - mse: 27.3039\n",
            "Epoch 4/50\n",
            "1169/1169 [==============================] - 2s 2ms/step - loss: 2.2724 - mae: 2.2724 - mape: 19.1623 - mse: 24.7977\n",
            "Epoch 5/50\n",
            "1169/1169 [==============================] - 2s 2ms/step - loss: 2.2420 - mae: 2.2420 - mape: 19.0343 - mse: 24.3689\n",
            "Epoch 6/50\n",
            "1169/1169 [==============================] - 2s 2ms/step - loss: 2.2058 - mae: 2.2058 - mape: 18.9052 - mse: 23.8580\n",
            "Epoch 7/50\n",
            "1169/1169 [==============================] - 2s 2ms/step - loss: 2.1747 - mae: 2.1747 - mape: 18.8278 - mse: 23.2869\n",
            "Epoch 8/50\n",
            "1169/1169 [==============================] - 2s 2ms/step - loss: 2.1522 - mae: 2.1522 - mape: 18.7497 - mse: 22.8685\n",
            "Epoch 9/50\n",
            "1169/1169 [==============================] - 2s 2ms/step - loss: 2.1366 - mae: 2.1366 - mape: 18.6690 - mse: 22.5677\n",
            "Epoch 10/50\n",
            "1169/1169 [==============================] - 2s 2ms/step - loss: 2.1274 - mae: 2.1274 - mape: 18.6156 - mse: 22.4856\n",
            "Epoch 11/50\n",
            "1169/1169 [==============================] - 3s 2ms/step - loss: 2.1210 - mae: 2.1210 - mape: 18.5690 - mse: 22.3747\n",
            "Epoch 12/50\n",
            "1169/1169 [==============================] - 2s 2ms/step - loss: 2.1174 - mae: 2.1174 - mape: 18.5540 - mse: 22.3624\n",
            "Epoch 13/50\n",
            "1169/1169 [==============================] - 2s 2ms/step - loss: 2.1134 - mae: 2.1134 - mape: 18.4869 - mse: 22.3467\n",
            "Epoch 14/50\n",
            "1169/1169 [==============================] - 2s 2ms/step - loss: 2.1101 - mae: 2.1101 - mape: 18.5223 - mse: 22.2235\n",
            "Epoch 15/50\n",
            "1169/1169 [==============================] - 2s 2ms/step - loss: 2.1095 - mae: 2.1095 - mape: 18.4940 - mse: 22.2816\n",
            "Epoch 16/50\n",
            "1169/1169 [==============================] - 2s 2ms/step - loss: 2.1037 - mae: 2.1037 - mape: 18.4717 - mse: 22.1656\n",
            "Epoch 18/50\n",
            "1169/1169 [==============================] - 2s 2ms/step - loss: 2.1011 - mae: 2.1011 - mape: 18.4429 - mse: 22.1942\n",
            "Epoch 19/50\n",
            "1169/1169 [==============================] - 2s 2ms/step - loss: 2.1001 - mae: 2.1001 - mape: 18.4354 - mse: 22.1881\n",
            "Epoch 20/50\n",
            "1169/1169 [==============================] - 2s 2ms/step - loss: 2.1007 - mae: 2.1007 - mape: 18.4467 - mse: 22.1928\n",
            "Epoch 21/50\n",
            "1169/1169 [==============================] - 2s 2ms/step - loss: 2.0984 - mae: 2.0984 - mape: 18.4380 - mse: 22.1794\n",
            "Epoch 22/50\n",
            "1169/1169 [==============================] - 2s 2ms/step - loss: 2.0954 - mae: 2.0954 - mape: 18.4065 - mse: 22.1280\n",
            "Epoch 23/50\n",
            "1169/1169 [==============================] - 2s 2ms/step - loss: 2.0934 - mae: 2.0934 - mape: 18.4165 - mse: 22.1090\n",
            "Epoch 24/50\n",
            "1169/1169 [==============================] - 2s 2ms/step - loss: 2.0914 - mae: 2.0914 - mape: 18.3861 - mse: 22.1070\n",
            "Epoch 25/50\n",
            "1169/1169 [==============================] - 2s 2ms/step - loss: 2.0915 - mae: 2.0915 - mape: 18.3995 - mse: 22.1098\n",
            "Epoch 26/50\n",
            "1169/1169 [==============================] - 2s 2ms/step - loss: 2.0896 - mae: 2.0896 - mape: 18.3631 - mse: 22.1151\n",
            "Epoch 27/50\n",
            "1169/1169 [==============================] - 2s 2ms/step - loss: 2.0884 - mae: 2.0884 - mape: 18.3539 - mse: 22.0770\n",
            "Epoch 28/50\n",
            "1169/1169 [==============================] - 2s 2ms/step - loss: 2.0861 - mae: 2.0861 - mape: 18.3470 - mse: 22.0629\n",
            "Epoch 29/50\n",
            "1169/1169 [==============================] - 2s 2ms/step - loss: 2.0850 - mae: 2.0850 - mape: 18.3379 - mse: 22.0614\n",
            "Epoch 30/50\n",
            "1169/1169 [==============================] - 2s 2ms/step - loss: 2.0815 - mae: 2.0815 - mape: 18.2988 - mse: 22.0462\n",
            "Epoch 31/50\n",
            "1169/1169 [==============================] - 2s 2ms/step - loss: 2.0816 - mae: 2.0816 - mape: 18.3051 - mse: 22.0225\n",
            "Epoch 32/50\n",
            "1169/1169 [==============================] - 2s 2ms/step - loss: 2.0789 - mae: 2.0789 - mape: 18.2684 - mse: 22.0482\n",
            "Epoch 33/50\n",
            "1169/1169 [==============================] - 2s 2ms/step - loss: 2.0804 - mae: 2.0804 - mape: 18.2820 - mse: 22.0753\n",
            "Epoch 34/50\n",
            "1169/1169 [==============================] - 2s 2ms/step - loss: 2.0789 - mae: 2.0789 - mape: 18.2936 - mse: 22.0309\n",
            "Epoch 35/50\n",
            "1169/1169 [==============================] - 2s 2ms/step - loss: 2.0768 - mae: 2.0768 - mape: 18.2620 - mse: 22.0291\n",
            "Epoch 36/50\n",
            "1169/1169 [==============================] - 2s 2ms/step - loss: 2.0755 - mae: 2.0755 - mape: 18.2663 - mse: 21.9801\n",
            "Epoch 37/50\n",
            "1169/1169 [==============================] - 2s 2ms/step - loss: 2.0764 - mae: 2.0764 - mape: 18.2821 - mse: 21.9527\n",
            "Epoch 38/50\n",
            "1169/1169 [==============================] - 2s 2ms/step - loss: 2.0740 - mae: 2.0740 - mape: 18.2309 - mse: 21.9900\n",
            "Epoch 39/50\n",
            "1169/1169 [==============================] - 2s 2ms/step - loss: 2.0749 - mae: 2.0749 - mape: 18.2527 - mse: 21.9824\n",
            "Epoch 40/50\n",
            "1169/1169 [==============================] - 2s 2ms/step - loss: 2.0742 - mae: 2.0742 - mape: 18.2338 - mse: 22.0153\n",
            "Epoch 41/50\n",
            "1169/1169 [==============================] - 2s 2ms/step - loss: 2.0742 - mae: 2.0742 - mape: 18.2529 - mse: 21.9883\n",
            "Epoch 42/50\n",
            "1169/1169 [==============================] - 2s 2ms/step - loss: 2.0731 - mae: 2.0731 - mape: 18.2362 - mse: 21.9870\n",
            "Epoch 43/50\n",
            "1169/1169 [==============================] - 2s 2ms/step - loss: 2.0733 - mae: 2.0733 - mape: 18.2384 - mse: 21.9832\n",
            "Epoch 44/50\n",
            "1169/1169 [==============================] - 2s 2ms/step - loss: 2.0736 - mae: 2.0736 - mape: 18.2347 - mse: 21.9871\n",
            "Epoch 45/50\n",
            "1169/1169 [==============================] - 2s 2ms/step - loss: 2.0723 - mae: 2.0723 - mape: 18.2254 - mse: 21.9785\n",
            "Epoch 46/50\n",
            "1169/1169 [==============================] - 2s 2ms/step - loss: 2.0726 - mae: 2.0726 - mape: 18.2498 - mse: 21.9548\n",
            "Epoch 47/50\n",
            "1169/1169 [==============================] - 2s 2ms/step - loss: 2.0715 - mae: 2.0715 - mape: 18.2223 - mse: 21.9546\n",
            "Epoch 48/50\n",
            "1169/1169 [==============================] - 2s 2ms/step - loss: 2.0736 - mae: 2.0736 - mape: 18.2273 - mse: 22.0177\n",
            "Epoch 49/50\n",
            "1169/1169 [==============================] - 2s 2ms/step - loss: 2.0707 - mae: 2.0707 - mape: 18.2049 - mse: 21.9568\n",
            "Epoch 50/50\n",
            "1169/1169 [==============================] - 2s 2ms/step - loss: 2.0720 - mae: 2.0720 - mape: 18.2206 - mse: 21.9959\n"
          ]
        }
      ]
    },
    {
      "cell_type": "code",
      "source": [
        "model.summary()"
      ],
      "metadata": {
        "colab": {
          "base_uri": "https://localhost:8080/"
        },
        "id": "haGsxGViNdmA",
        "outputId": "f6a3db74-ed90-48f1-afbf-4370ed8afbd6"
      },
      "execution_count": 91,
      "outputs": [
        {
          "output_type": "stream",
          "name": "stdout",
          "text": [
            "Model: \"sequential_8\"\n",
            "_________________________________________________________________\n",
            " Layer (type)                Output Shape              Param #   \n",
            "=================================================================\n",
            " dense_31 (Dense)            (None, 16)                128       \n",
            "                                                                 \n",
            " dense_32 (Dense)            (None, 8)                 136       \n",
            "                                                                 \n",
            " dense_33 (Dense)            (None, 1)                 9         \n",
            "                                                                 \n",
            "=================================================================\n",
            "Total params: 273\n",
            "Trainable params: 273\n",
            "Non-trainable params: 0\n",
            "_________________________________________________________________\n"
          ]
        }
      ]
    },
    {
      "cell_type": "code",
      "source": [
        "model.evaluate(x_test,y_test)"
      ],
      "metadata": {
        "colab": {
          "base_uri": "https://localhost:8080/"
        },
        "id": "8TeePahlN0bu",
        "outputId": "38ad3546-a80c-4087-91c6-4132c04867f2"
      },
      "execution_count": 92,
      "outputs": [
        {
          "output_type": "stream",
          "name": "stdout",
          "text": [
            "1559/1559 [==============================] - 3s 2ms/step - loss: 2.0595 - mae: 2.0595 - mape: 18.0603 - mse: 22.3911\n"
          ]
        },
        {
          "output_type": "execute_result",
          "data": {
            "text/plain": [
              "[2.0595481395721436, 2.0595481395721436, 18.060348510742188, 22.39114761352539]"
            ]
          },
          "metadata": {},
          "execution_count": 92
        }
      ]
    },
    {
      "cell_type": "code",
      "source": [
        "pred=model.predict(x_test)"
      ],
      "metadata": {
        "id": "B3_aBYqzN2ku"
      },
      "execution_count": 93,
      "outputs": []
    },
    {
      "cell_type": "code",
      "source": [
        "print(\"MAPE: \",mean_absolute_percentage_error(y_test,pred))\n",
        "print(\"MAE: \",mean_absolute_error(y_test,pred))\n",
        "print(\"MSE: \",mean_squared_error(y_test,pred))"
      ],
      "metadata": {
        "colab": {
          "base_uri": "https://localhost:8080/"
        },
        "id": "k1ZZ0lP1N4KO",
        "outputId": "4d3aa892-0899-4aa2-8ed0-cf70a9c54f99"
      },
      "execution_count": 94,
      "outputs": [
        {
          "output_type": "stream",
          "name": "stdout",
          "text": [
            "MAPE:  0.18060356631057936\n",
            "MAE:  2.059547945255552\n",
            "MSE:  22.39115159029799\n"
          ]
        }
      ]
    },
    {
      "cell_type": "code",
      "source": [
        "M9 = [mean_absolute_percentage_error(y_test,pred),mean_absolute_error(y_test,pred),mean_squared_error(y_test,pred)]\n",
        "M.append(M9)"
      ],
      "metadata": {
        "id": "4_xvLCzkN6GL"
      },
      "execution_count": 95,
      "outputs": []
    },
    {
      "cell_type": "markdown",
      "source": [
        "###Adamax optimizer"
      ],
      "metadata": {
        "id": "T8SsdMlmQtIw"
      }
    },
    {
      "cell_type": "code",
      "source": [
        "# Build a neural network\n",
        "\n",
        "tf.random.set_seed(42)\n",
        "\n",
        "# 1. Create a model\n",
        "model = tf.keras.Sequential([\n",
        "                                       tf.keras.layers.Dense(16, activation='sigmoid'),\n",
        "                                       tf.keras.layers.Dense(8, activation='sigmoid'),\n",
        "                                       tf.keras.layers.Dense(1)\n",
        "])\n",
        "# 2. Compile the model\n",
        "model.compile(loss = tf.keras.losses.mae,\n",
        "                        optimizer = tf.keras.optimizers.Adamax(learning_rate=0.01),\n",
        "                        metrics = [\"mae\",\"mape\",\"mse\"]\n",
        "                        )\n",
        "\n",
        "# 3. Fitting the model\n",
        "history = model.fit(x_train, y_train, epochs = 50,batch_size = 128)"
      ],
      "metadata": {
        "colab": {
          "base_uri": "https://localhost:8080/"
        },
        "id": "l0ca9oj4Qn-Y",
        "outputId": "6a165864-093a-4811-eb55-d98040641987"
      },
      "execution_count": 96,
      "outputs": [
        {
          "output_type": "stream",
          "name": "stdout",
          "text": [
            "Epoch 1/50\n",
            "1169/1169 [==============================] - 3s 2ms/step - loss: 4.4535 - mae: 4.4535 - mape: 31.1731 - mse: 84.4764\n",
            "Epoch 2/50\n",
            "1169/1169 [==============================] - 2s 2ms/step - loss: 2.7400 - mae: 2.7400 - mape: 20.1169 - mse: 40.0467\n",
            "Epoch 3/50\n",
            "1169/1169 [==============================] - 2s 2ms/step - loss: 2.4459 - mae: 2.4459 - mape: 19.4710 - mse: 29.0457\n",
            "Epoch 4/50\n",
            "1169/1169 [==============================] - 2s 2ms/step - loss: 2.3155 - mae: 2.3155 - mape: 19.1835 - mse: 25.6104\n",
            "Epoch 5/50\n",
            "1169/1169 [==============================] - 2s 2ms/step - loss: 2.2634 - mae: 2.2634 - mape: 19.0798 - mse: 24.6833\n",
            "Epoch 6/50\n",
            "1169/1169 [==============================] - 3s 2ms/step - loss: 2.2545 - mae: 2.2545 - mape: 19.0711 - mse: 24.5184\n",
            "Epoch 7/50\n",
            "1169/1169 [==============================] - 2s 2ms/step - loss: 2.2489 - mae: 2.2489 - mape: 19.0517 - mse: 24.4645\n",
            "Epoch 8/50\n",
            "1169/1169 [==============================] - 2s 2ms/step - loss: 2.2451 - mae: 2.2451 - mape: 19.0384 - mse: 24.4234\n",
            "Epoch 9/50\n",
            "1169/1169 [==============================] - 2s 2ms/step - loss: 2.2420 - mae: 2.2420 - mape: 19.0228 - mse: 24.3867\n",
            "Epoch 10/50\n",
            "1169/1169 [==============================] - 2s 2ms/step - loss: 2.2399 - mae: 2.2399 - mape: 19.0026 - mse: 24.3711\n",
            "Epoch 11/50\n",
            "1169/1169 [==============================] - 2s 2ms/step - loss: 2.2377 - mae: 2.2377 - mape: 19.0095 - mse: 24.3205\n",
            "Epoch 12/50\n",
            "1169/1169 [==============================] - 2s 2ms/step - loss: 2.2366 - mae: 2.2366 - mape: 18.9848 - mse: 24.3499\n",
            "Epoch 13/50\n",
            "1169/1169 [==============================] - 2s 2ms/step - loss: 2.2336 - mae: 2.2336 - mape: 18.9764 - mse: 24.2894\n",
            "Epoch 14/50\n",
            "1169/1169 [==============================] - 2s 2ms/step - loss: 2.2322 - mae: 2.2322 - mape: 18.9584 - mse: 24.2810\n",
            "Epoch 15/50\n",
            "1169/1169 [==============================] - 2s 2ms/step - loss: 2.2302 - mae: 2.2302 - mape: 18.9447 - mse: 24.2574\n",
            "Epoch 16/50\n",
            "1169/1169 [==============================] - 2s 2ms/step - loss: 2.2259 - mae: 2.2259 - mape: 18.9274 - mse: 24.2052\n",
            "Epoch 17/50\n",
            "1169/1169 [==============================] - 2s 2ms/step - loss: 2.2223 - mae: 2.2223 - mape: 18.8971 - mse: 24.1912\n",
            "Epoch 18/50\n",
            "1169/1169 [==============================] - 2s 2ms/step - loss: 2.2191 - mae: 2.2191 - mape: 18.8804 - mse: 24.1665\n",
            "Epoch 19/50\n",
            "1169/1169 [==============================] - 2s 2ms/step - loss: 2.2163 - mae: 2.2163 - mape: 18.8557 - mse: 24.1392\n",
            "Epoch 20/50\n",
            "1169/1169 [==============================] - 2s 2ms/step - loss: 2.2122 - mae: 2.2122 - mape: 18.8214 - mse: 24.1092\n",
            "Epoch 21/50\n",
            "1169/1169 [==============================] - 2s 2ms/step - loss: 2.2090 - mae: 2.2090 - mape: 18.8034 - mse: 24.0613\n",
            "Epoch 22/50\n",
            "1169/1169 [==============================] - 2s 2ms/step - loss: 2.2052 - mae: 2.2052 - mape: 18.7925 - mse: 24.0275\n",
            "Epoch 23/50\n",
            "1169/1169 [==============================] - 2s 2ms/step - loss: 2.2016 - mae: 2.2016 - mape: 18.7687 - mse: 24.0075\n",
            "Epoch 24/50\n",
            "1169/1169 [==============================] - 2s 2ms/step - loss: 2.1872 - mae: 2.1872 - mape: 18.6535 - mse: 23.8922\n",
            "Epoch 25/50\n",
            "1169/1169 [==============================] - 2s 2ms/step - loss: 2.1751 - mae: 2.1751 - mape: 18.5679 - mse: 23.8106\n",
            "Epoch 26/50\n",
            "1169/1169 [==============================] - 3s 2ms/step - loss: 2.1682 - mae: 2.1682 - mape: 18.5289 - mse: 23.7535\n",
            "Epoch 27/50\n",
            "1169/1169 [==============================] - 2s 2ms/step - loss: 2.1644 - mae: 2.1644 - mape: 18.5254 - mse: 23.6800\n",
            "Epoch 28/50\n",
            "1169/1169 [==============================] - 2s 2ms/step - loss: 2.1583 - mae: 2.1583 - mape: 18.5186 - mse: 23.5796\n",
            "Epoch 29/50\n",
            "1169/1169 [==============================] - 2s 2ms/step - loss: 2.1537 - mae: 2.1537 - mape: 18.5059 - mse: 23.5295\n",
            "Epoch 30/50\n",
            "1169/1169 [==============================] - 2s 2ms/step - loss: 2.1487 - mae: 2.1487 - mape: 18.4698 - mse: 23.4852\n",
            "Epoch 31/50\n",
            "1169/1169 [==============================] - 2s 2ms/step - loss: 2.1457 - mae: 2.1457 - mape: 18.4600 - mse: 23.4491\n",
            "Epoch 32/50\n",
            "1169/1169 [==============================] - 2s 2ms/step - loss: 2.1414 - mae: 2.1414 - mape: 18.4296 - mse: 23.3918\n",
            "Epoch 33/50\n",
            "1169/1169 [==============================] - 2s 2ms/step - loss: 2.1384 - mae: 2.1384 - mape: 18.4001 - mse: 23.3790\n",
            "Epoch 34/50\n",
            "1169/1169 [==============================] - 2s 2ms/step - loss: 2.1360 - mae: 2.1360 - mape: 18.3946 - mse: 23.3492\n",
            "Epoch 35/50\n",
            "1169/1169 [==============================] - 2s 2ms/step - loss: 2.1338 - mae: 2.1338 - mape: 18.3798 - mse: 23.3207\n",
            "Epoch 36/50\n",
            "1169/1169 [==============================] - 2s 2ms/step - loss: 2.1324 - mae: 2.1324 - mape: 18.3855 - mse: 23.2965\n",
            "Epoch 37/50\n",
            "1169/1169 [==============================] - 2s 2ms/step - loss: 2.1307 - mae: 2.1307 - mape: 18.3531 - mse: 23.2858\n",
            "Epoch 38/50\n",
            "1169/1169 [==============================] - 2s 2ms/step - loss: 2.1292 - mae: 2.1292 - mape: 18.3654 - mse: 23.2674\n",
            "Epoch 39/50\n",
            "1169/1169 [==============================] - 2s 2ms/step - loss: 2.1275 - mae: 2.1275 - mape: 18.3489 - mse: 23.2627\n",
            "Epoch 40/50\n",
            "1169/1169 [==============================] - 2s 2ms/step - loss: 2.1273 - mae: 2.1273 - mape: 18.3384 - mse: 23.2738\n",
            "Epoch 41/50\n",
            "1169/1169 [==============================] - 2s 2ms/step - loss: 2.1264 - mae: 2.1264 - mape: 18.3359 - mse: 23.2421\n",
            "Epoch 42/50\n",
            "1169/1169 [==============================] - 2s 2ms/step - loss: 2.1249 - mae: 2.1249 - mape: 18.3321 - mse: 23.2377\n",
            "Epoch 43/50\n",
            "1169/1169 [==============================] - 2s 2ms/step - loss: 2.1239 - mae: 2.1239 - mape: 18.3201 - mse: 23.2230\n",
            "Epoch 44/50\n",
            "1169/1169 [==============================] - 2s 2ms/step - loss: 2.1245 - mae: 2.1245 - mape: 18.3271 - mse: 23.2425\n",
            "Epoch 45/50\n",
            "1169/1169 [==============================] - 2s 2ms/step - loss: 2.1230 - mae: 2.1230 - mape: 18.3060 - mse: 23.2153\n",
            "Epoch 46/50\n",
            "1169/1169 [==============================] - 2s 2ms/step - loss: 2.1220 - mae: 2.1220 - mape: 18.3193 - mse: 23.2105\n",
            "Epoch 47/50\n",
            "1169/1169 [==============================] - 2s 2ms/step - loss: 2.1211 - mae: 2.1211 - mape: 18.2951 - mse: 23.2066\n",
            "Epoch 48/50\n",
            "1169/1169 [==============================] - 2s 2ms/step - loss: 2.1201 - mae: 2.1201 - mape: 18.2879 - mse: 23.2133\n",
            "Epoch 49/50\n",
            "1169/1169 [==============================] - 2s 2ms/step - loss: 2.1195 - mae: 2.1195 - mape: 18.2753 - mse: 23.1937\n",
            "Epoch 50/50\n",
            "1169/1169 [==============================] - 2s 2ms/step - loss: 2.1189 - mae: 2.1189 - mape: 18.2732 - mse: 23.2029\n"
          ]
        }
      ]
    },
    {
      "cell_type": "code",
      "source": [
        "model.summary()"
      ],
      "metadata": {
        "colab": {
          "base_uri": "https://localhost:8080/"
        },
        "id": "wFqmyVfeRFlt",
        "outputId": "4bfb3a05-4a20-4339-e08c-0c096eb9658e"
      },
      "execution_count": 97,
      "outputs": [
        {
          "output_type": "stream",
          "name": "stdout",
          "text": [
            "Model: \"sequential_9\"\n",
            "_________________________________________________________________\n",
            " Layer (type)                Output Shape              Param #   \n",
            "=================================================================\n",
            " dense_34 (Dense)            (None, 16)                128       \n",
            "                                                                 \n",
            " dense_35 (Dense)            (None, 8)                 136       \n",
            "                                                                 \n",
            " dense_36 (Dense)            (None, 1)                 9         \n",
            "                                                                 \n",
            "=================================================================\n",
            "Total params: 273\n",
            "Trainable params: 273\n",
            "Non-trainable params: 0\n",
            "_________________________________________________________________\n"
          ]
        }
      ]
    },
    {
      "cell_type": "code",
      "source": [
        "model.evaluate(x_test,y_test)"
      ],
      "metadata": {
        "colab": {
          "base_uri": "https://localhost:8080/"
        },
        "id": "Hxx9QD2mRIEe",
        "outputId": "78ff87a5-4c32-4979-c69e-116681e5d9ef"
      },
      "execution_count": 98,
      "outputs": [
        {
          "output_type": "stream",
          "name": "stdout",
          "text": [
            "1559/1559 [==============================] - 3s 2ms/step - loss: 2.1090 - mae: 2.1090 - mape: 18.2561 - mse: 23.3996\n"
          ]
        },
        {
          "output_type": "execute_result",
          "data": {
            "text/plain": [
              "[2.109041452407837, 2.109041452407837, 18.256141662597656, 23.39958381652832]"
            ]
          },
          "metadata": {},
          "execution_count": 98
        }
      ]
    },
    {
      "cell_type": "code",
      "source": [
        "pred=model.predict(x_test)"
      ],
      "metadata": {
        "id": "U9jWk3o3RN3o"
      },
      "execution_count": 99,
      "outputs": []
    },
    {
      "cell_type": "code",
      "source": [
        "print(\"MAPE: \",mean_absolute_percentage_error(y_test,pred))\n",
        "print(\"MAE: \",mean_absolute_error(y_test,pred))\n",
        "print(\"MSE: \",mean_squared_error(y_test,pred))"
      ],
      "metadata": {
        "colab": {
          "base_uri": "https://localhost:8080/"
        },
        "id": "8ahg8K8lRQO-",
        "outputId": "339aabb5-e64c-4d49-c912-a0732a58a0d1"
      },
      "execution_count": 100,
      "outputs": [
        {
          "output_type": "stream",
          "name": "stdout",
          "text": [
            "MAPE:  0.18256139673729818\n",
            "MAE:  2.1090402729649504\n",
            "MSE:  23.39958780904205\n"
          ]
        }
      ]
    },
    {
      "cell_type": "code",
      "source": [
        "M11 = [mean_absolute_percentage_error(y_test,pred),mean_absolute_error(y_test,pred),mean_squared_error(y_test,pred)]\n",
        "M.append(M11)"
      ],
      "metadata": {
        "id": "YT2sbf3URS11"
      },
      "execution_count": 101,
      "outputs": []
    },
    {
      "cell_type": "markdown",
      "source": [
        "##Confidence Intervals"
      ],
      "metadata": {
        "id": "uVcTRlj7PEJA"
      }
    },
    {
      "cell_type": "code",
      "source": [
        "table = pd.DataFrame(M,columns=[\"MAPE\",\"MAE\",\"MSE\"])"
      ],
      "metadata": {
        "id": "CdzWOxY_O9d6"
      },
      "execution_count": 102,
      "outputs": []
    },
    {
      "cell_type": "code",
      "source": [
        "table"
      ],
      "metadata": {
        "colab": {
          "base_uri": "https://localhost:8080/",
          "height": 352
        },
        "id": "m48kxWxMT5Yo",
        "outputId": "34226c12-a6d6-483e-b94a-e74331199811"
      },
      "execution_count": 103,
      "outputs": [
        {
          "output_type": "execute_result",
          "data": {
            "text/plain": [
              "       MAPE       MAE         MSE\n",
              "0  0.186684  2.186268   24.210604\n",
              "1  0.182645  2.146690   23.830639\n",
              "2  0.182352  2.161818   24.087352\n",
              "3  0.180258  2.105725   23.228267\n",
              "4  0.439709  5.375332  100.482003\n",
              "5  0.186684  2.186268   24.210604\n",
              "6  0.224721  2.538926   27.700360\n",
              "7  0.200981  2.300172   24.901479\n",
              "8  0.180604  2.059548   22.391152\n",
              "9  0.182561  2.109040   23.399588"
            ],
            "text/html": [
              "\n",
              "  <div id=\"df-bb2fa5f5-f0c9-4c2b-ab10-e8df350d496f\">\n",
              "    <div class=\"colab-df-container\">\n",
              "      <div>\n",
              "<style scoped>\n",
              "    .dataframe tbody tr th:only-of-type {\n",
              "        vertical-align: middle;\n",
              "    }\n",
              "\n",
              "    .dataframe tbody tr th {\n",
              "        vertical-align: top;\n",
              "    }\n",
              "\n",
              "    .dataframe thead th {\n",
              "        text-align: right;\n",
              "    }\n",
              "</style>\n",
              "<table border=\"1\" class=\"dataframe\">\n",
              "  <thead>\n",
              "    <tr style=\"text-align: right;\">\n",
              "      <th></th>\n",
              "      <th>MAPE</th>\n",
              "      <th>MAE</th>\n",
              "      <th>MSE</th>\n",
              "    </tr>\n",
              "  </thead>\n",
              "  <tbody>\n",
              "    <tr>\n",
              "      <th>0</th>\n",
              "      <td>0.186684</td>\n",
              "      <td>2.186268</td>\n",
              "      <td>24.210604</td>\n",
              "    </tr>\n",
              "    <tr>\n",
              "      <th>1</th>\n",
              "      <td>0.182645</td>\n",
              "      <td>2.146690</td>\n",
              "      <td>23.830639</td>\n",
              "    </tr>\n",
              "    <tr>\n",
              "      <th>2</th>\n",
              "      <td>0.182352</td>\n",
              "      <td>2.161818</td>\n",
              "      <td>24.087352</td>\n",
              "    </tr>\n",
              "    <tr>\n",
              "      <th>3</th>\n",
              "      <td>0.180258</td>\n",
              "      <td>2.105725</td>\n",
              "      <td>23.228267</td>\n",
              "    </tr>\n",
              "    <tr>\n",
              "      <th>4</th>\n",
              "      <td>0.439709</td>\n",
              "      <td>5.375332</td>\n",
              "      <td>100.482003</td>\n",
              "    </tr>\n",
              "    <tr>\n",
              "      <th>5</th>\n",
              "      <td>0.186684</td>\n",
              "      <td>2.186268</td>\n",
              "      <td>24.210604</td>\n",
              "    </tr>\n",
              "    <tr>\n",
              "      <th>6</th>\n",
              "      <td>0.224721</td>\n",
              "      <td>2.538926</td>\n",
              "      <td>27.700360</td>\n",
              "    </tr>\n",
              "    <tr>\n",
              "      <th>7</th>\n",
              "      <td>0.200981</td>\n",
              "      <td>2.300172</td>\n",
              "      <td>24.901479</td>\n",
              "    </tr>\n",
              "    <tr>\n",
              "      <th>8</th>\n",
              "      <td>0.180604</td>\n",
              "      <td>2.059548</td>\n",
              "      <td>22.391152</td>\n",
              "    </tr>\n",
              "    <tr>\n",
              "      <th>9</th>\n",
              "      <td>0.182561</td>\n",
              "      <td>2.109040</td>\n",
              "      <td>23.399588</td>\n",
              "    </tr>\n",
              "  </tbody>\n",
              "</table>\n",
              "</div>\n",
              "      <button class=\"colab-df-convert\" onclick=\"convertToInteractive('df-bb2fa5f5-f0c9-4c2b-ab10-e8df350d496f')\"\n",
              "              title=\"Convert this dataframe to an interactive table.\"\n",
              "              style=\"display:none;\">\n",
              "        \n",
              "  <svg xmlns=\"http://www.w3.org/2000/svg\" height=\"24px\"viewBox=\"0 0 24 24\"\n",
              "       width=\"24px\">\n",
              "    <path d=\"M0 0h24v24H0V0z\" fill=\"none\"/>\n",
              "    <path d=\"M18.56 5.44l.94 2.06.94-2.06 2.06-.94-2.06-.94-.94-2.06-.94 2.06-2.06.94zm-11 1L8.5 8.5l.94-2.06 2.06-.94-2.06-.94L8.5 2.5l-.94 2.06-2.06.94zm10 10l.94 2.06.94-2.06 2.06-.94-2.06-.94-.94-2.06-.94 2.06-2.06.94z\"/><path d=\"M17.41 7.96l-1.37-1.37c-.4-.4-.92-.59-1.43-.59-.52 0-1.04.2-1.43.59L10.3 9.45l-7.72 7.72c-.78.78-.78 2.05 0 2.83L4 21.41c.39.39.9.59 1.41.59.51 0 1.02-.2 1.41-.59l7.78-7.78 2.81-2.81c.8-.78.8-2.07 0-2.86zM5.41 20L4 18.59l7.72-7.72 1.47 1.35L5.41 20z\"/>\n",
              "  </svg>\n",
              "      </button>\n",
              "      \n",
              "  <style>\n",
              "    .colab-df-container {\n",
              "      display:flex;\n",
              "      flex-wrap:wrap;\n",
              "      gap: 12px;\n",
              "    }\n",
              "\n",
              "    .colab-df-convert {\n",
              "      background-color: #E8F0FE;\n",
              "      border: none;\n",
              "      border-radius: 50%;\n",
              "      cursor: pointer;\n",
              "      display: none;\n",
              "      fill: #1967D2;\n",
              "      height: 32px;\n",
              "      padding: 0 0 0 0;\n",
              "      width: 32px;\n",
              "    }\n",
              "\n",
              "    .colab-df-convert:hover {\n",
              "      background-color: #E2EBFA;\n",
              "      box-shadow: 0px 1px 2px rgba(60, 64, 67, 0.3), 0px 1px 3px 1px rgba(60, 64, 67, 0.15);\n",
              "      fill: #174EA6;\n",
              "    }\n",
              "\n",
              "    [theme=dark] .colab-df-convert {\n",
              "      background-color: #3B4455;\n",
              "      fill: #D2E3FC;\n",
              "    }\n",
              "\n",
              "    [theme=dark] .colab-df-convert:hover {\n",
              "      background-color: #434B5C;\n",
              "      box-shadow: 0px 1px 3px 1px rgba(0, 0, 0, 0.15);\n",
              "      filter: drop-shadow(0px 1px 2px rgba(0, 0, 0, 0.3));\n",
              "      fill: #FFFFFF;\n",
              "    }\n",
              "  </style>\n",
              "\n",
              "      <script>\n",
              "        const buttonEl =\n",
              "          document.querySelector('#df-bb2fa5f5-f0c9-4c2b-ab10-e8df350d496f button.colab-df-convert');\n",
              "        buttonEl.style.display =\n",
              "          google.colab.kernel.accessAllowed ? 'block' : 'none';\n",
              "\n",
              "        async function convertToInteractive(key) {\n",
              "          const element = document.querySelector('#df-bb2fa5f5-f0c9-4c2b-ab10-e8df350d496f');\n",
              "          const dataTable =\n",
              "            await google.colab.kernel.invokeFunction('convertToInteractive',\n",
              "                                                     [key], {});\n",
              "          if (!dataTable) return;\n",
              "\n",
              "          const docLinkHtml = 'Like what you see? Visit the ' +\n",
              "            '<a target=\"_blank\" href=https://colab.research.google.com/notebooks/data_table.ipynb>data table notebook</a>'\n",
              "            + ' to learn more about interactive tables.';\n",
              "          element.innerHTML = '';\n",
              "          dataTable['output_type'] = 'display_data';\n",
              "          await google.colab.output.renderOutput(dataTable, element);\n",
              "          const docLink = document.createElement('div');\n",
              "          docLink.innerHTML = docLinkHtml;\n",
              "          element.appendChild(docLink);\n",
              "        }\n",
              "      </script>\n",
              "    </div>\n",
              "  </div>\n",
              "  "
            ]
          },
          "metadata": {},
          "execution_count": 103
        }
      ]
    },
    {
      "cell_type": "code",
      "source": [
        "import numpy as np\n",
        "import scipy.stats as st\n",
        "ci = []\n",
        "for i in table.columns:\n",
        "  data=np.array(table[i].tolist())\n",
        "  # create 95% confidence interval\n",
        "  ci.append(st.t.interval(alpha=0.95, df=len(data)-1,\n",
        "                loc=np.mean(data),\n",
        "                scale=st.sem(data)))"
      ],
      "metadata": {
        "id": "ZTJ-IMfrSIpp"
      },
      "execution_count": 104,
      "outputs": []
    },
    {
      "cell_type": "code",
      "source": [
        "ci"
      ],
      "metadata": {
        "colab": {
          "base_uri": "https://localhost:8080/"
        },
        "id": "-fA-HHN0TAgx",
        "outputId": "28a9695d-23ca-48bf-87c3-2a9a06403b21"
      },
      "execution_count": 105,
      "outputs": [
        {
          "output_type": "execute_result",
          "data": {
            "text/plain": [
              "[(0.15732109261187788, 0.27211865122892137),\n",
              " (1.7919719839040749, 3.241985555187097),\n",
              " (14.562817472095045, 49.12559205200283)]"
            ]
          },
          "metadata": {},
          "execution_count": 105
        }
      ]
    },
    {
      "cell_type": "code",
      "source": [
        "confidenceintervals=pd.DataFrame({\"Min\":[ci[0][0],ci[1][0],ci[2][0]],\"Max\":[ci[0][1],ci[1][1],ci[2][1]]},index=[\"MAPE\",'MAE','MSE'])"
      ],
      "metadata": {
        "id": "8-9ebxw_T03q"
      },
      "execution_count": 106,
      "outputs": []
    },
    {
      "cell_type": "code",
      "source": [
        "confidenceintervals"
      ],
      "metadata": {
        "colab": {
          "base_uri": "https://localhost:8080/",
          "height": 140
        },
        "id": "s5_s42s4UQvE",
        "outputId": "85c8f04a-0f0f-4779-9517-420fd911b274"
      },
      "execution_count": 107,
      "outputs": [
        {
          "output_type": "execute_result",
          "data": {
            "text/plain": [
              "            Min        Max\n",
              "MAPE   0.157321   0.272119\n",
              "MAE    1.791972   3.241986\n",
              "MSE   14.562817  49.125592"
            ],
            "text/html": [
              "\n",
              "  <div id=\"df-00138a82-d1ab-48b9-84f4-0a4a2a37dc2c\">\n",
              "    <div class=\"colab-df-container\">\n",
              "      <div>\n",
              "<style scoped>\n",
              "    .dataframe tbody tr th:only-of-type {\n",
              "        vertical-align: middle;\n",
              "    }\n",
              "\n",
              "    .dataframe tbody tr th {\n",
              "        vertical-align: top;\n",
              "    }\n",
              "\n",
              "    .dataframe thead th {\n",
              "        text-align: right;\n",
              "    }\n",
              "</style>\n",
              "<table border=\"1\" class=\"dataframe\">\n",
              "  <thead>\n",
              "    <tr style=\"text-align: right;\">\n",
              "      <th></th>\n",
              "      <th>Min</th>\n",
              "      <th>Max</th>\n",
              "    </tr>\n",
              "  </thead>\n",
              "  <tbody>\n",
              "    <tr>\n",
              "      <th>MAPE</th>\n",
              "      <td>0.157321</td>\n",
              "      <td>0.272119</td>\n",
              "    </tr>\n",
              "    <tr>\n",
              "      <th>MAE</th>\n",
              "      <td>1.791972</td>\n",
              "      <td>3.241986</td>\n",
              "    </tr>\n",
              "    <tr>\n",
              "      <th>MSE</th>\n",
              "      <td>14.562817</td>\n",
              "      <td>49.125592</td>\n",
              "    </tr>\n",
              "  </tbody>\n",
              "</table>\n",
              "</div>\n",
              "      <button class=\"colab-df-convert\" onclick=\"convertToInteractive('df-00138a82-d1ab-48b9-84f4-0a4a2a37dc2c')\"\n",
              "              title=\"Convert this dataframe to an interactive table.\"\n",
              "              style=\"display:none;\">\n",
              "        \n",
              "  <svg xmlns=\"http://www.w3.org/2000/svg\" height=\"24px\"viewBox=\"0 0 24 24\"\n",
              "       width=\"24px\">\n",
              "    <path d=\"M0 0h24v24H0V0z\" fill=\"none\"/>\n",
              "    <path d=\"M18.56 5.44l.94 2.06.94-2.06 2.06-.94-2.06-.94-.94-2.06-.94 2.06-2.06.94zm-11 1L8.5 8.5l.94-2.06 2.06-.94-2.06-.94L8.5 2.5l-.94 2.06-2.06.94zm10 10l.94 2.06.94-2.06 2.06-.94-2.06-.94-.94-2.06-.94 2.06-2.06.94z\"/><path d=\"M17.41 7.96l-1.37-1.37c-.4-.4-.92-.59-1.43-.59-.52 0-1.04.2-1.43.59L10.3 9.45l-7.72 7.72c-.78.78-.78 2.05 0 2.83L4 21.41c.39.39.9.59 1.41.59.51 0 1.02-.2 1.41-.59l7.78-7.78 2.81-2.81c.8-.78.8-2.07 0-2.86zM5.41 20L4 18.59l7.72-7.72 1.47 1.35L5.41 20z\"/>\n",
              "  </svg>\n",
              "      </button>\n",
              "      \n",
              "  <style>\n",
              "    .colab-df-container {\n",
              "      display:flex;\n",
              "      flex-wrap:wrap;\n",
              "      gap: 12px;\n",
              "    }\n",
              "\n",
              "    .colab-df-convert {\n",
              "      background-color: #E8F0FE;\n",
              "      border: none;\n",
              "      border-radius: 50%;\n",
              "      cursor: pointer;\n",
              "      display: none;\n",
              "      fill: #1967D2;\n",
              "      height: 32px;\n",
              "      padding: 0 0 0 0;\n",
              "      width: 32px;\n",
              "    }\n",
              "\n",
              "    .colab-df-convert:hover {\n",
              "      background-color: #E2EBFA;\n",
              "      box-shadow: 0px 1px 2px rgba(60, 64, 67, 0.3), 0px 1px 3px 1px rgba(60, 64, 67, 0.15);\n",
              "      fill: #174EA6;\n",
              "    }\n",
              "\n",
              "    [theme=dark] .colab-df-convert {\n",
              "      background-color: #3B4455;\n",
              "      fill: #D2E3FC;\n",
              "    }\n",
              "\n",
              "    [theme=dark] .colab-df-convert:hover {\n",
              "      background-color: #434B5C;\n",
              "      box-shadow: 0px 1px 3px 1px rgba(0, 0, 0, 0.15);\n",
              "      filter: drop-shadow(0px 1px 2px rgba(0, 0, 0, 0.3));\n",
              "      fill: #FFFFFF;\n",
              "    }\n",
              "  </style>\n",
              "\n",
              "      <script>\n",
              "        const buttonEl =\n",
              "          document.querySelector('#df-00138a82-d1ab-48b9-84f4-0a4a2a37dc2c button.colab-df-convert');\n",
              "        buttonEl.style.display =\n",
              "          google.colab.kernel.accessAllowed ? 'block' : 'none';\n",
              "\n",
              "        async function convertToInteractive(key) {\n",
              "          const element = document.querySelector('#df-00138a82-d1ab-48b9-84f4-0a4a2a37dc2c');\n",
              "          const dataTable =\n",
              "            await google.colab.kernel.invokeFunction('convertToInteractive',\n",
              "                                                     [key], {});\n",
              "          if (!dataTable) return;\n",
              "\n",
              "          const docLinkHtml = 'Like what you see? Visit the ' +\n",
              "            '<a target=\"_blank\" href=https://colab.research.google.com/notebooks/data_table.ipynb>data table notebook</a>'\n",
              "            + ' to learn more about interactive tables.';\n",
              "          element.innerHTML = '';\n",
              "          dataTable['output_type'] = 'display_data';\n",
              "          await google.colab.output.renderOutput(dataTable, element);\n",
              "          const docLink = document.createElement('div');\n",
              "          docLink.innerHTML = docLinkHtml;\n",
              "          element.appendChild(docLink);\n",
              "        }\n",
              "      </script>\n",
              "    </div>\n",
              "  </div>\n",
              "  "
            ]
          },
          "metadata": {},
          "execution_count": 107
        }
      ]
    },
    {
      "cell_type": "code",
      "source": [
        "#best model is with relu activation function"
      ],
      "metadata": {
        "id": "dY3VOCZUdWRD"
      },
      "execution_count": 108,
      "outputs": []
    },
    {
      "cell_type": "code",
      "source": [
        "# Build a neural network with 4 layers\n",
        "\n",
        "tf.random.set_seed(42)\n",
        "\n",
        "# 1. Create a model\n",
        "model = tf.keras.Sequential([\n",
        "                                       tf.keras.layers.Dense(32, activation='relu'),\n",
        "                                       tf.keras.layers.Dense(64, activation='relu'),\n",
        "                                       tf.keras.layers.Dense(16, activation='relu'),\n",
        "                                       tf.keras.layers.Dense(8, activation='relu'),\n",
        "                                       tf.keras.layers.Dense(1)\n",
        "])\n",
        "# 2. Compile the model\n",
        "model.compile(loss = tf.keras.losses.mae,\n",
        "                        optimizer = tf.keras.optimizers.SGD(learning_rate=0.01),\n",
        "                        metrics = [\"mae\",\"mape\",\"mse\"]\n",
        "                        )\n",
        "\n",
        "# 3. Fitting the model\n",
        "history = model.fit(x_train, y_train, epochs = 50,batch_size = 128)"
      ],
      "metadata": {
        "colab": {
          "base_uri": "https://localhost:8080/"
        },
        "id": "v2AShVqj1tEF",
        "outputId": "c84e8b85-e5ad-43e8-d5fc-998142cc5773"
      },
      "execution_count": 109,
      "outputs": [
        {
          "output_type": "stream",
          "name": "stdout",
          "text": [
            "Epoch 1/50\n",
            "1169/1169 [==============================] - 3s 2ms/step - loss: 2.7305 - mae: 2.7305 - mape: 23.7437 - mse: 33.5150\n",
            "Epoch 2/50\n",
            "1169/1169 [==============================] - 3s 2ms/step - loss: 2.2291 - mae: 2.2291 - mape: 19.1094 - mse: 24.6559\n",
            "Epoch 3/50\n",
            "1169/1169 [==============================] - 3s 2ms/step - loss: 2.2101 - mae: 2.2101 - mape: 18.9567 - mse: 24.4145\n",
            "Epoch 4/50\n",
            "1169/1169 [==============================] - 2s 2ms/step - loss: 2.1978 - mae: 2.1978 - mape: 18.8505 - mse: 24.2588\n",
            "Epoch 5/50\n",
            "1169/1169 [==============================] - 2s 2ms/step - loss: 2.1906 - mae: 2.1906 - mape: 18.7390 - mse: 24.2018\n",
            "Epoch 6/50\n",
            "1169/1169 [==============================] - 2s 2ms/step - loss: 2.1813 - mae: 2.1813 - mape: 18.6543 - mse: 24.1180\n",
            "Epoch 7/50\n",
            "1169/1169 [==============================] - 3s 2ms/step - loss: 2.1754 - mae: 2.1754 - mape: 18.6009 - mse: 24.1046\n",
            "Epoch 8/50\n",
            "1169/1169 [==============================] - 3s 2ms/step - loss: 2.1698 - mae: 2.1698 - mape: 18.5509 - mse: 23.9987\n",
            "Epoch 9/50\n",
            "1169/1169 [==============================] - 3s 2ms/step - loss: 2.1661 - mae: 2.1661 - mape: 18.4931 - mse: 23.9899\n",
            "Epoch 10/50\n",
            "1169/1169 [==============================] - 3s 2ms/step - loss: 2.1604 - mae: 2.1604 - mape: 18.4500 - mse: 23.9386\n",
            "Epoch 11/50\n",
            "1169/1169 [==============================] - 3s 2ms/step - loss: 2.1588 - mae: 2.1588 - mape: 18.4357 - mse: 23.9100\n",
            "Epoch 12/50\n",
            "1169/1169 [==============================] - 3s 2ms/step - loss: 2.1554 - mae: 2.1554 - mape: 18.4141 - mse: 23.7993\n",
            "Epoch 13/50\n",
            "1169/1169 [==============================] - 3s 2ms/step - loss: 2.1518 - mae: 2.1518 - mape: 18.3804 - mse: 23.7589\n",
            "Epoch 14/50\n",
            "1169/1169 [==============================] - 3s 2ms/step - loss: 2.1482 - mae: 2.1482 - mape: 18.3399 - mse: 23.7989\n",
            "Epoch 15/50\n",
            "1169/1169 [==============================] - 2s 2ms/step - loss: 2.1463 - mae: 2.1463 - mape: 18.3303 - mse: 23.7720\n",
            "Epoch 16/50\n",
            "1169/1169 [==============================] - 3s 2ms/step - loss: 2.1441 - mae: 2.1441 - mape: 18.3226 - mse: 23.7225\n",
            "Epoch 17/50\n",
            "1169/1169 [==============================] - 3s 2ms/step - loss: 2.1428 - mae: 2.1428 - mape: 18.3115 - mse: 23.6642\n",
            "Epoch 18/50\n",
            "1169/1169 [==============================] - 3s 2ms/step - loss: 2.1404 - mae: 2.1404 - mape: 18.2989 - mse: 23.6530\n",
            "Epoch 19/50\n",
            "1169/1169 [==============================] - 3s 2ms/step - loss: 2.1371 - mae: 2.1371 - mape: 18.2613 - mse: 23.5543\n",
            "Epoch 20/50\n",
            "1169/1169 [==============================] - 3s 2ms/step - loss: 2.1373 - mae: 2.1373 - mape: 18.2652 - mse: 23.6141\n",
            "Epoch 21/50\n",
            "1169/1169 [==============================] - 3s 2ms/step - loss: 2.1354 - mae: 2.1354 - mape: 18.2639 - mse: 23.5503\n",
            "Epoch 22/50\n",
            "1169/1169 [==============================] - 3s 2ms/step - loss: 2.1338 - mae: 2.1338 - mape: 18.2539 - mse: 23.5159\n",
            "Epoch 23/50\n",
            "1169/1169 [==============================] - 3s 2ms/step - loss: 2.1339 - mae: 2.1339 - mape: 18.2764 - mse: 23.5214\n",
            "Epoch 24/50\n",
            "1169/1169 [==============================] - 2s 2ms/step - loss: 2.1325 - mae: 2.1325 - mape: 18.2354 - mse: 23.4691\n",
            "Epoch 25/50\n",
            "1169/1169 [==============================] - 3s 2ms/step - loss: 2.1302 - mae: 2.1302 - mape: 18.2383 - mse: 23.5000\n",
            "Epoch 26/50\n",
            "1169/1169 [==============================] - 3s 2ms/step - loss: 2.1313 - mae: 2.1313 - mape: 18.2173 - mse: 23.5760\n",
            "Epoch 27/50\n",
            "1169/1169 [==============================] - 3s 2ms/step - loss: 2.1287 - mae: 2.1287 - mape: 18.2176 - mse: 23.4564\n",
            "Epoch 28/50\n",
            "1169/1169 [==============================] - 3s 2ms/step - loss: 2.1285 - mae: 2.1285 - mape: 18.2161 - mse: 23.4523\n",
            "Epoch 29/50\n",
            "1169/1169 [==============================] - 3s 2ms/step - loss: 2.1284 - mae: 2.1284 - mape: 18.2183 - mse: 23.4608\n",
            "Epoch 30/50\n",
            "1169/1169 [==============================] - 3s 2ms/step - loss: 2.1266 - mae: 2.1266 - mape: 18.2035 - mse: 23.3725\n",
            "Epoch 31/50\n",
            "1169/1169 [==============================] - 3s 2ms/step - loss: 2.1266 - mae: 2.1266 - mape: 18.2011 - mse: 23.4009\n",
            "Epoch 32/50\n",
            "1169/1169 [==============================] - 2s 2ms/step - loss: 2.1240 - mae: 2.1240 - mape: 18.2018 - mse: 23.3104\n",
            "Epoch 33/50\n",
            "1169/1169 [==============================] - 3s 2ms/step - loss: 2.1239 - mae: 2.1239 - mape: 18.1958 - mse: 23.3853\n",
            "Epoch 34/50\n",
            "1169/1169 [==============================] - 3s 2ms/step - loss: 2.1229 - mae: 2.1229 - mape: 18.1842 - mse: 23.3548\n",
            "Epoch 35/50\n",
            "1169/1169 [==============================] - 3s 2ms/step - loss: 2.1229 - mae: 2.1229 - mape: 18.1961 - mse: 23.3321\n",
            "Epoch 36/50\n",
            "1169/1169 [==============================] - 3s 2ms/step - loss: 2.1236 - mae: 2.1236 - mape: 18.2004 - mse: 23.3096\n",
            "Epoch 37/50\n",
            "1169/1169 [==============================] - 3s 2ms/step - loss: 2.1218 - mae: 2.1218 - mape: 18.1794 - mse: 23.3266\n",
            "Epoch 38/50\n",
            "1169/1169 [==============================] - 2s 2ms/step - loss: 2.1208 - mae: 2.1208 - mape: 18.1751 - mse: 23.2955\n",
            "Epoch 39/50\n",
            "1169/1169 [==============================] - 3s 2ms/step - loss: 2.1209 - mae: 2.1209 - mape: 18.1852 - mse: 23.3354\n",
            "Epoch 40/50\n",
            "1169/1169 [==============================] - 3s 2ms/step - loss: 2.1188 - mae: 2.1188 - mape: 18.1685 - mse: 23.2473\n",
            "Epoch 41/50\n",
            "1169/1169 [==============================] - 3s 2ms/step - loss: 2.1194 - mae: 2.1194 - mape: 18.1683 - mse: 23.2755\n",
            "Epoch 42/50\n",
            "1169/1169 [==============================] - 3s 2ms/step - loss: 2.1187 - mae: 2.1187 - mape: 18.1849 - mse: 23.2656\n",
            "Epoch 43/50\n",
            "1169/1169 [==============================] - 3s 2ms/step - loss: 2.1180 - mae: 2.1180 - mape: 18.1742 - mse: 23.2384\n",
            "Epoch 44/50\n",
            "1169/1169 [==============================] - 3s 2ms/step - loss: 2.1189 - mae: 2.1189 - mape: 18.1736 - mse: 23.2603\n",
            "Epoch 45/50\n",
            "1169/1169 [==============================] - 3s 2ms/step - loss: 2.1168 - mae: 2.1168 - mape: 18.1631 - mse: 23.1539\n",
            "Epoch 46/50\n",
            "1169/1169 [==============================] - 3s 2ms/step - loss: 2.1154 - mae: 2.1154 - mape: 18.1516 - mse: 23.1902\n",
            "Epoch 47/50\n",
            "1169/1169 [==============================] - 2s 2ms/step - loss: 2.1152 - mae: 2.1152 - mape: 18.1629 - mse: 23.1977\n",
            "Epoch 48/50\n",
            "1169/1169 [==============================] - 2s 2ms/step - loss: 2.1177 - mae: 2.1177 - mape: 18.1732 - mse: 23.2178\n",
            "Epoch 49/50\n",
            "1169/1169 [==============================] - 3s 2ms/step - loss: 2.1146 - mae: 2.1146 - mape: 18.1718 - mse: 23.1425\n",
            "Epoch 50/50\n",
            "1169/1169 [==============================] - 4s 3ms/step - loss: 2.1146 - mae: 2.1146 - mape: 18.1565 - mse: 23.1505\n"
          ]
        }
      ]
    },
    {
      "cell_type": "code",
      "source": [
        "predicted = model.predict(test)"
      ],
      "metadata": {
        "id": "QSLbQX-F3q9Q"
      },
      "execution_count": 111,
      "outputs": []
    },
    {
      "cell_type": "code",
      "source": [
        "df = pd.DataFrame(predicted)"
      ],
      "metadata": {
        "id": "ODaomvl_2AdL"
      },
      "execution_count": 112,
      "outputs": []
    },
    {
      "cell_type": "code",
      "source": [
        "df.to_csv('fare_price.csv')"
      ],
      "metadata": {
        "id": "DRPxyVWC2BPX"
      },
      "execution_count": 113,
      "outputs": []
    },
    {
      "cell_type": "code",
      "source": [
        "df"
      ],
      "metadata": {
        "colab": {
          "base_uri": "https://localhost:8080/",
          "height": 411
        },
        "id": "ZHEB06Hb2JGz",
        "outputId": "decb1103-d932-4bd8-c7d0-8290f2e832ac"
      },
      "execution_count": 114,
      "outputs": [
        {
          "output_type": "execute_result",
          "data": {
            "text/plain": [
              "              0\n",
              "0     10.891207\n",
              "1     11.189842\n",
              "2      4.404061\n",
              "3      8.675081\n",
              "4     16.820322\n",
              "...         ...\n",
              "9909   8.472621\n",
              "9910  12.245282\n",
              "9911  51.627861\n",
              "9912  22.423315\n",
              "9913   5.656211\n",
              "\n",
              "[9914 rows x 1 columns]"
            ],
            "text/html": [
              "\n",
              "  <div id=\"df-9c29f552-4ac3-4f94-8772-4fde89876e31\">\n",
              "    <div class=\"colab-df-container\">\n",
              "      <div>\n",
              "<style scoped>\n",
              "    .dataframe tbody tr th:only-of-type {\n",
              "        vertical-align: middle;\n",
              "    }\n",
              "\n",
              "    .dataframe tbody tr th {\n",
              "        vertical-align: top;\n",
              "    }\n",
              "\n",
              "    .dataframe thead th {\n",
              "        text-align: right;\n",
              "    }\n",
              "</style>\n",
              "<table border=\"1\" class=\"dataframe\">\n",
              "  <thead>\n",
              "    <tr style=\"text-align: right;\">\n",
              "      <th></th>\n",
              "      <th>0</th>\n",
              "    </tr>\n",
              "  </thead>\n",
              "  <tbody>\n",
              "    <tr>\n",
              "      <th>0</th>\n",
              "      <td>10.891207</td>\n",
              "    </tr>\n",
              "    <tr>\n",
              "      <th>1</th>\n",
              "      <td>11.189842</td>\n",
              "    </tr>\n",
              "    <tr>\n",
              "      <th>2</th>\n",
              "      <td>4.404061</td>\n",
              "    </tr>\n",
              "    <tr>\n",
              "      <th>3</th>\n",
              "      <td>8.675081</td>\n",
              "    </tr>\n",
              "    <tr>\n",
              "      <th>4</th>\n",
              "      <td>16.820322</td>\n",
              "    </tr>\n",
              "    <tr>\n",
              "      <th>...</th>\n",
              "      <td>...</td>\n",
              "    </tr>\n",
              "    <tr>\n",
              "      <th>9909</th>\n",
              "      <td>8.472621</td>\n",
              "    </tr>\n",
              "    <tr>\n",
              "      <th>9910</th>\n",
              "      <td>12.245282</td>\n",
              "    </tr>\n",
              "    <tr>\n",
              "      <th>9911</th>\n",
              "      <td>51.627861</td>\n",
              "    </tr>\n",
              "    <tr>\n",
              "      <th>9912</th>\n",
              "      <td>22.423315</td>\n",
              "    </tr>\n",
              "    <tr>\n",
              "      <th>9913</th>\n",
              "      <td>5.656211</td>\n",
              "    </tr>\n",
              "  </tbody>\n",
              "</table>\n",
              "<p>9914 rows × 1 columns</p>\n",
              "</div>\n",
              "      <button class=\"colab-df-convert\" onclick=\"convertToInteractive('df-9c29f552-4ac3-4f94-8772-4fde89876e31')\"\n",
              "              title=\"Convert this dataframe to an interactive table.\"\n",
              "              style=\"display:none;\">\n",
              "        \n",
              "  <svg xmlns=\"http://www.w3.org/2000/svg\" height=\"24px\"viewBox=\"0 0 24 24\"\n",
              "       width=\"24px\">\n",
              "    <path d=\"M0 0h24v24H0V0z\" fill=\"none\"/>\n",
              "    <path d=\"M18.56 5.44l.94 2.06.94-2.06 2.06-.94-2.06-.94-.94-2.06-.94 2.06-2.06.94zm-11 1L8.5 8.5l.94-2.06 2.06-.94-2.06-.94L8.5 2.5l-.94 2.06-2.06.94zm10 10l.94 2.06.94-2.06 2.06-.94-2.06-.94-.94-2.06-.94 2.06-2.06.94z\"/><path d=\"M17.41 7.96l-1.37-1.37c-.4-.4-.92-.59-1.43-.59-.52 0-1.04.2-1.43.59L10.3 9.45l-7.72 7.72c-.78.78-.78 2.05 0 2.83L4 21.41c.39.39.9.59 1.41.59.51 0 1.02-.2 1.41-.59l7.78-7.78 2.81-2.81c.8-.78.8-2.07 0-2.86zM5.41 20L4 18.59l7.72-7.72 1.47 1.35L5.41 20z\"/>\n",
              "  </svg>\n",
              "      </button>\n",
              "      \n",
              "  <style>\n",
              "    .colab-df-container {\n",
              "      display:flex;\n",
              "      flex-wrap:wrap;\n",
              "      gap: 12px;\n",
              "    }\n",
              "\n",
              "    .colab-df-convert {\n",
              "      background-color: #E8F0FE;\n",
              "      border: none;\n",
              "      border-radius: 50%;\n",
              "      cursor: pointer;\n",
              "      display: none;\n",
              "      fill: #1967D2;\n",
              "      height: 32px;\n",
              "      padding: 0 0 0 0;\n",
              "      width: 32px;\n",
              "    }\n",
              "\n",
              "    .colab-df-convert:hover {\n",
              "      background-color: #E2EBFA;\n",
              "      box-shadow: 0px 1px 2px rgba(60, 64, 67, 0.3), 0px 1px 3px 1px rgba(60, 64, 67, 0.15);\n",
              "      fill: #174EA6;\n",
              "    }\n",
              "\n",
              "    [theme=dark] .colab-df-convert {\n",
              "      background-color: #3B4455;\n",
              "      fill: #D2E3FC;\n",
              "    }\n",
              "\n",
              "    [theme=dark] .colab-df-convert:hover {\n",
              "      background-color: #434B5C;\n",
              "      box-shadow: 0px 1px 3px 1px rgba(0, 0, 0, 0.15);\n",
              "      filter: drop-shadow(0px 1px 2px rgba(0, 0, 0, 0.3));\n",
              "      fill: #FFFFFF;\n",
              "    }\n",
              "  </style>\n",
              "\n",
              "      <script>\n",
              "        const buttonEl =\n",
              "          document.querySelector('#df-9c29f552-4ac3-4f94-8772-4fde89876e31 button.colab-df-convert');\n",
              "        buttonEl.style.display =\n",
              "          google.colab.kernel.accessAllowed ? 'block' : 'none';\n",
              "\n",
              "        async function convertToInteractive(key) {\n",
              "          const element = document.querySelector('#df-9c29f552-4ac3-4f94-8772-4fde89876e31');\n",
              "          const dataTable =\n",
              "            await google.colab.kernel.invokeFunction('convertToInteractive',\n",
              "                                                     [key], {});\n",
              "          if (!dataTable) return;\n",
              "\n",
              "          const docLinkHtml = 'Like what you see? Visit the ' +\n",
              "            '<a target=\"_blank\" href=https://colab.research.google.com/notebooks/data_table.ipynb>data table notebook</a>'\n",
              "            + ' to learn more about interactive tables.';\n",
              "          element.innerHTML = '';\n",
              "          dataTable['output_type'] = 'display_data';\n",
              "          await google.colab.output.renderOutput(dataTable, element);\n",
              "          const docLink = document.createElement('div');\n",
              "          docLink.innerHTML = docLinkHtml;\n",
              "          element.appendChild(docLink);\n",
              "        }\n",
              "      </script>\n",
              "    </div>\n",
              "  </div>\n",
              "  "
            ]
          },
          "metadata": {},
          "execution_count": 114
        }
      ]
    },
    {
      "cell_type": "code",
      "source": [],
      "metadata": {
        "id": "UzdKMcMFFBNk"
      },
      "execution_count": null,
      "outputs": []
    }
  ]
}